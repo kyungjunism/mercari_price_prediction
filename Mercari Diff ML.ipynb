{
 "cells": [
  {
   "cell_type": "markdown",
   "metadata": {},
   "source": [
    "# Mercari Price Prediction ML"
   ]
  },
  {
   "cell_type": "markdown",
   "metadata": {},
   "source": [
    "## Importing Libraries"
   ]
  },
  {
   "cell_type": "code",
   "execution_count": 1,
   "metadata": {},
   "outputs": [],
   "source": [
    "import scipy as sp\n",
    "import pandas as pd\n",
    "import numpy as np\n",
    "from sklearn.feature_extraction.text import TfidfVectorizer, TfidfTransformer\n",
    "import re\n",
    "from sklearn.model_selection import train_test_split\n",
    "from sklearn.metrics import mean_squared_log_error\n",
    "from sklearn.linear_model import RidgeCV, Ridge\n",
    "from sklearn.pipeline import make_pipeline\n",
    "import scipy"
   ]
  },
  {
   "cell_type": "markdown",
   "metadata": {},
   "source": [
    "#### Pulling in premade Kaggle competition data."
   ]
  },
  {
   "cell_type": "code",
   "execution_count": 2,
   "metadata": {},
   "outputs": [
    {
     "data": {
      "text/html": [
       "<div>\n",
       "<style>\n",
       "    .dataframe thead tr:only-child th {\n",
       "        text-align: right;\n",
       "    }\n",
       "\n",
       "    .dataframe thead th {\n",
       "        text-align: left;\n",
       "    }\n",
       "\n",
       "    .dataframe tbody tr th {\n",
       "        vertical-align: top;\n",
       "    }\n",
       "</style>\n",
       "<table border=\"1\" class=\"dataframe\">\n",
       "  <thead>\n",
       "    <tr style=\"text-align: right;\">\n",
       "      <th></th>\n",
       "      <th>train_id</th>\n",
       "      <th>name</th>\n",
       "      <th>item_condition_id</th>\n",
       "      <th>category_name</th>\n",
       "      <th>brand_name</th>\n",
       "      <th>price</th>\n",
       "      <th>shipping</th>\n",
       "      <th>item_description</th>\n",
       "    </tr>\n",
       "  </thead>\n",
       "  <tbody>\n",
       "    <tr>\n",
       "      <th>0</th>\n",
       "      <td>0</td>\n",
       "      <td>MLB Cincinnati Reds T Shirt Size XL</td>\n",
       "      <td>3</td>\n",
       "      <td>Men/Tops/T-shirts</td>\n",
       "      <td>NaN</td>\n",
       "      <td>10.0</td>\n",
       "      <td>1</td>\n",
       "      <td>No description yet</td>\n",
       "    </tr>\n",
       "    <tr>\n",
       "      <th>1</th>\n",
       "      <td>1</td>\n",
       "      <td>Razer BlackWidow Chroma Keyboard</td>\n",
       "      <td>3</td>\n",
       "      <td>Electronics/Computers &amp; Tablets/Components &amp; P...</td>\n",
       "      <td>Razer</td>\n",
       "      <td>52.0</td>\n",
       "      <td>0</td>\n",
       "      <td>This keyboard is in great condition and works ...</td>\n",
       "    </tr>\n",
       "    <tr>\n",
       "      <th>2</th>\n",
       "      <td>2</td>\n",
       "      <td>AVA-VIV Blouse</td>\n",
       "      <td>1</td>\n",
       "      <td>Women/Tops &amp; Blouses/Blouse</td>\n",
       "      <td>Target</td>\n",
       "      <td>10.0</td>\n",
       "      <td>1</td>\n",
       "      <td>Adorable top with a hint of lace and a key hol...</td>\n",
       "    </tr>\n",
       "    <tr>\n",
       "      <th>3</th>\n",
       "      <td>3</td>\n",
       "      <td>Leather Horse Statues</td>\n",
       "      <td>1</td>\n",
       "      <td>Home/Home Décor/Home Décor Accents</td>\n",
       "      <td>NaN</td>\n",
       "      <td>35.0</td>\n",
       "      <td>1</td>\n",
       "      <td>New with tags. Leather horses. Retail for [rm]...</td>\n",
       "    </tr>\n",
       "    <tr>\n",
       "      <th>4</th>\n",
       "      <td>4</td>\n",
       "      <td>24K GOLD plated rose</td>\n",
       "      <td>1</td>\n",
       "      <td>Women/Jewelry/Necklaces</td>\n",
       "      <td>NaN</td>\n",
       "      <td>44.0</td>\n",
       "      <td>0</td>\n",
       "      <td>Complete with certificate of authenticity</td>\n",
       "    </tr>\n",
       "  </tbody>\n",
       "</table>\n",
       "</div>"
      ],
      "text/plain": [
       "   train_id                                 name  item_condition_id  \\\n",
       "0         0  MLB Cincinnati Reds T Shirt Size XL                  3   \n",
       "1         1     Razer BlackWidow Chroma Keyboard                  3   \n",
       "2         2                       AVA-VIV Blouse                  1   \n",
       "3         3                Leather Horse Statues                  1   \n",
       "4         4                 24K GOLD plated rose                  1   \n",
       "\n",
       "                                       category_name brand_name  price  \\\n",
       "0                                  Men/Tops/T-shirts        NaN   10.0   \n",
       "1  Electronics/Computers & Tablets/Components & P...      Razer   52.0   \n",
       "2                        Women/Tops & Blouses/Blouse     Target   10.0   \n",
       "3                 Home/Home Décor/Home Décor Accents        NaN   35.0   \n",
       "4                            Women/Jewelry/Necklaces        NaN   44.0   \n",
       "\n",
       "   shipping                                   item_description  \n",
       "0         1                                 No description yet  \n",
       "1         0  This keyboard is in great condition and works ...  \n",
       "2         1  Adorable top with a hint of lace and a key hol...  \n",
       "3         1  New with tags. Leather horses. Retail for [rm]...  \n",
       "4         0          Complete with certificate of authenticity  "
      ]
     },
     "execution_count": 2,
     "metadata": {},
     "output_type": "execute_result"
    }
   ],
   "source": [
    "train = pd.read_csv(\"train.tsv\", sep='\\t', header=0)\n",
    "train.head()"
   ]
  },
  {
   "cell_type": "code",
   "execution_count": 3,
   "metadata": {
    "scrolled": true
   },
   "outputs": [
    {
     "data": {
      "text/html": [
       "<div>\n",
       "<style>\n",
       "    .dataframe thead tr:only-child th {\n",
       "        text-align: right;\n",
       "    }\n",
       "\n",
       "    .dataframe thead th {\n",
       "        text-align: left;\n",
       "    }\n",
       "\n",
       "    .dataframe tbody tr th {\n",
       "        vertical-align: top;\n",
       "    }\n",
       "</style>\n",
       "<table border=\"1\" class=\"dataframe\">\n",
       "  <thead>\n",
       "    <tr style=\"text-align: right;\">\n",
       "      <th></th>\n",
       "      <th>test_id</th>\n",
       "      <th>name</th>\n",
       "      <th>item_condition_id</th>\n",
       "      <th>category_name</th>\n",
       "      <th>brand_name</th>\n",
       "      <th>shipping</th>\n",
       "      <th>item_description</th>\n",
       "    </tr>\n",
       "  </thead>\n",
       "  <tbody>\n",
       "    <tr>\n",
       "      <th>0</th>\n",
       "      <td>0</td>\n",
       "      <td>Breast cancer \"I fight like a girl\" ring</td>\n",
       "      <td>1</td>\n",
       "      <td>Women/Jewelry/Rings</td>\n",
       "      <td>NaN</td>\n",
       "      <td>1</td>\n",
       "      <td>Size 7</td>\n",
       "    </tr>\n",
       "    <tr>\n",
       "      <th>1</th>\n",
       "      <td>1</td>\n",
       "      <td>25 pcs NEW 7.5\"x12\" Kraft Bubble Mailers</td>\n",
       "      <td>1</td>\n",
       "      <td>Other/Office supplies/Shipping Supplies</td>\n",
       "      <td>NaN</td>\n",
       "      <td>1</td>\n",
       "      <td>25 pcs NEW 7.5\"x12\" Kraft Bubble Mailers Lined...</td>\n",
       "    </tr>\n",
       "    <tr>\n",
       "      <th>2</th>\n",
       "      <td>2</td>\n",
       "      <td>Coach bag</td>\n",
       "      <td>1</td>\n",
       "      <td>Vintage &amp; Collectibles/Bags and Purses/Handbag</td>\n",
       "      <td>Coach</td>\n",
       "      <td>1</td>\n",
       "      <td>Brand new coach bag. Bought for [rm] at a Coac...</td>\n",
       "    </tr>\n",
       "    <tr>\n",
       "      <th>3</th>\n",
       "      <td>3</td>\n",
       "      <td>Floral Kimono</td>\n",
       "      <td>2</td>\n",
       "      <td>Women/Sweaters/Cardigan</td>\n",
       "      <td>NaN</td>\n",
       "      <td>0</td>\n",
       "      <td>-floral kimono -never worn -lightweight and pe...</td>\n",
       "    </tr>\n",
       "    <tr>\n",
       "      <th>4</th>\n",
       "      <td>4</td>\n",
       "      <td>Life after Death</td>\n",
       "      <td>3</td>\n",
       "      <td>Other/Books/Religion &amp; Spirituality</td>\n",
       "      <td>NaN</td>\n",
       "      <td>1</td>\n",
       "      <td>Rediscovering life after the loss of a loved o...</td>\n",
       "    </tr>\n",
       "  </tbody>\n",
       "</table>\n",
       "</div>"
      ],
      "text/plain": [
       "   test_id                                      name  item_condition_id  \\\n",
       "0        0  Breast cancer \"I fight like a girl\" ring                  1   \n",
       "1        1  25 pcs NEW 7.5\"x12\" Kraft Bubble Mailers                  1   \n",
       "2        2                                 Coach bag                  1   \n",
       "3        3                             Floral Kimono                  2   \n",
       "4        4                          Life after Death                  3   \n",
       "\n",
       "                                    category_name brand_name  shipping  \\\n",
       "0                             Women/Jewelry/Rings        NaN         1   \n",
       "1         Other/Office supplies/Shipping Supplies        NaN         1   \n",
       "2  Vintage & Collectibles/Bags and Purses/Handbag      Coach         1   \n",
       "3                         Women/Sweaters/Cardigan        NaN         0   \n",
       "4             Other/Books/Religion & Spirituality        NaN         1   \n",
       "\n",
       "                                    item_description  \n",
       "0                                             Size 7  \n",
       "1  25 pcs NEW 7.5\"x12\" Kraft Bubble Mailers Lined...  \n",
       "2  Brand new coach bag. Bought for [rm] at a Coac...  \n",
       "3  -floral kimono -never worn -lightweight and pe...  \n",
       "4  Rediscovering life after the loss of a loved o...  "
      ]
     },
     "execution_count": 3,
     "metadata": {},
     "output_type": "execute_result"
    }
   ],
   "source": [
    "test = pd.read_csv(\"test.tsv\", sep='\\t', header=0)\n",
    "test.head()"
   ]
  },
  {
   "cell_type": "markdown",
   "metadata": {},
   "source": [
    "## Data Cleaning"
   ]
  },
  {
   "cell_type": "markdown",
   "metadata": {},
   "source": [
    "#### Need to remove null values from item_description, as they would interfere with the algorithm."
   ]
  },
  {
   "cell_type": "code",
   "execution_count": 4,
   "metadata": {},
   "outputs": [],
   "source": [
    "#Deleting null rows to clean up the data.\n",
    "train = train[~train['item_description'].isnull()]\n",
    "test = test[~test['item_description'].isnull()]"
   ]
  },
  {
   "cell_type": "markdown",
   "metadata": {},
   "source": [
    "#### Combining datasets for train and test together so that all function performed in preparing the data will not skew the size of the matrix. Here, we are also going to remove 0 value entries for log price and other outliers as they would skew the data."
   ]
  },
  {
   "cell_type": "code",
   "execution_count": 5,
   "metadata": {},
   "outputs": [],
   "source": [
    "#using log price and pre-setting quantiles to delete outliers within the data.\n",
    "train['log_price'] = np.log(train.price + 1)\n",
    "q = train['log_price'].quantile(0.975)\n",
    "train = train[train['log_price'] < q]\n",
    "train = train[train['log_price'] > 0]"
   ]
  },
  {
   "cell_type": "code",
   "execution_count": 6,
   "metadata": {
    "scrolled": true
   },
   "outputs": [
    {
     "name": "stdout",
     "output_type": "stream",
     "text": [
      "1442262\n"
     ]
    }
   ],
   "source": [
    "data = pd.concat([train, test], 0)\n",
    "train_rows = train.shape[0]\n",
    "print(train_rows)"
   ]
  },
  {
   "cell_type": "markdown",
   "metadata": {},
   "source": [
    "#### Replacing 'No description yet' to no_desc for tfidf vectorizer to count these as stop words. Also transforming category_name into two distinct categories to introduce two features for the matrix"
   ]
  },
  {
   "cell_type": "code",
   "execution_count": 7,
   "metadata": {},
   "outputs": [
    {
     "name": "stderr",
     "output_type": "stream",
     "text": [
      "c:\\users\\kj.park\\appdata\\local\\programs\\python\\python36\\lib\\site-packages\\ipykernel_launcher.py:2: FutureWarning: currently extract(expand=None) means expand=False (return Index/Series/DataFrame) but in a future version of pandas this will be changed to expand=True (return DataFrame)\n",
      "  \n",
      "c:\\users\\kj.park\\appdata\\local\\programs\\python\\python36\\lib\\site-packages\\ipykernel_launcher.py:3: FutureWarning: currently extract(expand=None) means expand=False (return Index/Series/DataFrame) but in a future version of pandas this will be changed to expand=True (return DataFrame)\n",
      "  This is separate from the ipykernel package so we can avoid doing imports until\n"
     ]
    }
   ],
   "source": [
    "data.item_description = data.item_description.str.replace('No description yet', 'no_desc')\n",
    "data['primary_cat'] = data.category_name.str.extract('([^/]+)/[^/]+/[^/]+')\n",
    "data['secondary_cat'] = data.category_name.str.extract('[^/]+/([^/]+/[^/]+)')\n",
    "data = data.apply(lambda x: x.astype(str).str.lower())"
   ]
  },
  {
   "cell_type": "code",
   "execution_count": 8,
   "metadata": {},
   "outputs": [
    {
     "data": {
      "text/html": [
       "<div>\n",
       "<style>\n",
       "    .dataframe thead tr:only-child th {\n",
       "        text-align: right;\n",
       "    }\n",
       "\n",
       "    .dataframe thead th {\n",
       "        text-align: left;\n",
       "    }\n",
       "\n",
       "    .dataframe tbody tr th {\n",
       "        vertical-align: top;\n",
       "    }\n",
       "</style>\n",
       "<table border=\"1\" class=\"dataframe\">\n",
       "  <thead>\n",
       "    <tr style=\"text-align: right;\">\n",
       "      <th></th>\n",
       "      <th>brand_name</th>\n",
       "      <th>category_name</th>\n",
       "      <th>item_condition_id</th>\n",
       "      <th>item_description</th>\n",
       "      <th>log_price</th>\n",
       "      <th>name</th>\n",
       "      <th>price</th>\n",
       "      <th>shipping</th>\n",
       "      <th>test_id</th>\n",
       "      <th>train_id</th>\n",
       "      <th>primary_cat</th>\n",
       "      <th>secondary_cat</th>\n",
       "    </tr>\n",
       "  </thead>\n",
       "  <tbody>\n",
       "    <tr>\n",
       "      <th>0</th>\n",
       "      <td>nan</td>\n",
       "      <td>men/tops/t-shirts</td>\n",
       "      <td>3</td>\n",
       "      <td>no_desc</td>\n",
       "      <td>2.3978952728</td>\n",
       "      <td>mlb cincinnati reds t shirt size xl</td>\n",
       "      <td>10.0</td>\n",
       "      <td>1</td>\n",
       "      <td>nan</td>\n",
       "      <td>0.0</td>\n",
       "      <td>men</td>\n",
       "      <td>tops/t-shirts</td>\n",
       "    </tr>\n",
       "    <tr>\n",
       "      <th>1</th>\n",
       "      <td>razer</td>\n",
       "      <td>electronics/computers &amp; tablets/components &amp; p...</td>\n",
       "      <td>3</td>\n",
       "      <td>this keyboard is in great condition and works ...</td>\n",
       "      <td>3.97029191355</td>\n",
       "      <td>razer blackwidow chroma keyboard</td>\n",
       "      <td>52.0</td>\n",
       "      <td>0</td>\n",
       "      <td>nan</td>\n",
       "      <td>1.0</td>\n",
       "      <td>electronics</td>\n",
       "      <td>computers &amp; tablets/components &amp; parts</td>\n",
       "    </tr>\n",
       "    <tr>\n",
       "      <th>2</th>\n",
       "      <td>target</td>\n",
       "      <td>women/tops &amp; blouses/blouse</td>\n",
       "      <td>1</td>\n",
       "      <td>adorable top with a hint of lace and a key hol...</td>\n",
       "      <td>2.3978952728</td>\n",
       "      <td>ava-viv blouse</td>\n",
       "      <td>10.0</td>\n",
       "      <td>1</td>\n",
       "      <td>nan</td>\n",
       "      <td>2.0</td>\n",
       "      <td>women</td>\n",
       "      <td>tops &amp; blouses/blouse</td>\n",
       "    </tr>\n",
       "    <tr>\n",
       "      <th>3</th>\n",
       "      <td>nan</td>\n",
       "      <td>home/home décor/home décor accents</td>\n",
       "      <td>1</td>\n",
       "      <td>new with tags. leather horses. retail for [rm]...</td>\n",
       "      <td>3.58351893846</td>\n",
       "      <td>leather horse statues</td>\n",
       "      <td>35.0</td>\n",
       "      <td>1</td>\n",
       "      <td>nan</td>\n",
       "      <td>3.0</td>\n",
       "      <td>home</td>\n",
       "      <td>home décor/home décor accents</td>\n",
       "    </tr>\n",
       "    <tr>\n",
       "      <th>4</th>\n",
       "      <td>nan</td>\n",
       "      <td>women/jewelry/necklaces</td>\n",
       "      <td>1</td>\n",
       "      <td>complete with certificate of authenticity</td>\n",
       "      <td>3.80666248977</td>\n",
       "      <td>24k gold plated rose</td>\n",
       "      <td>44.0</td>\n",
       "      <td>0</td>\n",
       "      <td>nan</td>\n",
       "      <td>4.0</td>\n",
       "      <td>women</td>\n",
       "      <td>jewelry/necklaces</td>\n",
       "    </tr>\n",
       "  </tbody>\n",
       "</table>\n",
       "</div>"
      ],
      "text/plain": [
       "  brand_name                                      category_name  \\\n",
       "0        nan                                  men/tops/t-shirts   \n",
       "1      razer  electronics/computers & tablets/components & p...   \n",
       "2     target                        women/tops & blouses/blouse   \n",
       "3        nan                 home/home décor/home décor accents   \n",
       "4        nan                            women/jewelry/necklaces   \n",
       "\n",
       "  item_condition_id                                   item_description  \\\n",
       "0                 3                                            no_desc   \n",
       "1                 3  this keyboard is in great condition and works ...   \n",
       "2                 1  adorable top with a hint of lace and a key hol...   \n",
       "3                 1  new with tags. leather horses. retail for [rm]...   \n",
       "4                 1          complete with certificate of authenticity   \n",
       "\n",
       "       log_price                                 name price shipping test_id  \\\n",
       "0   2.3978952728  mlb cincinnati reds t shirt size xl  10.0        1     nan   \n",
       "1  3.97029191355     razer blackwidow chroma keyboard  52.0        0     nan   \n",
       "2   2.3978952728                       ava-viv blouse  10.0        1     nan   \n",
       "3  3.58351893846                leather horse statues  35.0        1     nan   \n",
       "4  3.80666248977                 24k gold plated rose  44.0        0     nan   \n",
       "\n",
       "  train_id  primary_cat                           secondary_cat  \n",
       "0      0.0          men                           tops/t-shirts  \n",
       "1      1.0  electronics  computers & tablets/components & parts  \n",
       "2      2.0        women                   tops & blouses/blouse  \n",
       "3      3.0         home           home décor/home décor accents  \n",
       "4      4.0        women                       jewelry/necklaces  "
      ]
     },
     "execution_count": 8,
     "metadata": {},
     "output_type": "execute_result"
    }
   ],
   "source": [
    "data.head()"
   ]
  },
  {
   "cell_type": "code",
   "execution_count": 9,
   "metadata": {},
   "outputs": [
    {
     "data": {
      "text/html": [
       "<div>\n",
       "<style>\n",
       "    .dataframe thead tr:only-child th {\n",
       "        text-align: right;\n",
       "    }\n",
       "\n",
       "    .dataframe thead th {\n",
       "        text-align: left;\n",
       "    }\n",
       "\n",
       "    .dataframe tbody tr th {\n",
       "        vertical-align: top;\n",
       "    }\n",
       "</style>\n",
       "<table border=\"1\" class=\"dataframe\">\n",
       "  <thead>\n",
       "    <tr style=\"text-align: right;\">\n",
       "      <th></th>\n",
       "      <th>brand_name</th>\n",
       "      <th>category_name</th>\n",
       "      <th>item_condition_id</th>\n",
       "      <th>item_description</th>\n",
       "      <th>log_price</th>\n",
       "      <th>name</th>\n",
       "      <th>price</th>\n",
       "      <th>shipping</th>\n",
       "      <th>test_id</th>\n",
       "      <th>train_id</th>\n",
       "      <th>primary_cat</th>\n",
       "      <th>secondary_cat</th>\n",
       "    </tr>\n",
       "  </thead>\n",
       "  <tbody>\n",
       "    <tr>\n",
       "      <th>0</th>\n",
       "      <td>nan</td>\n",
       "      <td>men tops t shirts</td>\n",
       "      <td>3</td>\n",
       "      <td>no_desc</td>\n",
       "      <td>2.3978952728</td>\n",
       "      <td>mlb cincinnati reds t shirt size xl</td>\n",
       "      <td>10.0</td>\n",
       "      <td>1</td>\n",
       "      <td>nan</td>\n",
       "      <td>0.0</td>\n",
       "      <td>men</td>\n",
       "      <td>tops t shirts</td>\n",
       "    </tr>\n",
       "    <tr>\n",
       "      <th>1</th>\n",
       "      <td>razer</td>\n",
       "      <td>electronics computers   tablets components   p...</td>\n",
       "      <td>3</td>\n",
       "      <td>this keyboard is in great condition and works ...</td>\n",
       "      <td>3.97029191355</td>\n",
       "      <td>razer blackwidow chroma keyboard</td>\n",
       "      <td>52.0</td>\n",
       "      <td>0</td>\n",
       "      <td>nan</td>\n",
       "      <td>1.0</td>\n",
       "      <td>electronics</td>\n",
       "      <td>computers   tablets components   parts</td>\n",
       "    </tr>\n",
       "    <tr>\n",
       "      <th>2</th>\n",
       "      <td>target</td>\n",
       "      <td>women tops   blouses blouse</td>\n",
       "      <td>1</td>\n",
       "      <td>adorable top with a hint of lace and a key hol...</td>\n",
       "      <td>2.3978952728</td>\n",
       "      <td>ava viv blouse</td>\n",
       "      <td>10.0</td>\n",
       "      <td>1</td>\n",
       "      <td>nan</td>\n",
       "      <td>2.0</td>\n",
       "      <td>women</td>\n",
       "      <td>tops   blouses blouse</td>\n",
       "    </tr>\n",
       "    <tr>\n",
       "      <th>3</th>\n",
       "      <td>nan</td>\n",
       "      <td>home home décor home décor accents</td>\n",
       "      <td>1</td>\n",
       "      <td>new with tags  leather horses  retail for  rm ...</td>\n",
       "      <td>3.58351893846</td>\n",
       "      <td>leather horse statues</td>\n",
       "      <td>35.0</td>\n",
       "      <td>1</td>\n",
       "      <td>nan</td>\n",
       "      <td>3.0</td>\n",
       "      <td>home</td>\n",
       "      <td>home décor home décor accents</td>\n",
       "    </tr>\n",
       "    <tr>\n",
       "      <th>4</th>\n",
       "      <td>nan</td>\n",
       "      <td>women jewelry necklaces</td>\n",
       "      <td>1</td>\n",
       "      <td>complete with certificate of authenticity</td>\n",
       "      <td>3.80666248977</td>\n",
       "      <td>24k gold plated rose</td>\n",
       "      <td>44.0</td>\n",
       "      <td>0</td>\n",
       "      <td>nan</td>\n",
       "      <td>4.0</td>\n",
       "      <td>women</td>\n",
       "      <td>jewelry necklaces</td>\n",
       "    </tr>\n",
       "  </tbody>\n",
       "</table>\n",
       "</div>"
      ],
      "text/plain": [
       "  brand_name                                      category_name  \\\n",
       "0        nan                                  men tops t shirts   \n",
       "1      razer  electronics computers   tablets components   p...   \n",
       "2     target                        women tops   blouses blouse   \n",
       "3        nan                 home home décor home décor accents   \n",
       "4        nan                            women jewelry necklaces   \n",
       "\n",
       "  item_condition_id                                   item_description  \\\n",
       "0                 3                                            no_desc   \n",
       "1                 3  this keyboard is in great condition and works ...   \n",
       "2                 1  adorable top with a hint of lace and a key hol...   \n",
       "3                 1  new with tags  leather horses  retail for  rm ...   \n",
       "4                 1          complete with certificate of authenticity   \n",
       "\n",
       "       log_price                                 name price shipping test_id  \\\n",
       "0   2.3978952728  mlb cincinnati reds t shirt size xl  10.0        1     nan   \n",
       "1  3.97029191355     razer blackwidow chroma keyboard  52.0        0     nan   \n",
       "2   2.3978952728                       ava viv blouse  10.0        1     nan   \n",
       "3  3.58351893846                leather horse statues  35.0        1     nan   \n",
       "4  3.80666248977                 24k gold plated rose  44.0        0     nan   \n",
       "\n",
       "  train_id  primary_cat                           secondary_cat  \n",
       "0      0.0          men                           tops t shirts  \n",
       "1      1.0  electronics  computers   tablets components   parts  \n",
       "2      2.0        women                   tops   blouses blouse  \n",
       "3      3.0         home           home décor home décor accents  \n",
       "4      4.0        women                       jewelry necklaces  "
      ]
     },
     "execution_count": 9,
     "metadata": {},
     "output_type": "execute_result"
    }
   ],
   "source": [
    "text_features = ['name', 'brand_name', 'category_name', 'primary_cat', 'secondary_cat', 'item_description']\n",
    "for t in text_features:\n",
    "    data[t].replace(regex=True,inplace=True,to_replace=r'\\W',value=r' ')\n",
    "    \n",
    "data.head()"
   ]
  },
  {
   "cell_type": "code",
   "execution_count": 10,
   "metadata": {},
   "outputs": [],
   "source": [
    "data['item_condition_id'] = pd.to_numeric(data.item_condition_id, errors = 'ignore')\n",
    "data['shipping'] = pd.to_numeric(data.shipping, errors = 'ignore')\n",
    "data['item_description'] = data['item_description'].fillna('')"
   ]
  },
  {
   "cell_type": "code",
   "execution_count": 11,
   "metadata": {},
   "outputs": [],
   "source": [
    "data['brand_name'] = data['brand_name'].replace([np.nan,'nan'], 'negative', regex=True)\n",
    "data['brand_name'] = data['brand_name'].str.replace('\\s+', '')  # in case there are multiple white spaces\n",
    "data['brand_name'] = 'brand_' + data['brand_name'].astype(str)\n"
   ]
  },
  {
   "cell_type": "code",
   "execution_count": 12,
   "metadata": {
    "scrolled": true
   },
   "outputs": [
    {
     "data": {
      "text/html": [
       "<div>\n",
       "<style>\n",
       "    .dataframe thead tr:only-child th {\n",
       "        text-align: right;\n",
       "    }\n",
       "\n",
       "    .dataframe thead th {\n",
       "        text-align: left;\n",
       "    }\n",
       "\n",
       "    .dataframe tbody tr th {\n",
       "        vertical-align: top;\n",
       "    }\n",
       "</style>\n",
       "<table border=\"1\" class=\"dataframe\">\n",
       "  <thead>\n",
       "    <tr style=\"text-align: right;\">\n",
       "      <th></th>\n",
       "      <th>brand_name</th>\n",
       "      <th>category_name</th>\n",
       "      <th>item_condition_id</th>\n",
       "      <th>item_description</th>\n",
       "      <th>log_price</th>\n",
       "      <th>name</th>\n",
       "      <th>price</th>\n",
       "      <th>shipping</th>\n",
       "      <th>test_id</th>\n",
       "      <th>train_id</th>\n",
       "      <th>primary_cat</th>\n",
       "      <th>secondary_cat</th>\n",
       "    </tr>\n",
       "  </thead>\n",
       "  <tbody>\n",
       "    <tr>\n",
       "      <th>0</th>\n",
       "      <td>brand_negative</td>\n",
       "      <td>men tops t shirts</td>\n",
       "      <td>3</td>\n",
       "      <td>no_desc</td>\n",
       "      <td>2.3978952728</td>\n",
       "      <td>mlb cincinnati reds t shirt size xl</td>\n",
       "      <td>10.0</td>\n",
       "      <td>1</td>\n",
       "      <td>nan</td>\n",
       "      <td>0.0</td>\n",
       "      <td>men</td>\n",
       "      <td>tops t shirts</td>\n",
       "    </tr>\n",
       "    <tr>\n",
       "      <th>1</th>\n",
       "      <td>brand_razer</td>\n",
       "      <td>electronics computers   tablets components   p...</td>\n",
       "      <td>3</td>\n",
       "      <td>this keyboard is in great condition and works ...</td>\n",
       "      <td>3.97029191355</td>\n",
       "      <td>razer blackwidow chroma keyboard</td>\n",
       "      <td>52.0</td>\n",
       "      <td>0</td>\n",
       "      <td>nan</td>\n",
       "      <td>1.0</td>\n",
       "      <td>electronics</td>\n",
       "      <td>computers   tablets components   parts</td>\n",
       "    </tr>\n",
       "    <tr>\n",
       "      <th>2</th>\n",
       "      <td>brand_target</td>\n",
       "      <td>women tops   blouses blouse</td>\n",
       "      <td>1</td>\n",
       "      <td>adorable top with a hint of lace and a key hol...</td>\n",
       "      <td>2.3978952728</td>\n",
       "      <td>ava viv blouse</td>\n",
       "      <td>10.0</td>\n",
       "      <td>1</td>\n",
       "      <td>nan</td>\n",
       "      <td>2.0</td>\n",
       "      <td>women</td>\n",
       "      <td>tops   blouses blouse</td>\n",
       "    </tr>\n",
       "    <tr>\n",
       "      <th>3</th>\n",
       "      <td>brand_negative</td>\n",
       "      <td>home home décor home décor accents</td>\n",
       "      <td>1</td>\n",
       "      <td>new with tags  leather horses  retail for  rm ...</td>\n",
       "      <td>3.58351893846</td>\n",
       "      <td>leather horse statues</td>\n",
       "      <td>35.0</td>\n",
       "      <td>1</td>\n",
       "      <td>nan</td>\n",
       "      <td>3.0</td>\n",
       "      <td>home</td>\n",
       "      <td>home décor home décor accents</td>\n",
       "    </tr>\n",
       "    <tr>\n",
       "      <th>4</th>\n",
       "      <td>brand_negative</td>\n",
       "      <td>women jewelry necklaces</td>\n",
       "      <td>1</td>\n",
       "      <td>complete with certificate of authenticity</td>\n",
       "      <td>3.80666248977</td>\n",
       "      <td>24k gold plated rose</td>\n",
       "      <td>44.0</td>\n",
       "      <td>0</td>\n",
       "      <td>nan</td>\n",
       "      <td>4.0</td>\n",
       "      <td>women</td>\n",
       "      <td>jewelry necklaces</td>\n",
       "    </tr>\n",
       "  </tbody>\n",
       "</table>\n",
       "</div>"
      ],
      "text/plain": [
       "       brand_name                                      category_name  \\\n",
       "0  brand_negative                                  men tops t shirts   \n",
       "1     brand_razer  electronics computers   tablets components   p...   \n",
       "2    brand_target                        women tops   blouses blouse   \n",
       "3  brand_negative                 home home décor home décor accents   \n",
       "4  brand_negative                            women jewelry necklaces   \n",
       "\n",
       "   item_condition_id                                   item_description  \\\n",
       "0                  3                                            no_desc   \n",
       "1                  3  this keyboard is in great condition and works ...   \n",
       "2                  1  adorable top with a hint of lace and a key hol...   \n",
       "3                  1  new with tags  leather horses  retail for  rm ...   \n",
       "4                  1          complete with certificate of authenticity   \n",
       "\n",
       "       log_price                                 name price  shipping test_id  \\\n",
       "0   2.3978952728  mlb cincinnati reds t shirt size xl  10.0         1     nan   \n",
       "1  3.97029191355     razer blackwidow chroma keyboard  52.0         0     nan   \n",
       "2   2.3978952728                       ava viv blouse  10.0         1     nan   \n",
       "3  3.58351893846                leather horse statues  35.0         1     nan   \n",
       "4  3.80666248977                 24k gold plated rose  44.0         0     nan   \n",
       "\n",
       "  train_id  primary_cat                           secondary_cat  \n",
       "0      0.0          men                           tops t shirts  \n",
       "1      1.0  electronics  computers   tablets components   parts  \n",
       "2      2.0        women                   tops   blouses blouse  \n",
       "3      3.0         home           home décor home décor accents  \n",
       "4      4.0        women                       jewelry necklaces  "
      ]
     },
     "execution_count": 12,
     "metadata": {},
     "output_type": "execute_result"
    }
   ],
   "source": [
    "data.head()"
   ]
  },
  {
   "cell_type": "markdown",
   "metadata": {},
   "source": [
    "#### Combining text values into one single text  corpus"
   ]
  },
  {
   "cell_type": "code",
   "execution_count": 13,
   "metadata": {},
   "outputs": [],
   "source": [
    "text = (data['name'] + ' '+ data['brand_name'] + ' ' +\n",
    "          data['item_description'] + ' ' + data['primary_cat'] + ' ' + \n",
    "          data['secondary_cat']).values"
   ]
  },
  {
   "cell_type": "code",
   "execution_count": 14,
   "metadata": {},
   "outputs": [],
   "source": [
    "from nltk import word_tokenize          \n",
    "#from nltk.stem import WordNetLemmatizer \n",
    "from sklearn.feature_extraction.text import TfidfVectorizer, TfidfTransformer\n",
    "import nltk\n",
    "\n",
    "#class LemmaTokenizer(object):\n",
    "#    def __init__(self):\n",
    "##        self.wnl = WordNetLemmatizer()\n",
    "#    def __call__(self, articles):\n",
    "#        return [self.wnl.lemmatize(t) for t in word_tokenize(articles)]\n",
    "from sklearn.linear_model import Ridge\n",
    "from sklearn.pipeline import Pipeline\n",
    "from sklearn.model_selection import GridSearchCV"
   ]
  },
  {
   "cell_type": "code",
   "execution_count": 15,
   "metadata": {},
   "outputs": [],
   "source": [
    "#separating the text data into train and test set again\n",
    "text_train = text[:train_rows]\n",
    "text_test = text[train_rows:]\n",
    "\n",
    "\n",
    "dummies = scipy.sparse.csr_matrix(pd.get_dummies(data[[\n",
    "    \"item_condition_id\", \"shipping\"]], sparse = True).values)\n",
    "X_dummies = dummies[:train_rows]\n",
    "y_dummies = dummies[train_rows:]\n",
    "y = np.array(train['log_price'].values)"
   ]
  },
  {
   "cell_type": "markdown",
   "metadata": {},
   "source": [
    "#### This gridsearch took at upwards of 12 hours for 405 candidates for a total of 1215 fits. The results of the gridsearch have been pickled and saved to a pkl file and the code has been converted to markdown format."
   ]
  },
  {
   "cell_type": "code",
   "execution_count": null,
   "metadata": {},
   "outputs": [],
   "source": [
    "estimators = [(\"tf_idf\", TfidfVectorizer(lowercase=True)), \n",
    "              (\"ridge\", Ridge())]\n",
    "model = Pipeline(estimators)\n",
    "model.fit(text_train, y)\n",
    "\n",
    "\n",
    "params = {\"ridge__alpha\":[0.1, 0.3, 0.5, 1, 3], #regularization param\n",
    "          \"tf_idf__min_df\": [1, 5, 10],#min count of words allowed\n",
    "          \"tf_idf__max_df\": [0.7,0.8,0.9],\n",
    "          \"tf_idf__ngram_range\": [(1,1), (1,2), (1,3)], #1-grams or 2-grams\n",
    "          \"tf_idf__max_features\": [5000, 7500, 10000]#5000 features, 7500, or 10000\n",
    "         }\n"
   ]
  },
  {
   "cell_type": "markdown",
   "metadata": {
    "scrolled": true
   },
   "source": [
    "grid = GridSearchCV(estimator=model, param_grid = params, scoring = \"neg_mean_squared_error\" , verbose=600)\n",
    "grid.fit(text_train, y)"
   ]
  },
  {
   "cell_type": "markdown",
   "metadata": {},
   "source": [
    "import pickle\n",
    "\n",
    "outfile = 'grid_ml.pkl'\n",
    "\n",
    "with open(outfile, 'wb') as pickle_file:\n",
    "    pickle.dump(grid, pickle_file)"
   ]
  },
  {
   "cell_type": "markdown",
   "metadata": {},
   "source": [
    "#### The gridsearch results for tfidf vectorizer and the following best estimator/best score/best parameters from the pickle file are uploaded in the cell below:"
   ]
  },
  {
   "cell_type": "code",
   "execution_count": 16,
   "metadata": {},
   "outputs": [
    {
     "name": "stdout",
     "output_type": "stream",
     "text": [
      "Best Estimator:  Pipeline(memory=None,\n",
      "     steps=[('tf_idf', TfidfVectorizer(analyzer='word', binary=False, decode_error='strict',\n",
      "        dtype=<class 'numpy.int64'>, encoding='utf-8', input='content',\n",
      "        lowercase=True, max_df=0.7, max_features=10000, min_df=1,\n",
      "        ngram_range=(1, 2), norm='l2', preprocessor=None, smooth_idf=True,...it_intercept=True, max_iter=None,\n",
      "   normalize=False, random_state=None, solver='auto', tol=0.001))])\n",
      "Best Score:  -0.222323799127\n",
      "Best Parameters:  {'ridge__alpha': 1, 'tf_idf__max_df': 0.7, 'tf_idf__max_features': 10000, 'tf_idf__min_df': 1, 'tf_idf__ngram_range': (1, 2)}\n"
     ]
    }
   ],
   "source": [
    "import pickle\n",
    "grid_ml = pickle.load(open('grid_ml.pkl', \"rb\"))\n",
    "\n",
    "#best estimators\n",
    "print(\"Best Estimator: \", grid_ml.best_estimator_)\n",
    "#printing best scores\n",
    "print(\"Best Score: \", grid_ml.best_score_)\n",
    "#printing best parameters for optimal parameter tuning\n",
    "print(\"Best Parameters: \", grid_ml.best_params_)"
   ]
  },
  {
   "cell_type": "markdown",
   "metadata": {},
   "source": [
    "#### Separating the training and test sets again after massaging the data for the distinct train and test sets with the train_rows mask. Also creating the y value with train['price'] as log as we had found during the exploratory data analysis portion of the project"
   ]
  },
  {
   "cell_type": "markdown",
   "metadata": {},
   "source": [
    "#### Transforming the text data into a matrix and combinining dummies data (with shipping and item condition) into the matrix"
   ]
  },
  {
   "cell_type": "code",
   "execution_count": 17,
   "metadata": {},
   "outputs": [],
   "source": [
    "tfidf = TfidfVectorizer(max_features = 10000, lowercase=True, max_df=0.7, min_df=1, ngram_range=(1,2), stop_words= 'english')\n",
    "text_transformed = tfidf.fit_transform(text_train)"
   ]
  },
  {
   "cell_type": "code",
   "execution_count": 18,
   "metadata": {},
   "outputs": [],
   "source": [
    "text_transformed = text_transformed.astype(int)"
   ]
  },
  {
   "cell_type": "markdown",
   "metadata": {},
   "source": [
    "#### Checking to see the result of the combined matrix/ if the row features are in line with what we originally started with:"
   ]
  },
  {
   "cell_type": "code",
   "execution_count": 19,
   "metadata": {
    "scrolled": false
   },
   "outputs": [
    {
     "name": "stdout",
     "output_type": "stream",
     "text": [
      "(1442262, 10000)\n",
      "(1442262, 2)\n"
     ]
    }
   ],
   "source": [
    "print(text_transformed.shape)\n",
    "print(X_dummies.shape)"
   ]
  },
  {
   "cell_type": "code",
   "execution_count": 20,
   "metadata": {},
   "outputs": [],
   "source": [
    "X = scipy.sparse.hstack((X_dummies, text_transformed)).tocsr()"
   ]
  },
  {
   "cell_type": "code",
   "execution_count": 21,
   "metadata": {
    "scrolled": true
   },
   "outputs": [
    {
     "data": {
      "text/plain": [
       "(1442262, 10002)"
      ]
     },
     "execution_count": 21,
     "metadata": {},
     "output_type": "execute_result"
    }
   ],
   "source": [
    "X.shape"
   ]
  },
  {
   "cell_type": "markdown",
   "metadata": {},
   "source": [
    "#### Train Test Split of the data to create a sample train/test from the training data set."
   ]
  },
  {
   "cell_type": "code",
   "execution_count": 22,
   "metadata": {},
   "outputs": [],
   "source": [
    "X_train, X_test, y_train, y_test = train_test_split(X, y, test_size=0.4, random_state=42)"
   ]
  },
  {
   "cell_type": "code",
   "execution_count": 23,
   "metadata": {},
   "outputs": [],
   "source": [
    "from sklearn.linear_model import Ridge\n",
    "ridge = Ridge(alpha = 1.0)"
   ]
  },
  {
   "cell_type": "code",
   "execution_count": 24,
   "metadata": {},
   "outputs": [
    {
     "data": {
      "text/plain": [
       "Ridge(alpha=1.0, copy_X=True, fit_intercept=True, max_iter=None,\n",
       "   normalize=False, random_state=None, solver='auto', tol=0.001)"
      ]
     },
     "execution_count": 24,
     "metadata": {},
     "output_type": "execute_result"
    }
   ],
   "source": [
    "ridge.fit(X_train, y_train)"
   ]
  },
  {
   "cell_type": "code",
   "execution_count": 25,
   "metadata": {},
   "outputs": [
    {
     "data": {
      "text/plain": [
       "0.065007517529582781"
      ]
     },
     "execution_count": 25,
     "metadata": {},
     "output_type": "execute_result"
    }
   ],
   "source": [
    "ridge.score(X_test,y_test)"
   ]
  },
  {
   "cell_type": "code",
   "execution_count": 26,
   "metadata": {},
   "outputs": [],
   "source": [
    "predictions = ridge.predict(X_test)\n",
    "#Would need to do a root mean squared error on the predictions vs real y_test.\n",
    "from sklearn.metrics import mean_squared_error\n",
    "from math import sqrt\n",
    "\n",
    "rmsle = sqrt(mean_squared_error(y_test, predictions))"
   ]
  },
  {
   "cell_type": "code",
   "execution_count": 27,
   "metadata": {},
   "outputs": [
    {
     "name": "stdout",
     "output_type": "stream",
     "text": [
      "0.6380121199664495\n"
     ]
    }
   ],
   "source": [
    "print(rmsle)"
   ]
  },
  {
   "cell_type": "code",
   "execution_count": 39,
   "metadata": {},
   "outputs": [],
   "source": [
    "from sklearn.ensemble import RandomForestRegressor\n",
    "estimators = [(\"rfr\", RandomForestRegressor())]\n",
    "model = Pipeline(estimators)\n",
    "model.fit(X, y)\n",
    "\n",
    "params={\"n_estimators\": [5, 10, 20, 50],\n",
    "        \"max_features\": [0.2, 0.4, 0.6, 0.8],\n",
    "        \"min_samples_leaf\": [2, 10, 20, 50]\n",
    "       }"
   ]
  },
  {
   "cell_type": "code",
   "execution_count": 40,
   "metadata": {
    "scrolled": true
   },
   "outputs": [],
   "source": [
    "gscv = GridSearchCV(estimator=RandomForestRegressor(), param_grid = params, scoring = \"neg_mean_squared_error\" , verbose=600)"
   ]
  },
  {
   "cell_type": "code",
   "execution_count": 41,
   "metadata": {
    "scrolled": true
   },
   "outputs": [
    {
     "name": "stdout",
     "output_type": "stream",
     "text": [
      "Fitting 3 folds for each of 64 candidates, totalling 192 fits\n",
      "[CV] max_features=0.2, min_samples_leaf=2, n_estimators=5 ............\n",
      "[CV]  max_features=0.2, min_samples_leaf=2, n_estimators=5, score=-0.4063163052558484, total=   3.6s\n",
      "[Parallel(n_jobs=1)]: Done   1 out of   1 | elapsed:    3.8s remaining:    0.0s\n",
      "[CV] max_features=0.2, min_samples_leaf=2, n_estimators=5 ............\n",
      "[CV]  max_features=0.2, min_samples_leaf=2, n_estimators=5, score=-0.4072767040559621, total=   3.7s\n",
      "[Parallel(n_jobs=1)]: Done   2 out of   2 | elapsed:    7.9s remaining:    0.0s\n",
      "[CV] max_features=0.2, min_samples_leaf=2, n_estimators=5 ............\n",
      "[CV]  max_features=0.2, min_samples_leaf=2, n_estimators=5, score=-0.40618530835960454, total=   3.7s\n",
      "[Parallel(n_jobs=1)]: Done   3 out of   3 | elapsed:   11.9s remaining:    0.0s\n",
      "[CV] max_features=0.2, min_samples_leaf=2, n_estimators=10 ...........\n",
      "[CV]  max_features=0.2, min_samples_leaf=2, n_estimators=10, score=-0.40631106861410954, total=   7.8s\n",
      "[Parallel(n_jobs=1)]: Done   4 out of   4 | elapsed:   20.3s remaining:    0.0s\n",
      "[CV] max_features=0.2, min_samples_leaf=2, n_estimators=10 ...........\n",
      "[CV]  max_features=0.2, min_samples_leaf=2, n_estimators=10, score=-0.40727064960242354, total=   7.2s\n",
      "[Parallel(n_jobs=1)]: Done   5 out of   5 | elapsed:   28.0s remaining:    0.0s\n",
      "[CV] max_features=0.2, min_samples_leaf=2, n_estimators=10 ...........\n",
      "[CV]  max_features=0.2, min_samples_leaf=2, n_estimators=10, score=-0.4061684890136385, total=   7.1s\n",
      "[Parallel(n_jobs=1)]: Done   6 out of   6 | elapsed:   35.6s remaining:    0.0s\n",
      "[CV] max_features=0.2, min_samples_leaf=2, n_estimators=20 ...........\n",
      "[CV]  max_features=0.2, min_samples_leaf=2, n_estimators=20, score=-0.40631961740406636, total=  13.0s\n",
      "[Parallel(n_jobs=1)]: Done   7 out of   7 | elapsed:   49.5s remaining:    0.0s\n",
      "[CV] max_features=0.2, min_samples_leaf=2, n_estimators=20 ...........\n",
      "[CV]  max_features=0.2, min_samples_leaf=2, n_estimators=20, score=-0.40726905184611917, total=  13.5s\n",
      "[Parallel(n_jobs=1)]: Done   8 out of   8 | elapsed:  1.1min remaining:    0.0s\n",
      "[CV] max_features=0.2, min_samples_leaf=2, n_estimators=20 ...........\n",
      "[CV]  max_features=0.2, min_samples_leaf=2, n_estimators=20, score=-0.4061716399508944, total=  13.3s\n",
      "[Parallel(n_jobs=1)]: Done   9 out of   9 | elapsed:  1.3min remaining:    0.0s\n",
      "[CV] max_features=0.2, min_samples_leaf=2, n_estimators=50 ...........\n",
      "[CV]  max_features=0.2, min_samples_leaf=2, n_estimators=50, score=-0.406315954470734, total=  30.4s\n",
      "[Parallel(n_jobs=1)]: Done  10 out of  10 | elapsed:  1.8min remaining:    0.0s\n",
      "[CV] max_features=0.2, min_samples_leaf=2, n_estimators=50 ...........\n",
      "[CV]  max_features=0.2, min_samples_leaf=2, n_estimators=50, score=-0.4072730888766654, total=  31.1s\n",
      "[Parallel(n_jobs=1)]: Done  11 out of  11 | elapsed:  2.4min remaining:    0.0s\n",
      "[CV] max_features=0.2, min_samples_leaf=2, n_estimators=50 ...........\n",
      "[CV]  max_features=0.2, min_samples_leaf=2, n_estimators=50, score=-0.4061680841624298, total=  31.6s\n",
      "[Parallel(n_jobs=1)]: Done  12 out of  12 | elapsed:  2.9min remaining:    0.0s\n",
      "[CV] max_features=0.2, min_samples_leaf=10, n_estimators=5 ...........\n",
      "[CV]  max_features=0.2, min_samples_leaf=10, n_estimators=5, score=-0.4064293612702294, total=   3.3s\n",
      "[Parallel(n_jobs=1)]: Done  13 out of  13 | elapsed:  3.0min remaining:    0.0s\n",
      "[CV] max_features=0.2, min_samples_leaf=10, n_estimators=5 ...........\n",
      "[CV]  max_features=0.2, min_samples_leaf=10, n_estimators=5, score=-0.40732875109442673, total=   3.1s\n",
      "[Parallel(n_jobs=1)]: Done  14 out of  14 | elapsed:  3.1min remaining:    0.0s\n",
      "[CV] max_features=0.2, min_samples_leaf=10, n_estimators=5 ...........\n",
      "[CV]  max_features=0.2, min_samples_leaf=10, n_estimators=5, score=-0.40668182708086875, total=   3.0s\n",
      "[Parallel(n_jobs=1)]: Done  15 out of  15 | elapsed:  3.1min remaining:    0.0s\n",
      "[CV] max_features=0.2, min_samples_leaf=10, n_estimators=10 ..........\n",
      "[CV]  max_features=0.2, min_samples_leaf=10, n_estimators=10, score=-0.40636724914044325, total=   5.8s\n",
      "[Parallel(n_jobs=1)]: Done  16 out of  16 | elapsed:  3.2min remaining:    0.0s\n",
      "[CV] max_features=0.2, min_samples_leaf=10, n_estimators=10 ..........\n",
      "[CV]  max_features=0.2, min_samples_leaf=10, n_estimators=10, score=-0.40741026252846774, total=   5.8s\n",
      "[Parallel(n_jobs=1)]: Done  17 out of  17 | elapsed:  3.3min remaining:    0.0s\n",
      "[CV] max_features=0.2, min_samples_leaf=10, n_estimators=10 ..........\n",
      "[CV]  max_features=0.2, min_samples_leaf=10, n_estimators=10, score=-0.40657640564570463, total=   6.0s\n",
      "[Parallel(n_jobs=1)]: Done  18 out of  18 | elapsed:  3.4min remaining:    0.0s\n",
      "[CV] max_features=0.2, min_samples_leaf=10, n_estimators=20 ..........\n",
      "[CV]  max_features=0.2, min_samples_leaf=10, n_estimators=20, score=-0.40639702843662434, total=  10.9s\n",
      "[Parallel(n_jobs=1)]: Done  19 out of  19 | elapsed:  3.6min remaining:    0.0s\n",
      "[CV] max_features=0.2, min_samples_leaf=10, n_estimators=20 ..........\n",
      "[CV]  max_features=0.2, min_samples_leaf=10, n_estimators=20, score=-0.4075350453971165, total=  10.1s\n",
      "[Parallel(n_jobs=1)]: Done  20 out of  20 | elapsed:  3.8min remaining:    0.0s\n",
      "[CV] max_features=0.2, min_samples_leaf=10, n_estimators=20 ..........\n",
      "[CV]  max_features=0.2, min_samples_leaf=10, n_estimators=20, score=-0.40624086697608686, total=  11.5s\n",
      "[Parallel(n_jobs=1)]: Done  21 out of  21 | elapsed:  4.0min remaining:    0.0s\n",
      "[CV] max_features=0.2, min_samples_leaf=10, n_estimators=50 ..........\n",
      "[CV]  max_features=0.2, min_samples_leaf=10, n_estimators=50, score=-0.4063892932333823, total=  26.0s\n",
      "[Parallel(n_jobs=1)]: Done  22 out of  22 | elapsed:  4.5min remaining:    0.0s\n",
      "[CV] max_features=0.2, min_samples_leaf=10, n_estimators=50 ..........\n",
      "[CV]  max_features=0.2, min_samples_leaf=10, n_estimators=50, score=-0.40749324270349796, total=  24.3s\n",
      "[Parallel(n_jobs=1)]: Done  23 out of  23 | elapsed:  4.9min remaining:    0.0s\n",
      "[CV] max_features=0.2, min_samples_leaf=10, n_estimators=50 ..........\n",
      "[CV]  max_features=0.2, min_samples_leaf=10, n_estimators=50, score=-0.40636314216460917, total=  25.9s\n",
      "[Parallel(n_jobs=1)]: Done  24 out of  24 | elapsed:  5.4min remaining:    0.0s\n",
      "[CV] max_features=0.2, min_samples_leaf=20, n_estimators=5 ...........\n",
      "[CV]  max_features=0.2, min_samples_leaf=20, n_estimators=5, score=-0.4172536247530086, total=   1.8s\n",
      "[Parallel(n_jobs=1)]: Done  25 out of  25 | elapsed:  5.4min remaining:    0.0s\n",
      "[CV] max_features=0.2, min_samples_leaf=20, n_estimators=5 ...........\n",
      "[CV]  max_features=0.2, min_samples_leaf=20, n_estimators=5, score=-0.4121461026730291, total=   2.4s\n",
      "[Parallel(n_jobs=1)]: Done  26 out of  26 | elapsed:  5.5min remaining:    0.0s\n",
      "[CV] max_features=0.2, min_samples_leaf=20, n_estimators=5 ...........\n",
      "[CV]  max_features=0.2, min_samples_leaf=20, n_estimators=5, score=-0.40833639284766093, total=   2.5s\n",
      "[Parallel(n_jobs=1)]: Done  27 out of  27 | elapsed:  5.5min remaining:    0.0s\n",
      "[CV] max_features=0.2, min_samples_leaf=20, n_estimators=10 ..........\n",
      "[CV]  max_features=0.2, min_samples_leaf=20, n_estimators=10, score=-0.40826700134245697, total=   3.8s\n",
      "[Parallel(n_jobs=1)]: Done  28 out of  28 | elapsed:  5.6min remaining:    0.0s\n",
      "[CV] max_features=0.2, min_samples_leaf=20, n_estimators=10 ..........\n",
      "[CV]  max_features=0.2, min_samples_leaf=20, n_estimators=10, score=-0.4077856226319277, total=   4.6s\n",
      "[Parallel(n_jobs=1)]: Done  29 out of  29 | elapsed:  5.7min remaining:    0.0s\n",
      "[CV] max_features=0.2, min_samples_leaf=20, n_estimators=10 ..........\n",
      "[CV]  max_features=0.2, min_samples_leaf=20, n_estimators=10, score=-0.4078341790178975, total=   4.3s\n",
      "[Parallel(n_jobs=1)]: Done  30 out of  30 | elapsed:  5.7min remaining:    0.0s\n",
      "[CV] max_features=0.2, min_samples_leaf=20, n_estimators=20 ..........\n",
      "[CV]  max_features=0.2, min_samples_leaf=20, n_estimators=20, score=-0.41130867874412164, total=   6.0s\n",
      "[Parallel(n_jobs=1)]: Done  31 out of  31 | elapsed:  5.8min remaining:    0.0s\n",
      "[CV] max_features=0.2, min_samples_leaf=20, n_estimators=20 ..........\n",
      "[CV]  max_features=0.2, min_samples_leaf=20, n_estimators=20, score=-0.4098117140468975, total=   7.7s\n",
      "[Parallel(n_jobs=1)]: Done  32 out of  32 | elapsed:  6.0min remaining:    0.0s\n",
      "[CV] max_features=0.2, min_samples_leaf=20, n_estimators=20 ..........\n"
     ]
    },
    {
     "name": "stdout",
     "output_type": "stream",
     "text": [
      "[CV]  max_features=0.2, min_samples_leaf=20, n_estimators=20, score=-0.40764697187383503, total=   6.7s\n",
      "[Parallel(n_jobs=1)]: Done  33 out of  33 | elapsed:  6.1min remaining:    0.0s\n",
      "[CV] max_features=0.2, min_samples_leaf=20, n_estimators=50 ..........\n",
      "[CV]  max_features=0.2, min_samples_leaf=20, n_estimators=50, score=-0.4144761648977189, total=  13.9s\n",
      "[Parallel(n_jobs=1)]: Done  34 out of  34 | elapsed:  6.4min remaining:    0.0s\n",
      "[CV] max_features=0.2, min_samples_leaf=20, n_estimators=50 ..........\n",
      "[CV]  max_features=0.2, min_samples_leaf=20, n_estimators=50, score=-0.410444059659439, total=  17.9s\n",
      "[Parallel(n_jobs=1)]: Done  35 out of  35 | elapsed:  6.7min remaining:    0.0s\n",
      "[CV] max_features=0.2, min_samples_leaf=20, n_estimators=50 ..........\n",
      "[CV]  max_features=0.2, min_samples_leaf=20, n_estimators=50, score=-0.40987641962865345, total=  16.4s\n",
      "[Parallel(n_jobs=1)]: Done  36 out of  36 | elapsed:  7.0min remaining:    0.0s\n",
      "[CV] max_features=0.2, min_samples_leaf=50, n_estimators=5 ...........\n",
      "[CV]  max_features=0.2, min_samples_leaf=50, n_estimators=5, score=-0.4178200554897453, total=   2.1s\n",
      "[Parallel(n_jobs=1)]: Done  37 out of  37 | elapsed:  7.0min remaining:    0.0s\n",
      "[CV] max_features=0.2, min_samples_leaf=50, n_estimators=5 ...........\n",
      "[CV]  max_features=0.2, min_samples_leaf=50, n_estimators=5, score=-0.40890620716984627, total=   2.4s\n",
      "[Parallel(n_jobs=1)]: Done  38 out of  38 | elapsed:  7.1min remaining:    0.0s\n",
      "[CV] max_features=0.2, min_samples_leaf=50, n_estimators=5 ...........\n",
      "[CV]  max_features=0.2, min_samples_leaf=50, n_estimators=5, score=-0.41701303859312144, total=   2.1s\n",
      "[Parallel(n_jobs=1)]: Done  39 out of  39 | elapsed:  7.1min remaining:    0.0s\n",
      "[CV] max_features=0.2, min_samples_leaf=50, n_estimators=10 ..........\n",
      "[CV]  max_features=0.2, min_samples_leaf=50, n_estimators=10, score=-0.40963244704369073, total=   4.2s\n",
      "[Parallel(n_jobs=1)]: Done  40 out of  40 | elapsed:  7.2min remaining:    0.0s\n",
      "[CV] max_features=0.2, min_samples_leaf=50, n_estimators=10 ..........\n",
      "[CV]  max_features=0.2, min_samples_leaf=50, n_estimators=10, score=-0.4115909057485615, total=   3.6s\n",
      "[Parallel(n_jobs=1)]: Done  41 out of  41 | elapsed:  7.3min remaining:    0.0s\n",
      "[CV] max_features=0.2, min_samples_leaf=50, n_estimators=10 ..........\n",
      "[CV]  max_features=0.2, min_samples_leaf=50, n_estimators=10, score=-0.41650043385867713, total=   3.7s\n",
      "[Parallel(n_jobs=1)]: Done  42 out of  42 | elapsed:  7.3min remaining:    0.0s\n",
      "[CV] max_features=0.2, min_samples_leaf=50, n_estimators=20 ..........\n",
      "[CV]  max_features=0.2, min_samples_leaf=50, n_estimators=20, score=-0.4157929817839299, total=   7.2s\n",
      "[Parallel(n_jobs=1)]: Done  43 out of  43 | elapsed:  7.5min remaining:    0.0s\n",
      "[CV] max_features=0.2, min_samples_leaf=50, n_estimators=20 ..........\n",
      "[CV]  max_features=0.2, min_samples_leaf=50, n_estimators=20, score=-0.41861673268275673, total=   6.2s\n",
      "[Parallel(n_jobs=1)]: Done  44 out of  44 | elapsed:  7.6min remaining:    0.0s\n",
      "[CV] max_features=0.2, min_samples_leaf=50, n_estimators=20 ..........\n",
      "[CV]  max_features=0.2, min_samples_leaf=50, n_estimators=20, score=-0.4102557275118363, total=   6.9s\n",
      "[Parallel(n_jobs=1)]: Done  45 out of  45 | elapsed:  7.7min remaining:    0.0s\n",
      "[CV] max_features=0.2, min_samples_leaf=50, n_estimators=50 ..........\n",
      "[CV]  max_features=0.2, min_samples_leaf=50, n_estimators=50, score=-0.41225505016803093, total=  18.5s\n",
      "[Parallel(n_jobs=1)]: Done  46 out of  46 | elapsed:  8.0min remaining:    0.0s\n",
      "[CV] max_features=0.2, min_samples_leaf=50, n_estimators=50 ..........\n",
      "[CV]  max_features=0.2, min_samples_leaf=50, n_estimators=50, score=-0.41159661174327367, total=  17.3s\n",
      "[Parallel(n_jobs=1)]: Done  47 out of  47 | elapsed:  8.3min remaining:    0.0s\n",
      "[CV] max_features=0.2, min_samples_leaf=50, n_estimators=50 ..........\n",
      "[CV]  max_features=0.2, min_samples_leaf=50, n_estimators=50, score=-0.41218333828892195, total=  15.2s\n",
      "[Parallel(n_jobs=1)]: Done  48 out of  48 | elapsed:  8.6min remaining:    0.0s\n",
      "[CV] max_features=0.4, min_samples_leaf=2, n_estimators=5 ............\n",
      "[CV]  max_features=0.4, min_samples_leaf=2, n_estimators=5, score=-0.4064781110446187, total=   4.3s\n",
      "[Parallel(n_jobs=1)]: Done  49 out of  49 | elapsed:  8.7min remaining:    0.0s\n",
      "[CV] max_features=0.4, min_samples_leaf=2, n_estimators=5 ............\n",
      "[CV]  max_features=0.4, min_samples_leaf=2, n_estimators=5, score=-0.4072716871684381, total=   5.4s\n",
      "[Parallel(n_jobs=1)]: Done  50 out of  50 | elapsed:  8.8min remaining:    0.0s\n",
      "[CV] max_features=0.4, min_samples_leaf=2, n_estimators=5 ............\n",
      "[CV]  max_features=0.4, min_samples_leaf=2, n_estimators=5, score=-0.4061732123642969, total=   4.6s\n",
      "[Parallel(n_jobs=1)]: Done  51 out of  51 | elapsed:  8.9min remaining:    0.0s\n",
      "[CV] max_features=0.4, min_samples_leaf=2, n_estimators=10 ...........\n",
      "[CV]  max_features=0.4, min_samples_leaf=2, n_estimators=10, score=-0.4063158388481307, total=   7.2s\n",
      "[Parallel(n_jobs=1)]: Done  52 out of  52 | elapsed:  9.0min remaining:    0.0s\n",
      "[CV] max_features=0.4, min_samples_leaf=2, n_estimators=10 ...........\n",
      "[CV]  max_features=0.4, min_samples_leaf=2, n_estimators=10, score=-0.40726895362410204, total=   6.9s\n",
      "[Parallel(n_jobs=1)]: Done  53 out of  53 | elapsed:  9.1min remaining:    0.0s\n",
      "[CV] max_features=0.4, min_samples_leaf=2, n_estimators=10 ...........\n",
      "[CV]  max_features=0.4, min_samples_leaf=2, n_estimators=10, score=-0.40620513885910425, total=   8.1s\n",
      "[Parallel(n_jobs=1)]: Done  54 out of  54 | elapsed:  9.3min remaining:    0.0s\n",
      "[CV] max_features=0.4, min_samples_leaf=2, n_estimators=20 ...........\n",
      "[CV]  max_features=0.4, min_samples_leaf=2, n_estimators=20, score=-0.40631648448293967, total=  13.8s\n",
      "[Parallel(n_jobs=1)]: Done  55 out of  55 | elapsed:  9.5min remaining:    0.0s\n",
      "[CV] max_features=0.4, min_samples_leaf=2, n_estimators=20 ...........\n",
      "[CV]  max_features=0.4, min_samples_leaf=2, n_estimators=20, score=-0.4072711154762036, total=  14.7s\n",
      "[Parallel(n_jobs=1)]: Done  56 out of  56 | elapsed:  9.8min remaining:    0.0s\n",
      "[CV] max_features=0.4, min_samples_leaf=2, n_estimators=20 ...........\n",
      "[CV]  max_features=0.4, min_samples_leaf=2, n_estimators=20, score=-0.4061693361189526, total=  13.8s\n",
      "[Parallel(n_jobs=1)]: Done  57 out of  57 | elapsed: 10.0min remaining:    0.0s\n",
      "[CV] max_features=0.4, min_samples_leaf=2, n_estimators=50 ...........\n",
      "[CV]  max_features=0.4, min_samples_leaf=2, n_estimators=50, score=-0.4063217608354579, total=  32.7s\n",
      "[Parallel(n_jobs=1)]: Done  58 out of  58 | elapsed: 10.6min remaining:    0.0s\n",
      "[CV] max_features=0.4, min_samples_leaf=2, n_estimators=50 ...........\n",
      "[CV]  max_features=0.4, min_samples_leaf=2, n_estimators=50, score=-0.40726805037770236, total=  35.1s\n",
      "[Parallel(n_jobs=1)]: Done  59 out of  59 | elapsed: 11.2min remaining:    0.0s\n",
      "[CV] max_features=0.4, min_samples_leaf=2, n_estimators=50 ...........\n",
      "[CV]  max_features=0.4, min_samples_leaf=2, n_estimators=50, score=-0.40616758609777576, total=  34.4s\n",
      "[Parallel(n_jobs=1)]: Done  60 out of  60 | elapsed: 11.8min remaining:    0.0s\n",
      "[CV] max_features=0.4, min_samples_leaf=10, n_estimators=5 ...........\n",
      "[CV]  max_features=0.4, min_samples_leaf=10, n_estimators=5, score=-0.4066042934211131, total=   3.4s\n",
      "[Parallel(n_jobs=1)]: Done  61 out of  61 | elapsed: 11.9min remaining:    0.0s\n",
      "[CV] max_features=0.4, min_samples_leaf=10, n_estimators=5 ...........\n",
      "[CV]  max_features=0.4, min_samples_leaf=10, n_estimators=5, score=-0.4072858515214751, total=   3.5s\n",
      "[Parallel(n_jobs=1)]: Done  62 out of  62 | elapsed: 12.0min remaining:    0.0s\n",
      "[CV] max_features=0.4, min_samples_leaf=10, n_estimators=5 ...........\n",
      "[CV]  max_features=0.4, min_samples_leaf=10, n_estimators=5, score=-0.4062091595142316, total=   3.5s\n",
      "[Parallel(n_jobs=1)]: Done  63 out of  63 | elapsed: 12.0min remaining:    0.0s\n",
      "[CV] max_features=0.4, min_samples_leaf=10, n_estimators=10 ..........\n",
      "[CV]  max_features=0.4, min_samples_leaf=10, n_estimators=10, score=-0.4063520253972211, total=   6.4s\n",
      "[Parallel(n_jobs=1)]: Done  64 out of  64 | elapsed: 12.2min remaining:    0.0s\n",
      "[CV] max_features=0.4, min_samples_leaf=10, n_estimators=10 ..........\n",
      "[CV]  max_features=0.4, min_samples_leaf=10, n_estimators=10, score=-0.4081054736348281, total=   4.8s\n",
      "[Parallel(n_jobs=1)]: Done  65 out of  65 | elapsed: 12.2min remaining:    0.0s\n",
      "[CV] max_features=0.4, min_samples_leaf=10, n_estimators=10 ..........\n"
     ]
    },
    {
     "name": "stdout",
     "output_type": "stream",
     "text": [
      "[CV]  max_features=0.4, min_samples_leaf=10, n_estimators=10, score=-0.40650809979700797, total=   5.5s\n",
      "[Parallel(n_jobs=1)]: Done  66 out of  66 | elapsed: 12.3min remaining:    0.0s\n",
      "[CV] max_features=0.4, min_samples_leaf=10, n_estimators=20 ..........\n",
      "[CV]  max_features=0.4, min_samples_leaf=10, n_estimators=20, score=-0.40679426446490724, total=   9.1s\n",
      "[Parallel(n_jobs=1)]: Done  67 out of  67 | elapsed: 12.5min remaining:    0.0s\n",
      "[CV] max_features=0.4, min_samples_leaf=10, n_estimators=20 ..........\n",
      "[CV]  max_features=0.4, min_samples_leaf=10, n_estimators=20, score=-0.40734536995510523, total=  11.3s\n",
      "[Parallel(n_jobs=1)]: Done  68 out of  68 | elapsed: 12.7min remaining:    0.0s\n",
      "[CV] max_features=0.4, min_samples_leaf=10, n_estimators=20 ..........\n",
      "[CV]  max_features=0.4, min_samples_leaf=10, n_estimators=20, score=-0.4064454829084755, total=  11.9s\n",
      "[Parallel(n_jobs=1)]: Done  69 out of  69 | elapsed: 12.9min remaining:    0.0s\n",
      "[CV] max_features=0.4, min_samples_leaf=10, n_estimators=50 ..........\n",
      "[CV]  max_features=0.4, min_samples_leaf=10, n_estimators=50, score=-0.40681565365560857, total=  24.8s\n",
      "[Parallel(n_jobs=1)]: Done  70 out of  70 | elapsed: 13.4min remaining:    0.0s\n",
      "[CV] max_features=0.4, min_samples_leaf=10, n_estimators=50 ..........\n",
      "[CV]  max_features=0.4, min_samples_leaf=10, n_estimators=50, score=-0.40776503007966425, total=  25.2s\n",
      "[Parallel(n_jobs=1)]: Done  71 out of  71 | elapsed: 13.8min remaining:    0.0s\n",
      "[CV] max_features=0.4, min_samples_leaf=10, n_estimators=50 ..........\n",
      "[CV]  max_features=0.4, min_samples_leaf=10, n_estimators=50, score=-0.40660018848756874, total=  25.2s\n",
      "[Parallel(n_jobs=1)]: Done  72 out of  72 | elapsed: 14.3min remaining:    0.0s\n",
      "[CV] max_features=0.4, min_samples_leaf=20, n_estimators=5 ...........\n",
      "[CV]  max_features=0.4, min_samples_leaf=20, n_estimators=5, score=-0.40825707231782493, total=   2.6s\n",
      "[Parallel(n_jobs=1)]: Done  73 out of  73 | elapsed: 14.3min remaining:    0.0s\n",
      "[CV] max_features=0.4, min_samples_leaf=20, n_estimators=5 ...........\n",
      "[CV]  max_features=0.4, min_samples_leaf=20, n_estimators=5, score=-0.40883648672138634, total=   2.6s\n",
      "[Parallel(n_jobs=1)]: Done  74 out of  74 | elapsed: 14.4min remaining:    0.0s\n",
      "[CV] max_features=0.4, min_samples_leaf=20, n_estimators=5 ...........\n",
      "[CV]  max_features=0.4, min_samples_leaf=20, n_estimators=5, score=-0.40633835957063263, total=   3.7s\n",
      "[Parallel(n_jobs=1)]: Done  75 out of  75 | elapsed: 14.4min remaining:    0.0s\n",
      "[CV] max_features=0.4, min_samples_leaf=20, n_estimators=10 ..........\n",
      "[CV]  max_features=0.4, min_samples_leaf=20, n_estimators=10, score=-0.4111309101799947, total=   3.9s\n",
      "[Parallel(n_jobs=1)]: Done  76 out of  76 | elapsed: 14.5min remaining:    0.0s\n",
      "[CV] max_features=0.4, min_samples_leaf=20, n_estimators=10 ..........\n",
      "[CV]  max_features=0.4, min_samples_leaf=20, n_estimators=10, score=-0.409754435729467, total=   4.3s\n",
      "[Parallel(n_jobs=1)]: Done  77 out of  77 | elapsed: 14.6min remaining:    0.0s\n",
      "[CV] max_features=0.4, min_samples_leaf=20, n_estimators=10 ..........\n",
      "[CV]  max_features=0.4, min_samples_leaf=20, n_estimators=10, score=-0.4080661218302616, total=   4.6s\n",
      "[Parallel(n_jobs=1)]: Done  78 out of  78 | elapsed: 14.7min remaining:    0.0s\n",
      "[CV] max_features=0.4, min_samples_leaf=20, n_estimators=20 ..........\n",
      "[CV]  max_features=0.4, min_samples_leaf=20, n_estimators=20, score=-0.41359844972744914, total=   7.6s\n",
      "[Parallel(n_jobs=1)]: Done  79 out of  79 | elapsed: 14.8min remaining:    0.0s\n",
      "[CV] max_features=0.4, min_samples_leaf=20, n_estimators=20 ..........\n",
      "[CV]  max_features=0.4, min_samples_leaf=20, n_estimators=20, score=-0.4098552530648632, total=   7.8s\n",
      "[Parallel(n_jobs=1)]: Done  80 out of  80 | elapsed: 15.0min remaining:    0.0s\n",
      "[CV] max_features=0.4, min_samples_leaf=20, n_estimators=20 ..........\n",
      "[CV]  max_features=0.4, min_samples_leaf=20, n_estimators=20, score=-0.41069008064378887, total=   7.6s\n",
      "[Parallel(n_jobs=1)]: Done  81 out of  81 | elapsed: 15.1min remaining:    0.0s\n",
      "[CV] max_features=0.4, min_samples_leaf=20, n_estimators=50 ..........\n",
      "[CV]  max_features=0.4, min_samples_leaf=20, n_estimators=50, score=-0.4092136147813863, total=  19.2s\n",
      "[Parallel(n_jobs=1)]: Done  82 out of  82 | elapsed: 15.4min remaining:    0.0s\n",
      "[CV] max_features=0.4, min_samples_leaf=20, n_estimators=50 ..........\n",
      "[CV]  max_features=0.4, min_samples_leaf=20, n_estimators=50, score=-0.4086872405603353, total=  21.1s\n",
      "[Parallel(n_jobs=1)]: Done  83 out of  83 | elapsed: 15.8min remaining:    0.0s\n",
      "[CV] max_features=0.4, min_samples_leaf=20, n_estimators=50 ..........\n",
      "[CV]  max_features=0.4, min_samples_leaf=20, n_estimators=50, score=-0.4118933610397592, total=  16.7s\n",
      "[Parallel(n_jobs=1)]: Done  84 out of  84 | elapsed: 16.1min remaining:    0.0s\n",
      "[CV] max_features=0.4, min_samples_leaf=50, n_estimators=5 ...........\n",
      "[CV]  max_features=0.4, min_samples_leaf=50, n_estimators=5, score=-0.4081063784859054, total=   2.8s\n",
      "[Parallel(n_jobs=1)]: Done  85 out of  85 | elapsed: 16.2min remaining:    0.0s\n",
      "[CV] max_features=0.4, min_samples_leaf=50, n_estimators=5 ...........\n",
      "[CV]  max_features=0.4, min_samples_leaf=50, n_estimators=5, score=-0.4083709178581223, total=   2.4s\n",
      "[Parallel(n_jobs=1)]: Done  86 out of  86 | elapsed: 16.2min remaining:    0.0s\n",
      "[CV] max_features=0.4, min_samples_leaf=50, n_estimators=5 ...........\n",
      "[CV]  max_features=0.4, min_samples_leaf=50, n_estimators=5, score=-0.4063658487537781, total=   3.0s\n",
      "[Parallel(n_jobs=1)]: Done  87 out of  87 | elapsed: 16.3min remaining:    0.0s\n",
      "[CV] max_features=0.4, min_samples_leaf=50, n_estimators=10 ..........\n",
      "[CV]  max_features=0.4, min_samples_leaf=50, n_estimators=10, score=-0.40907366659815786, total=   4.6s\n",
      "[Parallel(n_jobs=1)]: Done  88 out of  88 | elapsed: 16.4min remaining:    0.0s\n",
      "[CV] max_features=0.4, min_samples_leaf=50, n_estimators=10 ..........\n",
      "[CV]  max_features=0.4, min_samples_leaf=50, n_estimators=10, score=-0.40988857630650977, total=   4.4s\n",
      "[Parallel(n_jobs=1)]: Done  89 out of  89 | elapsed: 16.4min remaining:    0.0s\n",
      "[CV] max_features=0.4, min_samples_leaf=50, n_estimators=10 ..........\n",
      "[CV]  max_features=0.4, min_samples_leaf=50, n_estimators=10, score=-0.41217602008022447, total=   3.3s\n",
      "[Parallel(n_jobs=1)]: Done  90 out of  90 | elapsed: 16.5min remaining:    0.0s\n",
      "[CV] max_features=0.4, min_samples_leaf=50, n_estimators=20 ..........\n",
      "[CV]  max_features=0.4, min_samples_leaf=50, n_estimators=20, score=-0.40673248417524605, total=   9.1s\n",
      "[Parallel(n_jobs=1)]: Done  91 out of  91 | elapsed: 16.7min remaining:    0.0s\n",
      "[CV] max_features=0.4, min_samples_leaf=50, n_estimators=20 ..........\n",
      "[CV]  max_features=0.4, min_samples_leaf=50, n_estimators=20, score=-0.4160262840290198, total=   6.7s\n",
      "[Parallel(n_jobs=1)]: Done  92 out of  92 | elapsed: 16.8min remaining:    0.0s\n",
      "[CV] max_features=0.4, min_samples_leaf=50, n_estimators=20 ..........\n",
      "[CV]  max_features=0.4, min_samples_leaf=50, n_estimators=20, score=-0.4100371020359257, total=   7.2s\n",
      "[Parallel(n_jobs=1)]: Done  93 out of  93 | elapsed: 16.9min remaining:    0.0s\n",
      "[CV] max_features=0.4, min_samples_leaf=50, n_estimators=50 ..........\n",
      "[CV]  max_features=0.4, min_samples_leaf=50, n_estimators=50, score=-0.41063921550074334, total=  16.4s\n",
      "[Parallel(n_jobs=1)]: Done  94 out of  94 | elapsed: 17.2min remaining:    0.0s\n",
      "[CV] max_features=0.4, min_samples_leaf=50, n_estimators=50 ..........\n",
      "[CV]  max_features=0.4, min_samples_leaf=50, n_estimators=50, score=-0.4104725709581369, total=  18.1s\n",
      "[Parallel(n_jobs=1)]: Done  95 out of  95 | elapsed: 17.5min remaining:    0.0s\n",
      "[CV] max_features=0.4, min_samples_leaf=50, n_estimators=50 ..........\n",
      "[CV]  max_features=0.4, min_samples_leaf=50, n_estimators=50, score=-0.40842962569139096, total=  17.7s\n",
      "[Parallel(n_jobs=1)]: Done  96 out of  96 | elapsed: 17.9min remaining:    0.0s\n",
      "[CV] max_features=0.6, min_samples_leaf=2, n_estimators=5 ............\n",
      "[CV]  max_features=0.6, min_samples_leaf=2, n_estimators=5, score=-0.40631670100901485, total=   4.4s\n",
      "[Parallel(n_jobs=1)]: Done  97 out of  97 | elapsed: 17.9min remaining:    0.0s\n",
      "[CV] max_features=0.6, min_samples_leaf=2, n_estimators=5 ............\n",
      "[CV]  max_features=0.6, min_samples_leaf=2, n_estimators=5, score=-0.4072743604650668, total=   4.3s\n",
      "[Parallel(n_jobs=1)]: Done  98 out of  98 | elapsed: 18.0min remaining:    0.0s\n",
      "[CV] max_features=0.6, min_samples_leaf=2, n_estimators=5 ............\n"
     ]
    },
    {
     "name": "stdout",
     "output_type": "stream",
     "text": [
      "[CV]  max_features=0.6, min_samples_leaf=2, n_estimators=5, score=-0.40616774898539404, total=   3.9s\n",
      "[Parallel(n_jobs=1)]: Done  99 out of  99 | elapsed: 18.1min remaining:    0.0s\n",
      "[CV] max_features=0.6, min_samples_leaf=2, n_estimators=10 ...........\n",
      "[CV]  max_features=0.6, min_samples_leaf=2, n_estimators=10, score=-0.40631325509868055, total=   7.3s\n",
      "[Parallel(n_jobs=1)]: Done 100 out of 100 | elapsed: 18.2min remaining:    0.0s\n",
      "[CV] max_features=0.6, min_samples_leaf=2, n_estimators=10 ...........\n",
      "[CV]  max_features=0.6, min_samples_leaf=2, n_estimators=10, score=-0.4072701299039894, total=   7.5s\n",
      "[Parallel(n_jobs=1)]: Done 101 out of 101 | elapsed: 18.4min remaining:    0.0s\n",
      "[CV] max_features=0.6, min_samples_leaf=2, n_estimators=10 ...........\n",
      "[CV]  max_features=0.6, min_samples_leaf=2, n_estimators=10, score=-0.40617692177543646, total=   8.6s\n",
      "[Parallel(n_jobs=1)]: Done 102 out of 102 | elapsed: 18.5min remaining:    0.0s\n",
      "[CV] max_features=0.6, min_samples_leaf=2, n_estimators=20 ...........\n",
      "[CV]  max_features=0.6, min_samples_leaf=2, n_estimators=20, score=-0.40631877512980885, total=  15.1s\n",
      "[Parallel(n_jobs=1)]: Done 103 out of 103 | elapsed: 18.8min remaining:    0.0s\n",
      "[CV] max_features=0.6, min_samples_leaf=2, n_estimators=20 ...........\n",
      "[CV]  max_features=0.6, min_samples_leaf=2, n_estimators=20, score=-0.4072685471133963, total=  14.0s\n",
      "[Parallel(n_jobs=1)]: Done 104 out of 104 | elapsed: 19.0min remaining:    0.0s\n",
      "[CV] max_features=0.6, min_samples_leaf=2, n_estimators=20 ...........\n",
      "[CV]  max_features=0.6, min_samples_leaf=2, n_estimators=20, score=-0.40617240662036724, total=  14.0s\n",
      "[Parallel(n_jobs=1)]: Done 105 out of 105 | elapsed: 19.3min remaining:    0.0s\n",
      "[CV] max_features=0.6, min_samples_leaf=2, n_estimators=50 ...........\n",
      "[CV]  max_features=0.6, min_samples_leaf=2, n_estimators=50, score=-0.40631806026145206, total=  33.0s\n",
      "[Parallel(n_jobs=1)]: Done 106 out of 106 | elapsed: 19.9min remaining:    0.0s\n",
      "[CV] max_features=0.6, min_samples_leaf=2, n_estimators=50 ...........\n",
      "[CV]  max_features=0.6, min_samples_leaf=2, n_estimators=50, score=-0.4072680701326849, total=  34.0s\n",
      "[Parallel(n_jobs=1)]: Done 107 out of 107 | elapsed: 20.5min remaining:    0.0s\n",
      "[CV] max_features=0.6, min_samples_leaf=2, n_estimators=50 ...........\n",
      "[CV]  max_features=0.6, min_samples_leaf=2, n_estimators=50, score=-0.4061691275824805, total=  33.6s\n",
      "[Parallel(n_jobs=1)]: Done 108 out of 108 | elapsed: 21.1min remaining:    0.0s\n",
      "[CV] max_features=0.6, min_samples_leaf=10, n_estimators=5 ...........\n",
      "[CV]  max_features=0.6, min_samples_leaf=10, n_estimators=5, score=-0.40791002189456044, total=   2.9s\n",
      "[Parallel(n_jobs=1)]: Done 109 out of 109 | elapsed: 21.1min remaining:    0.0s\n",
      "[CV] max_features=0.6, min_samples_leaf=10, n_estimators=5 ...........\n",
      "[CV]  max_features=0.6, min_samples_leaf=10, n_estimators=5, score=-0.4073962605247271, total=   3.1s\n",
      "[Parallel(n_jobs=1)]: Done 110 out of 110 | elapsed: 21.2min remaining:    0.0s\n",
      "[CV] max_features=0.6, min_samples_leaf=10, n_estimators=5 ...........\n",
      "[CV]  max_features=0.6, min_samples_leaf=10, n_estimators=5, score=-0.40634862887353623, total=   3.3s\n",
      "[Parallel(n_jobs=1)]: Done 111 out of 111 | elapsed: 21.2min remaining:    0.0s\n",
      "[CV] max_features=0.6, min_samples_leaf=10, n_estimators=10 ..........\n",
      "[CV]  max_features=0.6, min_samples_leaf=10, n_estimators=10, score=-0.40648405462129367, total=   6.0s\n",
      "[Parallel(n_jobs=1)]: Done 112 out of 112 | elapsed: 21.3min remaining:    0.0s\n",
      "[CV] max_features=0.6, min_samples_leaf=10, n_estimators=10 ..........\n",
      "[CV]  max_features=0.6, min_samples_leaf=10, n_estimators=10, score=-0.40758201162244956, total=   5.4s\n",
      "[Parallel(n_jobs=1)]: Done 113 out of 113 | elapsed: 21.4min remaining:    0.0s\n",
      "[CV] max_features=0.6, min_samples_leaf=10, n_estimators=10 ..........\n",
      "[CV]  max_features=0.6, min_samples_leaf=10, n_estimators=10, score=-0.4067303176069768, total=   5.7s\n",
      "[Parallel(n_jobs=1)]: Done 114 out of 114 | elapsed: 21.5min remaining:    0.0s\n",
      "[CV] max_features=0.6, min_samples_leaf=10, n_estimators=20 ..........\n",
      "[CV]  max_features=0.6, min_samples_leaf=10, n_estimators=20, score=-0.40651901601644813, total=  10.6s\n",
      "[Parallel(n_jobs=1)]: Done 115 out of 115 | elapsed: 21.7min remaining:    0.0s\n",
      "[CV] max_features=0.6, min_samples_leaf=10, n_estimators=20 ..........\n",
      "[CV]  max_features=0.6, min_samples_leaf=10, n_estimators=20, score=-0.40773653049579056, total=  10.8s\n",
      "[Parallel(n_jobs=1)]: Done 116 out of 116 | elapsed: 21.9min remaining:    0.0s\n",
      "[CV] max_features=0.6, min_samples_leaf=10, n_estimators=20 ..........\n",
      "[CV]  max_features=0.6, min_samples_leaf=10, n_estimators=20, score=-0.4067137904378727, total=  10.2s\n",
      "[Parallel(n_jobs=1)]: Done 117 out of 117 | elapsed: 22.1min remaining:    0.0s\n",
      "[CV] max_features=0.6, min_samples_leaf=10, n_estimators=50 ..........\n",
      "[CV]  max_features=0.6, min_samples_leaf=10, n_estimators=50, score=-0.4065049198507243, total=  26.9s\n",
      "[Parallel(n_jobs=1)]: Done 118 out of 118 | elapsed: 22.6min remaining:    0.0s\n",
      "[CV] max_features=0.6, min_samples_leaf=10, n_estimators=50 ..........\n",
      "[CV]  max_features=0.6, min_samples_leaf=10, n_estimators=50, score=-0.4074293738884606, total=  30.3s\n",
      "[Parallel(n_jobs=1)]: Done 119 out of 119 | elapsed: 23.1min remaining:    0.0s\n",
      "[CV] max_features=0.6, min_samples_leaf=10, n_estimators=50 ..........\n",
      "[CV]  max_features=0.6, min_samples_leaf=10, n_estimators=50, score=-0.40637249276427945, total=  30.1s\n",
      "[Parallel(n_jobs=1)]: Done 120 out of 120 | elapsed: 23.7min remaining:    0.0s\n",
      "[CV] max_features=0.6, min_samples_leaf=20, n_estimators=5 ...........\n",
      "[CV]  max_features=0.6, min_samples_leaf=20, n_estimators=5, score=-0.4081972581589344, total=   4.3s\n",
      "[Parallel(n_jobs=1)]: Done 121 out of 121 | elapsed: 23.7min remaining:    0.0s\n",
      "[CV] max_features=0.6, min_samples_leaf=20, n_estimators=5 ...........\n",
      "[CV]  max_features=0.6, min_samples_leaf=20, n_estimators=5, score=-0.4095429945902628, total=   2.6s\n",
      "[Parallel(n_jobs=1)]: Done 122 out of 122 | elapsed: 23.8min remaining:    0.0s\n",
      "[CV] max_features=0.6, min_samples_leaf=20, n_estimators=5 ...........\n",
      "[CV]  max_features=0.6, min_samples_leaf=20, n_estimators=5, score=-0.40779793651148294, total=   3.6s\n",
      "[Parallel(n_jobs=1)]: Done 123 out of 123 | elapsed: 23.9min remaining:    0.0s\n",
      "[CV] max_features=0.6, min_samples_leaf=20, n_estimators=10 ..........\n",
      "[CV]  max_features=0.6, min_samples_leaf=20, n_estimators=10, score=-0.408450971111309, total=   5.2s\n",
      "[Parallel(n_jobs=1)]: Done 124 out of 124 | elapsed: 23.9min remaining:    0.0s\n",
      "[CV] max_features=0.6, min_samples_leaf=20, n_estimators=10 ..........\n",
      "[CV]  max_features=0.6, min_samples_leaf=20, n_estimators=10, score=-0.41227325732511716, total=   5.1s\n",
      "[Parallel(n_jobs=1)]: Done 125 out of 125 | elapsed: 24.0min remaining:    0.0s\n",
      "[CV] max_features=0.6, min_samples_leaf=20, n_estimators=10 ..........\n",
      "[CV]  max_features=0.6, min_samples_leaf=20, n_estimators=10, score=-0.40619213055112185, total=   7.3s\n",
      "[Parallel(n_jobs=1)]: Done 126 out of 126 | elapsed: 24.2min remaining:    0.0s\n",
      "[CV] max_features=0.6, min_samples_leaf=20, n_estimators=20 ..........\n",
      "[CV]  max_features=0.6, min_samples_leaf=20, n_estimators=20, score=-0.4073432447879354, total=  12.3s\n",
      "[Parallel(n_jobs=1)]: Done 127 out of 127 | elapsed: 24.4min remaining:    0.0s\n",
      "[CV] max_features=0.6, min_samples_leaf=20, n_estimators=20 ..........\n",
      "[CV]  max_features=0.6, min_samples_leaf=20, n_estimators=20, score=-0.4076546931615703, total=  11.6s\n",
      "[Parallel(n_jobs=1)]: Done 128 out of 128 | elapsed: 24.6min remaining:    0.0s\n",
      "[CV] max_features=0.6, min_samples_leaf=20, n_estimators=20 ..........\n",
      "[CV]  max_features=0.6, min_samples_leaf=20, n_estimators=20, score=-0.40749072280590565, total=   8.4s\n",
      "[Parallel(n_jobs=1)]: Done 129 out of 129 | elapsed: 24.8min remaining:    0.0s\n",
      "[CV] max_features=0.6, min_samples_leaf=20, n_estimators=50 ..........\n",
      "[CV]  max_features=0.6, min_samples_leaf=20, n_estimators=50, score=-0.40709508583918214, total=  23.6s\n",
      "[Parallel(n_jobs=1)]: Done 130 out of 130 | elapsed: 25.2min remaining:    0.0s\n",
      "[CV] max_features=0.6, min_samples_leaf=20, n_estimators=50 ..........\n",
      "[CV]  max_features=0.6, min_samples_leaf=20, n_estimators=50, score=-0.4079528229080326, total=  24.2s\n",
      "[Parallel(n_jobs=1)]: Done 131 out of 131 | elapsed: 25.6min remaining:    0.0s\n",
      "[CV] max_features=0.6, min_samples_leaf=20, n_estimators=50 ..........\n"
     ]
    },
    {
     "name": "stdout",
     "output_type": "stream",
     "text": [
      "[CV]  max_features=0.6, min_samples_leaf=20, n_estimators=50, score=-0.4068103654092018, total=  21.2s\n",
      "[Parallel(n_jobs=1)]: Done 132 out of 132 | elapsed: 26.0min remaining:    0.0s\n",
      "[CV] max_features=0.6, min_samples_leaf=50, n_estimators=5 ...........\n",
      "[CV]  max_features=0.6, min_samples_leaf=50, n_estimators=5, score=-0.40655224268858253, total=   3.1s\n",
      "[Parallel(n_jobs=1)]: Done 133 out of 133 | elapsed: 26.0min remaining:    0.0s\n",
      "[CV] max_features=0.6, min_samples_leaf=50, n_estimators=5 ...........\n",
      "[CV]  max_features=0.6, min_samples_leaf=50, n_estimators=5, score=-0.4078011699445228, total=   3.2s\n",
      "[Parallel(n_jobs=1)]: Done 134 out of 134 | elapsed: 26.1min remaining:    0.0s\n",
      "[CV] max_features=0.6, min_samples_leaf=50, n_estimators=5 ...........\n",
      "[CV]  max_features=0.6, min_samples_leaf=50, n_estimators=5, score=-0.406410444985832, total=   3.0s\n",
      "[Parallel(n_jobs=1)]: Done 135 out of 135 | elapsed: 26.2min remaining:    0.0s\n",
      "[CV] max_features=0.6, min_samples_leaf=50, n_estimators=10 ..........\n",
      "[CV]  max_features=0.6, min_samples_leaf=50, n_estimators=10, score=-0.4076471469526914, total=   5.0s\n",
      "[Parallel(n_jobs=1)]: Done 136 out of 136 | elapsed: 26.3min remaining:    0.0s\n",
      "[CV] max_features=0.6, min_samples_leaf=50, n_estimators=10 ..........\n",
      "[CV]  max_features=0.6, min_samples_leaf=50, n_estimators=10, score=-0.4107710005932967, total=   4.7s\n",
      "[Parallel(n_jobs=1)]: Done 137 out of 137 | elapsed: 26.3min remaining:    0.0s\n",
      "[CV] max_features=0.6, min_samples_leaf=50, n_estimators=10 ..........\n",
      "[CV]  max_features=0.6, min_samples_leaf=50, n_estimators=10, score=-0.40681107948126083, total=   5.0s\n",
      "[Parallel(n_jobs=1)]: Done 138 out of 138 | elapsed: 26.4min remaining:    0.0s\n",
      "[CV] max_features=0.6, min_samples_leaf=50, n_estimators=20 ..........\n",
      "[CV]  max_features=0.6, min_samples_leaf=50, n_estimators=20, score=-0.407618603725954, total=   8.8s\n",
      "[Parallel(n_jobs=1)]: Done 139 out of 139 | elapsed: 26.6min remaining:    0.0s\n",
      "[CV] max_features=0.6, min_samples_leaf=50, n_estimators=20 ..........\n",
      "[CV]  max_features=0.6, min_samples_leaf=50, n_estimators=20, score=-0.4091830405863913, total=   8.2s\n",
      "[Parallel(n_jobs=1)]: Done 140 out of 140 | elapsed: 26.7min remaining:    0.0s\n",
      "[CV] max_features=0.6, min_samples_leaf=50, n_estimators=20 ..........\n",
      "[CV]  max_features=0.6, min_samples_leaf=50, n_estimators=20, score=-0.406519076109737, total=  10.2s\n",
      "[Parallel(n_jobs=1)]: Done 141 out of 141 | elapsed: 26.9min remaining:    0.0s\n",
      "[CV] max_features=0.6, min_samples_leaf=50, n_estimators=50 ..........\n",
      "[CV]  max_features=0.6, min_samples_leaf=50, n_estimators=50, score=-0.4068929247388967, total=  20.7s\n",
      "[Parallel(n_jobs=1)]: Done 142 out of 142 | elapsed: 27.3min remaining:    0.0s\n",
      "[CV] max_features=0.6, min_samples_leaf=50, n_estimators=50 ..........\n",
      "[CV]  max_features=0.6, min_samples_leaf=50, n_estimators=50, score=-0.4086637113408212, total=  20.3s\n",
      "[Parallel(n_jobs=1)]: Done 143 out of 143 | elapsed: 27.7min remaining:    0.0s\n",
      "[CV] max_features=0.6, min_samples_leaf=50, n_estimators=50 ..........\n",
      "[CV]  max_features=0.6, min_samples_leaf=50, n_estimators=50, score=-0.40762867981505174, total=  18.4s\n",
      "[Parallel(n_jobs=1)]: Done 144 out of 144 | elapsed: 28.0min remaining:    0.0s\n",
      "[CV] max_features=0.8, min_samples_leaf=2, n_estimators=5 ............\n",
      "[CV]  max_features=0.8, min_samples_leaf=2, n_estimators=5, score=-0.406317289929726, total=   3.9s\n",
      "[Parallel(n_jobs=1)]: Done 145 out of 145 | elapsed: 28.1min remaining:    0.0s\n",
      "[CV] max_features=0.8, min_samples_leaf=2, n_estimators=5 ............\n",
      "[CV]  max_features=0.8, min_samples_leaf=2, n_estimators=5, score=-0.4072713269260898, total=   4.2s\n",
      "[Parallel(n_jobs=1)]: Done 146 out of 146 | elapsed: 28.1min remaining:    0.0s\n",
      "[CV] max_features=0.8, min_samples_leaf=2, n_estimators=5 ............\n",
      "[CV]  max_features=0.8, min_samples_leaf=2, n_estimators=5, score=-0.4061699748629998, total=   4.3s\n",
      "[Parallel(n_jobs=1)]: Done 147 out of 147 | elapsed: 28.2min remaining:    0.0s\n",
      "[CV] max_features=0.8, min_samples_leaf=2, n_estimators=10 ...........\n",
      "[CV]  max_features=0.8, min_samples_leaf=2, n_estimators=10, score=-0.40633806238903236, total=   7.1s\n",
      "[Parallel(n_jobs=1)]: Done 148 out of 148 | elapsed: 28.3min remaining:    0.0s\n",
      "[CV] max_features=0.8, min_samples_leaf=2, n_estimators=10 ...........\n",
      "[CV]  max_features=0.8, min_samples_leaf=2, n_estimators=10, score=-0.4072731864250133, total=   7.5s\n",
      "[Parallel(n_jobs=1)]: Done 149 out of 149 | elapsed: 28.5min remaining:    0.0s\n",
      "[CV] max_features=0.8, min_samples_leaf=2, n_estimators=10 ...........\n",
      "[CV]  max_features=0.8, min_samples_leaf=2, n_estimators=10, score=-0.406174496382623, total=   7.4s\n",
      "[Parallel(n_jobs=1)]: Done 150 out of 150 | elapsed: 28.6min remaining:    0.0s\n",
      "[CV] max_features=0.8, min_samples_leaf=2, n_estimators=20 ...........\n",
      "[CV]  max_features=0.8, min_samples_leaf=2, n_estimators=20, score=-0.40631800395377304, total=  13.4s\n",
      "[Parallel(n_jobs=1)]: Done 151 out of 151 | elapsed: 28.8min remaining:    0.0s\n",
      "[CV] max_features=0.8, min_samples_leaf=2, n_estimators=20 ...........\n",
      "[CV]  max_features=0.8, min_samples_leaf=2, n_estimators=20, score=-0.407272571427544, total=  14.2s\n",
      "[Parallel(n_jobs=1)]: Done 152 out of 152 | elapsed: 29.1min remaining:    0.0s\n",
      "[CV] max_features=0.8, min_samples_leaf=2, n_estimators=20 ...........\n",
      "[CV]  max_features=0.8, min_samples_leaf=2, n_estimators=20, score=-0.40616840723323194, total=  13.2s\n",
      "[Parallel(n_jobs=1)]: Done 153 out of 153 | elapsed: 29.3min remaining:    0.0s\n",
      "[CV] max_features=0.8, min_samples_leaf=2, n_estimators=50 ...........\n",
      "[CV]  max_features=0.8, min_samples_leaf=2, n_estimators=50, score=-0.40631744963937244, total=  29.9s\n",
      "[Parallel(n_jobs=1)]: Done 154 out of 154 | elapsed: 29.9min remaining:    0.0s\n",
      "[CV] max_features=0.8, min_samples_leaf=2, n_estimators=50 ...........\n",
      "[CV]  max_features=0.8, min_samples_leaf=2, n_estimators=50, score=-0.4072691255539942, total=  31.7s\n",
      "[Parallel(n_jobs=1)]: Done 155 out of 155 | elapsed: 30.4min remaining:    0.0s\n",
      "[CV] max_features=0.8, min_samples_leaf=2, n_estimators=50 ...........\n",
      "[CV]  max_features=0.8, min_samples_leaf=2, n_estimators=50, score=-0.4061691138603646, total=  31.5s\n",
      "[Parallel(n_jobs=1)]: Done 156 out of 156 | elapsed: 31.0min remaining:    0.0s\n",
      "[CV] max_features=0.8, min_samples_leaf=10, n_estimators=5 ...........\n",
      "[CV]  max_features=0.8, min_samples_leaf=10, n_estimators=5, score=-0.40643766342489773, total=   3.2s\n",
      "[Parallel(n_jobs=1)]: Done 157 out of 157 | elapsed: 31.0min remaining:    0.0s\n",
      "[CV] max_features=0.8, min_samples_leaf=10, n_estimators=5 ...........\n",
      "[CV]  max_features=0.8, min_samples_leaf=10, n_estimators=5, score=-0.40738460636445417, total=   3.4s\n",
      "[Parallel(n_jobs=1)]: Done 158 out of 158 | elapsed: 31.1min remaining:    0.0s\n",
      "[CV] max_features=0.8, min_samples_leaf=10, n_estimators=5 ...........\n",
      "[CV]  max_features=0.8, min_samples_leaf=10, n_estimators=5, score=-0.4062103386735981, total=   3.3s\n",
      "[Parallel(n_jobs=1)]: Done 159 out of 159 | elapsed: 31.2min remaining:    0.0s\n",
      "[CV] max_features=0.8, min_samples_leaf=10, n_estimators=10 ..........\n",
      "[CV]  max_features=0.8, min_samples_leaf=10, n_estimators=10, score=-0.4064353292217709, total=   5.8s\n",
      "[Parallel(n_jobs=1)]: Done 160 out of 160 | elapsed: 31.3min remaining:    0.0s\n",
      "[CV] max_features=0.8, min_samples_leaf=10, n_estimators=10 ..........\n",
      "[CV]  max_features=0.8, min_samples_leaf=10, n_estimators=10, score=-0.4072906282655555, total=   5.8s\n",
      "[Parallel(n_jobs=1)]: Done 161 out of 161 | elapsed: 31.4min remaining:    0.0s\n",
      "[CV] max_features=0.8, min_samples_leaf=10, n_estimators=10 ..........\n",
      "[CV]  max_features=0.8, min_samples_leaf=10, n_estimators=10, score=-0.40655908174698585, total=   5.3s\n",
      "[Parallel(n_jobs=1)]: Done 162 out of 162 | elapsed: 31.5min remaining:    0.0s\n",
      "[CV] max_features=0.8, min_samples_leaf=10, n_estimators=20 ..........\n",
      "[CV]  max_features=0.8, min_samples_leaf=10, n_estimators=20, score=-0.40645450557250984, total=  10.6s\n",
      "[Parallel(n_jobs=1)]: Done 163 out of 163 | elapsed: 31.7min remaining:    0.0s\n",
      "[CV] max_features=0.8, min_samples_leaf=10, n_estimators=20 ..........\n",
      "[CV]  max_features=0.8, min_samples_leaf=10, n_estimators=20, score=-0.40756155558221346, total=  10.0s\n",
      "[Parallel(n_jobs=1)]: Done 164 out of 164 | elapsed: 31.8min remaining:    0.0s\n",
      "[CV] max_features=0.8, min_samples_leaf=10, n_estimators=20 ..........\n"
     ]
    },
    {
     "name": "stdout",
     "output_type": "stream",
     "text": [
      "[CV]  max_features=0.8, min_samples_leaf=10, n_estimators=20, score=-0.4063755017752602, total=  10.5s\n",
      "[Parallel(n_jobs=1)]: Done 165 out of 165 | elapsed: 32.0min remaining:    0.0s\n",
      "[CV] max_features=0.8, min_samples_leaf=10, n_estimators=50 ..........\n",
      "[CV]  max_features=0.8, min_samples_leaf=10, n_estimators=50, score=-0.4064121808278779, total=  24.4s\n",
      "[Parallel(n_jobs=1)]: Done 166 out of 166 | elapsed: 32.5min remaining:    0.0s\n",
      "[CV] max_features=0.8, min_samples_leaf=10, n_estimators=50 ..........\n",
      "[CV]  max_features=0.8, min_samples_leaf=10, n_estimators=50, score=-0.4074433999019346, total=  25.6s\n",
      "[Parallel(n_jobs=1)]: Done 167 out of 167 | elapsed: 32.9min remaining:    0.0s\n",
      "[CV] max_features=0.8, min_samples_leaf=10, n_estimators=50 ..........\n",
      "[CV]  max_features=0.8, min_samples_leaf=10, n_estimators=50, score=-0.4062317313349785, total=  25.9s\n",
      "[Parallel(n_jobs=1)]: Done 168 out of 168 | elapsed: 33.4min remaining:    0.0s\n",
      "[CV] max_features=0.8, min_samples_leaf=20, n_estimators=5 ...........\n",
      "[CV]  max_features=0.8, min_samples_leaf=20, n_estimators=5, score=-0.4064511759480665, total=   3.1s\n",
      "[Parallel(n_jobs=1)]: Done 169 out of 169 | elapsed: 33.4min remaining:    0.0s\n",
      "[CV] max_features=0.8, min_samples_leaf=20, n_estimators=5 ...........\n",
      "[CV]  max_features=0.8, min_samples_leaf=20, n_estimators=5, score=-0.40846317644714053, total=   3.0s\n",
      "[Parallel(n_jobs=1)]: Done 170 out of 170 | elapsed: 33.5min remaining:    0.0s\n",
      "[CV] max_features=0.8, min_samples_leaf=20, n_estimators=5 ...........\n",
      "[CV]  max_features=0.8, min_samples_leaf=20, n_estimators=5, score=-0.4078118606553298, total=   2.6s\n",
      "[Parallel(n_jobs=1)]: Done 171 out of 171 | elapsed: 33.5min remaining:    0.0s\n",
      "[CV] max_features=0.8, min_samples_leaf=20, n_estimators=10 ..........\n",
      "[CV]  max_features=0.8, min_samples_leaf=20, n_estimators=10, score=-0.40664908997174204, total=   5.2s\n",
      "[Parallel(n_jobs=1)]: Done 172 out of 172 | elapsed: 33.6min remaining:    0.0s\n",
      "[CV] max_features=0.8, min_samples_leaf=20, n_estimators=10 ..........\n",
      "[CV]  max_features=0.8, min_samples_leaf=20, n_estimators=10, score=-0.40746351627494387, total=   5.0s\n",
      "[Parallel(n_jobs=1)]: Done 173 out of 173 | elapsed: 33.7min remaining:    0.0s\n",
      "[CV] max_features=0.8, min_samples_leaf=20, n_estimators=10 ..........\n",
      "[CV]  max_features=0.8, min_samples_leaf=20, n_estimators=10, score=-0.40668066570259304, total=   5.2s\n",
      "[Parallel(n_jobs=1)]: Done 174 out of 174 | elapsed: 33.8min remaining:    0.0s\n",
      "[CV] max_features=0.8, min_samples_leaf=20, n_estimators=20 ..........\n",
      "[CV]  max_features=0.8, min_samples_leaf=20, n_estimators=20, score=-0.40635234571740214, total=  10.9s\n",
      "[Parallel(n_jobs=1)]: Done 175 out of 175 | elapsed: 34.0min remaining:    0.0s\n",
      "[CV] max_features=0.8, min_samples_leaf=20, n_estimators=20 ..........\n",
      "[CV]  max_features=0.8, min_samples_leaf=20, n_estimators=20, score=-0.407617092061727, total=   9.6s\n",
      "[Parallel(n_jobs=1)]: Done 176 out of 176 | elapsed: 34.2min remaining:    0.0s\n",
      "[CV] max_features=0.8, min_samples_leaf=20, n_estimators=20 ..........\n",
      "[CV]  max_features=0.8, min_samples_leaf=20, n_estimators=20, score=-0.4063440471430268, total=   9.8s\n",
      "[Parallel(n_jobs=1)]: Done 177 out of 177 | elapsed: 34.4min remaining:    0.0s\n",
      "[CV] max_features=0.8, min_samples_leaf=20, n_estimators=50 ..........\n",
      "[CV]  max_features=0.8, min_samples_leaf=20, n_estimators=50, score=-0.40658846033504414, total=  22.8s\n",
      "[Parallel(n_jobs=1)]: Done 178 out of 178 | elapsed: 34.8min remaining:    0.0s\n",
      "[CV] max_features=0.8, min_samples_leaf=20, n_estimators=50 ..........\n",
      "[CV]  max_features=0.8, min_samples_leaf=20, n_estimators=50, score=-0.40736993115071674, total=  27.8s\n",
      "[Parallel(n_jobs=1)]: Done 179 out of 179 | elapsed: 35.3min remaining:    0.0s\n",
      "[CV] max_features=0.8, min_samples_leaf=20, n_estimators=50 ..........\n",
      "[CV]  max_features=0.8, min_samples_leaf=20, n_estimators=50, score=-0.4063461052454327, total=  27.1s\n",
      "[Parallel(n_jobs=1)]: Done 180 out of 180 | elapsed: 35.8min remaining:    0.0s\n",
      "[CV] max_features=0.8, min_samples_leaf=50, n_estimators=5 ...........\n",
      "[CV]  max_features=0.8, min_samples_leaf=50, n_estimators=5, score=-0.40635354596985207, total=   3.7s\n",
      "[Parallel(n_jobs=1)]: Done 181 out of 181 | elapsed: 35.8min remaining:    0.0s\n",
      "[CV] max_features=0.8, min_samples_leaf=50, n_estimators=5 ...........\n",
      "[CV]  max_features=0.8, min_samples_leaf=50, n_estimators=5, score=-0.40745865918964413, total=   3.7s\n",
      "[Parallel(n_jobs=1)]: Done 182 out of 182 | elapsed: 35.9min remaining:    0.0s\n",
      "[CV] max_features=0.8, min_samples_leaf=50, n_estimators=5 ...........\n",
      "[CV]  max_features=0.8, min_samples_leaf=50, n_estimators=5, score=-0.4074352565344082, total=   4.2s\n",
      "[Parallel(n_jobs=1)]: Done 183 out of 183 | elapsed: 36.0min remaining:    0.0s\n",
      "[CV] max_features=0.8, min_samples_leaf=50, n_estimators=10 ..........\n",
      "[CV]  max_features=0.8, min_samples_leaf=50, n_estimators=10, score=-0.4067559701013278, total=   6.0s\n",
      "[Parallel(n_jobs=1)]: Done 184 out of 184 | elapsed: 36.1min remaining:    0.0s\n",
      "[CV] max_features=0.8, min_samples_leaf=50, n_estimators=10 ..........\n",
      "[CV]  max_features=0.8, min_samples_leaf=50, n_estimators=10, score=-0.4078951609320906, total=   4.9s\n",
      "[Parallel(n_jobs=1)]: Done 185 out of 185 | elapsed: 36.2min remaining:    0.0s\n",
      "[CV] max_features=0.8, min_samples_leaf=50, n_estimators=10 ..........\n",
      "[CV]  max_features=0.8, min_samples_leaf=50, n_estimators=10, score=-0.40637837482326783, total=   5.7s\n",
      "[Parallel(n_jobs=1)]: Done 186 out of 186 | elapsed: 36.3min remaining:    0.0s\n",
      "[CV] max_features=0.8, min_samples_leaf=50, n_estimators=20 ..........\n",
      "[CV]  max_features=0.8, min_samples_leaf=50, n_estimators=20, score=-0.4064392824180482, total=  11.2s\n",
      "[Parallel(n_jobs=1)]: Done 187 out of 187 | elapsed: 36.5min remaining:    0.0s\n",
      "[CV] max_features=0.8, min_samples_leaf=50, n_estimators=20 ..........\n",
      "[CV]  max_features=0.8, min_samples_leaf=50, n_estimators=20, score=-0.4076058726399946, total=  10.1s\n",
      "[Parallel(n_jobs=1)]: Done 188 out of 188 | elapsed: 36.6min remaining:    0.0s\n",
      "[CV] max_features=0.8, min_samples_leaf=50, n_estimators=20 ..........\n",
      "[CV]  max_features=0.8, min_samples_leaf=50, n_estimators=20, score=-0.40623980968413914, total=  11.4s\n",
      "[Parallel(n_jobs=1)]: Done 189 out of 189 | elapsed: 36.9min remaining:    0.0s\n",
      "[CV] max_features=0.8, min_samples_leaf=50, n_estimators=50 ..........\n",
      "[CV]  max_features=0.8, min_samples_leaf=50, n_estimators=50, score=-0.4069930790019127, total=  25.4s\n",
      "[Parallel(n_jobs=1)]: Done 190 out of 190 | elapsed: 37.3min remaining:    0.0s\n",
      "[CV] max_features=0.8, min_samples_leaf=50, n_estimators=50 ..........\n",
      "[CV]  max_features=0.8, min_samples_leaf=50, n_estimators=50, score=-0.40741027202501007, total=  24.9s\n",
      "[Parallel(n_jobs=1)]: Done 191 out of 191 | elapsed: 37.8min remaining:    0.0s\n",
      "[CV] max_features=0.8, min_samples_leaf=50, n_estimators=50 ..........\n",
      "[CV]  max_features=0.8, min_samples_leaf=50, n_estimators=50, score=-0.40632316801863666, total=  24.1s\n",
      "[Parallel(n_jobs=1)]: Done 192 out of 192 | elapsed: 38.2min remaining:    0.0s\n",
      "[Parallel(n_jobs=1)]: Done 192 out of 192 | elapsed: 38.2min finished\n"
     ]
    },
    {
     "data": {
      "text/plain": [
       "GridSearchCV(cv=None, error_score='raise',\n",
       "       estimator=RandomForestRegressor(bootstrap=True, criterion='mse', max_depth=None,\n",
       "           max_features='auto', max_leaf_nodes=None,\n",
       "           min_impurity_decrease=0.0, min_impurity_split=None,\n",
       "           min_samples_leaf=1, min_samples_split=2,\n",
       "           min_weight_fraction_leaf=0.0, n_estimators=10, n_jobs=1,\n",
       "           oob_score=False, random_state=None, verbose=0, warm_start=False),\n",
       "       fit_params=None, iid=True, n_jobs=1,\n",
       "       param_grid={'n_estimators': [5, 10, 20, 50], 'max_features': [0.2, 0.4, 0.6, 0.8], 'min_samples_leaf': [2, 10, 20, 50]},\n",
       "       pre_dispatch='2*n_jobs', refit=True, return_train_score='warn',\n",
       "       scoring='neg_mean_squared_error', verbose=600)"
      ]
     },
     "execution_count": 41,
     "metadata": {},
     "output_type": "execute_result"
    }
   ],
   "source": [
    "gscv.fit(X, y)"
   ]
  },
  {
   "cell_type": "code",
   "execution_count": 43,
   "metadata": {},
   "outputs": [],
   "source": [
    "outfile = 'grid_ml_rfr.pkl'\n",
    "\n",
    "with open(outfile, 'wb') as pickle_file: pickle.dump(gscv, pickle_file)"
   ]
  },
  {
   "cell_type": "code",
   "execution_count": 42,
   "metadata": {
    "scrolled": true
   },
   "outputs": [
    {
     "name": "stdout",
     "output_type": "stream",
     "text": [
      "Best Estimator:  RandomForestRegressor(bootstrap=True, criterion='mse', max_depth=None,\n",
      "           max_features=0.2, max_leaf_nodes=None,\n",
      "           min_impurity_decrease=0.0, min_impurity_split=None,\n",
      "           min_samples_leaf=2, min_samples_split=2,\n",
      "           min_weight_fraction_leaf=0.0, n_estimators=10, n_jobs=1,\n",
      "           oob_score=False, random_state=None, verbose=0, warm_start=False)\n",
      "Best Score:  -0.40658340241\n",
      "Best Parameters:  {'max_features': 0.2, 'min_samples_leaf': 2, 'n_estimators': 10}\n"
     ]
    }
   ],
   "source": [
    "#best estimators\n",
    "print(\"Best Estimator: \", gscv.best_estimator_)\n",
    "#printing best scores\n",
    "print(\"Best Score: \", gscv.best_score_)\n",
    "#printing best parameters for optimal parameter tuning\n",
    "print(\"Best Parameters: \", gscv.best_params_)"
   ]
  },
  {
   "cell_type": "code",
   "execution_count": 45,
   "metadata": {},
   "outputs": [],
   "source": [
    "#load pickle file for the random forest regressor gridsearch\n",
    "grid_ml_rfr = pickle.load(open('grid_ml_rfr.pkl', \"rb\"))"
   ]
  },
  {
   "cell_type": "markdown",
   "metadata": {},
   "source": [
    "#### Applying the best estimators to the Random Forest Regressor Model for testing:"
   ]
  },
  {
   "cell_type": "code",
   "execution_count": 46,
   "metadata": {},
   "outputs": [],
   "source": [
    "model = RandomForestRegressor(bootstrap=True, criterion='mse', max_depth=None,\n",
    "           max_features=0.2, max_leaf_nodes=None,\n",
    "           min_impurity_decrease=0.0, min_impurity_split=None,\n",
    "           min_samples_leaf=2, min_samples_split=2,\n",
    "           min_weight_fraction_leaf=0.0, n_estimators=10, n_jobs=1,\n",
    "           oob_score=False, random_state=None, verbose=0, warm_start=False)"
   ]
  },
  {
   "cell_type": "code",
   "execution_count": 47,
   "metadata": {},
   "outputs": [
    {
     "data": {
      "text/plain": [
       "RandomForestRegressor(bootstrap=True, criterion='mse', max_depth=None,\n",
       "           max_features=0.2, max_leaf_nodes=None,\n",
       "           min_impurity_decrease=0.0, min_impurity_split=None,\n",
       "           min_samples_leaf=2, min_samples_split=2,\n",
       "           min_weight_fraction_leaf=0.0, n_estimators=10, n_jobs=1,\n",
       "           oob_score=False, random_state=None, verbose=0, warm_start=False)"
      ]
     },
     "execution_count": 47,
     "metadata": {},
     "output_type": "execute_result"
    }
   ],
   "source": [
    "model.fit(X_train, y_train)"
   ]
  },
  {
   "cell_type": "code",
   "execution_count": 48,
   "metadata": {},
   "outputs": [
    {
     "data": {
      "text/plain": [
       "0.069174438612197742"
      ]
     },
     "execution_count": 48,
     "metadata": {},
     "output_type": "execute_result"
    }
   ],
   "source": [
    "model.score(X_test, y_test)"
   ]
  },
  {
   "cell_type": "code",
   "execution_count": 49,
   "metadata": {},
   "outputs": [
    {
     "name": "stdout",
     "output_type": "stream",
     "text": [
      "0.636588838568236\n"
     ]
    }
   ],
   "source": [
    "predictions = model.predict(X_test)\n",
    "rmsle = sqrt(mean_squared_error(y_test, predictions))\n",
    "print(rmsle)"
   ]
  },
  {
   "cell_type": "code",
   "execution_count": 50,
   "metadata": {},
   "outputs": [],
   "source": [
    "from sklearn.linear_model import LinearRegression\n",
    "estimators = [(\"lin_reg\", LinearRegression())]\n",
    "model = Pipeline(estimators)\n",
    "model.fit(X, y)\n",
    "\n",
    "params={\"fit_intercept\": [True,False],\n",
    "        \"normalize\": [True,False]\n",
    "       }"
   ]
  },
  {
   "cell_type": "code",
   "execution_count": 51,
   "metadata": {},
   "outputs": [],
   "source": [
    "linreg_gscv = GridSearchCV(estimator=LinearRegression(), param_grid = params, scoring = \"neg_mean_squared_error\" , verbose=600)"
   ]
  },
  {
   "cell_type": "code",
   "execution_count": 52,
   "metadata": {
    "scrolled": true
   },
   "outputs": [
    {
     "name": "stdout",
     "output_type": "stream",
     "text": [
      "Fitting 3 folds for each of 4 candidates, totalling 12 fits\n",
      "[CV] fit_intercept=True, normalize=True ..............................\n",
      "[CV]  fit_intercept=True, normalize=True, score=-0.4155683120652552, total=   0.9s\n",
      "[Parallel(n_jobs=1)]: Done   1 out of   1 | elapsed:    1.0s remaining:    0.0s\n",
      "[CV] fit_intercept=True, normalize=True ..............................\n",
      "[CV]  fit_intercept=True, normalize=True, score=-0.4164438254390223, total=   1.0s\n",
      "[Parallel(n_jobs=1)]: Done   2 out of   2 | elapsed:    2.1s remaining:    0.0s\n",
      "[CV] fit_intercept=True, normalize=True ..............................\n",
      "[CV]  fit_intercept=True, normalize=True, score=-0.41563038475556513, total=   0.9s\n",
      "[Parallel(n_jobs=1)]: Done   3 out of   3 | elapsed:    3.1s remaining:    0.0s\n",
      "[CV] fit_intercept=True, normalize=False .............................\n",
      "[CV]  fit_intercept=True, normalize=False, score=-0.41556831206533507, total=   0.9s\n",
      "[Parallel(n_jobs=1)]: Done   4 out of   4 | elapsed:    4.2s remaining:    0.0s\n",
      "[CV] fit_intercept=True, normalize=False .............................\n",
      "[CV]  fit_intercept=True, normalize=False, score=-0.4164438254397871, total=   0.9s\n",
      "[Parallel(n_jobs=1)]: Done   5 out of   5 | elapsed:    5.2s remaining:    0.0s\n",
      "[CV] fit_intercept=True, normalize=False .............................\n",
      "[CV]  fit_intercept=True, normalize=False, score=-0.4156303847541997, total=   0.9s\n",
      "[Parallel(n_jobs=1)]: Done   6 out of   6 | elapsed:    6.3s remaining:    0.0s\n",
      "[CV] fit_intercept=False, normalize=True .............................\n",
      "[CV]  fit_intercept=False, normalize=True, score=-1.77965485830714, total=   0.9s\n",
      "[Parallel(n_jobs=1)]: Done   7 out of   7 | elapsed:    7.3s remaining:    0.0s\n",
      "[CV] fit_intercept=False, normalize=True .............................\n",
      "[CV]  fit_intercept=False, normalize=True, score=-1.7791422212454027, total=   0.9s\n",
      "[Parallel(n_jobs=1)]: Done   8 out of   8 | elapsed:    8.4s remaining:    0.0s\n",
      "[CV] fit_intercept=False, normalize=True .............................\n",
      "[CV]  fit_intercept=False, normalize=True, score=-1.781346052498837, total=   0.9s\n",
      "[Parallel(n_jobs=1)]: Done   9 out of   9 | elapsed:    9.4s remaining:    0.0s\n",
      "[CV] fit_intercept=False, normalize=False ............................\n",
      "[CV]  fit_intercept=False, normalize=False, score=-1.77965485830714, total=   0.9s\n",
      "[Parallel(n_jobs=1)]: Done  10 out of  10 | elapsed:   10.4s remaining:    0.0s\n",
      "[CV] fit_intercept=False, normalize=False ............................\n",
      "[CV]  fit_intercept=False, normalize=False, score=-1.7791422212454027, total=   0.9s\n",
      "[Parallel(n_jobs=1)]: Done  11 out of  11 | elapsed:   11.5s remaining:    0.0s\n",
      "[CV] fit_intercept=False, normalize=False ............................\n",
      "[CV]  fit_intercept=False, normalize=False, score=-1.781346052498837, total=   1.0s\n",
      "[Parallel(n_jobs=1)]: Done  12 out of  12 | elapsed:   12.7s remaining:    0.0s\n",
      "[Parallel(n_jobs=1)]: Done  12 out of  12 | elapsed:   12.7s finished\n"
     ]
    },
    {
     "data": {
      "text/plain": [
       "GridSearchCV(cv=None, error_score='raise',\n",
       "       estimator=LinearRegression(copy_X=True, fit_intercept=True, n_jobs=1, normalize=False),\n",
       "       fit_params=None, iid=True, n_jobs=1,\n",
       "       param_grid={'fit_intercept': [True, False], 'normalize': [True, False]},\n",
       "       pre_dispatch='2*n_jobs', refit=True, return_train_score='warn',\n",
       "       scoring='neg_mean_squared_error', verbose=600)"
      ]
     },
     "execution_count": 52,
     "metadata": {},
     "output_type": "execute_result"
    }
   ],
   "source": [
    "linreg_gscv.fit(X, y)"
   ]
  },
  {
   "cell_type": "code",
   "execution_count": 53,
   "metadata": {},
   "outputs": [
    {
     "name": "stdout",
     "output_type": "stream",
     "text": [
      "Best Estimator:  LinearRegression(copy_X=True, fit_intercept=True, n_jobs=1, normalize=False)\n",
      "Best Score:  -0.415880840753\n",
      "Best Parameters:  {'fit_intercept': True, 'normalize': False}\n"
     ]
    }
   ],
   "source": [
    "#best estimators\n",
    "print(\"Best Estimator: \", linreg_gscv.best_estimator_)\n",
    "#printing best scores\n",
    "print(\"Best Score: \", linreg_gscv.best_score_)\n",
    "#printing best parameters for optimal parameter tuning\n",
    "print(\"Best Parameters: \", linreg_gscv.best_params_)"
   ]
  },
  {
   "cell_type": "code",
   "execution_count": 54,
   "metadata": {},
   "outputs": [],
   "source": [
    "outfile = 'grid_ml_linreg.pkl'\n",
    "\n",
    "with open(outfile, 'wb') as pickle_file: pickle.dump(linreg_gscv, pickle_file)"
   ]
  },
  {
   "cell_type": "code",
   "execution_count": 55,
   "metadata": {},
   "outputs": [],
   "source": [
    "grid_ml_linreg = pickle.load(open('grid_ml_linreg.pkl', \"rb\"))"
   ]
  },
  {
   "cell_type": "code",
   "execution_count": 56,
   "metadata": {},
   "outputs": [],
   "source": [
    "model = LinearRegression(copy_X=True, fit_intercept=True, n_jobs=1, normalize=False)"
   ]
  },
  {
   "cell_type": "code",
   "execution_count": 57,
   "metadata": {},
   "outputs": [
    {
     "data": {
      "text/plain": [
       "LinearRegression(copy_X=True, fit_intercept=True, n_jobs=1, normalize=False)"
      ]
     },
     "execution_count": 57,
     "metadata": {},
     "output_type": "execute_result"
    }
   ],
   "source": [
    "model.fit(X_train, y_train)"
   ]
  },
  {
   "cell_type": "code",
   "execution_count": 58,
   "metadata": {},
   "outputs": [
    {
     "data": {
      "text/plain": [
       "0.047382471802861037"
      ]
     },
     "execution_count": 58,
     "metadata": {},
     "output_type": "execute_result"
    }
   ],
   "source": [
    "model.score(X_test, y_test)"
   ]
  },
  {
   "cell_type": "code",
   "execution_count": 59,
   "metadata": {},
   "outputs": [
    {
     "name": "stdout",
     "output_type": "stream",
     "text": [
      "0.6439974585233642\n"
     ]
    }
   ],
   "source": [
    "predictions = model.predict(X_test)\n",
    "rmsle = sqrt(mean_squared_error(y_test, predictions))\n",
    "print(rmsle)"
   ]
  }
 ],
 "metadata": {
  "kernelspec": {
   "display_name": "Python 3",
   "language": "python",
   "name": "python3"
  },
  "language_info": {
   "codemirror_mode": {
    "name": "ipython",
    "version": 3
   },
   "file_extension": ".py",
   "mimetype": "text/x-python",
   "name": "python",
   "nbconvert_exporter": "python",
   "pygments_lexer": "ipython3",
   "version": "3.6.2"
  }
 },
 "nbformat": 4,
 "nbformat_minor": 2
}
