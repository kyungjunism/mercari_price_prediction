{
 "cells": [
  {
   "cell_type": "markdown",
   "metadata": {},
   "source": [
    "# Mercari Price Prediction ML"
   ]
  },
  {
   "cell_type": "markdown",
   "metadata": {},
   "source": [
    "## Importing Libraries:"
   ]
  },
  {
   "cell_type": "code",
   "execution_count": 1,
   "metadata": {},
   "outputs": [],
   "source": [
    "import scipy as sp\n",
    "import pandas as pd\n",
    "import numpy as np\n",
    "from sklearn.feature_extraction.text import TfidfVectorizer, TfidfTransformer\n",
    "import re\n",
    "from sklearn.model_selection import train_test_split\n",
    "from sklearn.metrics import mean_squared_log_error\n",
    "from sklearn.linear_model import RidgeCV, Ridge\n",
    "from sklearn.linear_model import LinearRegression\n",
    "from sklearn.pipeline import Pipeline\n",
    "from sklearn.model_selection import GridSearchCV\n",
    "import scipy\n",
    "import pickle\n"
   ]
  },
  {
   "cell_type": "markdown",
   "metadata": {},
   "source": [
    "## RMSLE Function:"
   ]
  },
  {
   "cell_type": "code",
   "execution_count": 2,
   "metadata": {},
   "outputs": [],
   "source": [
    "def rmsle(y_pred, y_test) : \n",
    "    assert len(y_test.astype(int)) == len(y_pred.astype(int))\n",
    "    return(np.sqrt(np.mean((np.log(1+y_pred) - np.log(1+y_test))**2)))"
   ]
  },
  {
   "cell_type": "markdown",
   "metadata": {},
   "source": [
    "#### Pulling in the data"
   ]
  },
  {
   "cell_type": "code",
   "execution_count": 3,
   "metadata": {},
   "outputs": [
    {
     "data": {
      "text/html": [
       "<div>\n",
       "<style>\n",
       "    .dataframe thead tr:only-child th {\n",
       "        text-align: right;\n",
       "    }\n",
       "\n",
       "    .dataframe thead th {\n",
       "        text-align: left;\n",
       "    }\n",
       "\n",
       "    .dataframe tbody tr th {\n",
       "        vertical-align: top;\n",
       "    }\n",
       "</style>\n",
       "<table border=\"1\" class=\"dataframe\">\n",
       "  <thead>\n",
       "    <tr style=\"text-align: right;\">\n",
       "      <th></th>\n",
       "      <th>train_id</th>\n",
       "      <th>name</th>\n",
       "      <th>item_condition_id</th>\n",
       "      <th>category_name</th>\n",
       "      <th>brand_name</th>\n",
       "      <th>price</th>\n",
       "      <th>shipping</th>\n",
       "      <th>item_description</th>\n",
       "    </tr>\n",
       "  </thead>\n",
       "  <tbody>\n",
       "    <tr>\n",
       "      <th>0</th>\n",
       "      <td>0</td>\n",
       "      <td>MLB Cincinnati Reds T Shirt Size XL</td>\n",
       "      <td>3</td>\n",
       "      <td>Men/Tops/T-shirts</td>\n",
       "      <td>NaN</td>\n",
       "      <td>10.0</td>\n",
       "      <td>1</td>\n",
       "      <td>No description yet</td>\n",
       "    </tr>\n",
       "    <tr>\n",
       "      <th>1</th>\n",
       "      <td>1</td>\n",
       "      <td>Razer BlackWidow Chroma Keyboard</td>\n",
       "      <td>3</td>\n",
       "      <td>Electronics/Computers &amp; Tablets/Components &amp; P...</td>\n",
       "      <td>Razer</td>\n",
       "      <td>52.0</td>\n",
       "      <td>0</td>\n",
       "      <td>This keyboard is in great condition and works ...</td>\n",
       "    </tr>\n",
       "    <tr>\n",
       "      <th>2</th>\n",
       "      <td>2</td>\n",
       "      <td>AVA-VIV Blouse</td>\n",
       "      <td>1</td>\n",
       "      <td>Women/Tops &amp; Blouses/Blouse</td>\n",
       "      <td>Target</td>\n",
       "      <td>10.0</td>\n",
       "      <td>1</td>\n",
       "      <td>Adorable top with a hint of lace and a key hol...</td>\n",
       "    </tr>\n",
       "    <tr>\n",
       "      <th>3</th>\n",
       "      <td>3</td>\n",
       "      <td>Leather Horse Statues</td>\n",
       "      <td>1</td>\n",
       "      <td>Home/Home Décor/Home Décor Accents</td>\n",
       "      <td>NaN</td>\n",
       "      <td>35.0</td>\n",
       "      <td>1</td>\n",
       "      <td>New with tags. Leather horses. Retail for [rm]...</td>\n",
       "    </tr>\n",
       "    <tr>\n",
       "      <th>4</th>\n",
       "      <td>4</td>\n",
       "      <td>24K GOLD plated rose</td>\n",
       "      <td>1</td>\n",
       "      <td>Women/Jewelry/Necklaces</td>\n",
       "      <td>NaN</td>\n",
       "      <td>44.0</td>\n",
       "      <td>0</td>\n",
       "      <td>Complete with certificate of authenticity</td>\n",
       "    </tr>\n",
       "  </tbody>\n",
       "</table>\n",
       "</div>"
      ],
      "text/plain": [
       "   train_id                                 name  item_condition_id  \\\n",
       "0         0  MLB Cincinnati Reds T Shirt Size XL                  3   \n",
       "1         1     Razer BlackWidow Chroma Keyboard                  3   \n",
       "2         2                       AVA-VIV Blouse                  1   \n",
       "3         3                Leather Horse Statues                  1   \n",
       "4         4                 24K GOLD plated rose                  1   \n",
       "\n",
       "                                       category_name brand_name  price  \\\n",
       "0                                  Men/Tops/T-shirts        NaN   10.0   \n",
       "1  Electronics/Computers & Tablets/Components & P...      Razer   52.0   \n",
       "2                        Women/Tops & Blouses/Blouse     Target   10.0   \n",
       "3                 Home/Home Décor/Home Décor Accents        NaN   35.0   \n",
       "4                            Women/Jewelry/Necklaces        NaN   44.0   \n",
       "\n",
       "   shipping                                   item_description  \n",
       "0         1                                 No description yet  \n",
       "1         0  This keyboard is in great condition and works ...  \n",
       "2         1  Adorable top with a hint of lace and a key hol...  \n",
       "3         1  New with tags. Leather horses. Retail for [rm]...  \n",
       "4         0          Complete with certificate of authenticity  "
      ]
     },
     "execution_count": 3,
     "metadata": {},
     "output_type": "execute_result"
    }
   ],
   "source": [
    "train = pd.read_csv(\"train.tsv\", sep='\\t', header=0)\n",
    "train.head()"
   ]
  },
  {
   "cell_type": "code",
   "execution_count": 4,
   "metadata": {
    "scrolled": false
   },
   "outputs": [
    {
     "data": {
      "text/html": [
       "<div>\n",
       "<style>\n",
       "    .dataframe thead tr:only-child th {\n",
       "        text-align: right;\n",
       "    }\n",
       "\n",
       "    .dataframe thead th {\n",
       "        text-align: left;\n",
       "    }\n",
       "\n",
       "    .dataframe tbody tr th {\n",
       "        vertical-align: top;\n",
       "    }\n",
       "</style>\n",
       "<table border=\"1\" class=\"dataframe\">\n",
       "  <thead>\n",
       "    <tr style=\"text-align: right;\">\n",
       "      <th></th>\n",
       "      <th>test_id</th>\n",
       "      <th>name</th>\n",
       "      <th>item_condition_id</th>\n",
       "      <th>category_name</th>\n",
       "      <th>brand_name</th>\n",
       "      <th>shipping</th>\n",
       "      <th>item_description</th>\n",
       "    </tr>\n",
       "  </thead>\n",
       "  <tbody>\n",
       "    <tr>\n",
       "      <th>0</th>\n",
       "      <td>0</td>\n",
       "      <td>Breast cancer \"I fight like a girl\" ring</td>\n",
       "      <td>1</td>\n",
       "      <td>Women/Jewelry/Rings</td>\n",
       "      <td>NaN</td>\n",
       "      <td>1</td>\n",
       "      <td>Size 7</td>\n",
       "    </tr>\n",
       "    <tr>\n",
       "      <th>1</th>\n",
       "      <td>1</td>\n",
       "      <td>25 pcs NEW 7.5\"x12\" Kraft Bubble Mailers</td>\n",
       "      <td>1</td>\n",
       "      <td>Other/Office supplies/Shipping Supplies</td>\n",
       "      <td>NaN</td>\n",
       "      <td>1</td>\n",
       "      <td>25 pcs NEW 7.5\"x12\" Kraft Bubble Mailers Lined...</td>\n",
       "    </tr>\n",
       "    <tr>\n",
       "      <th>2</th>\n",
       "      <td>2</td>\n",
       "      <td>Coach bag</td>\n",
       "      <td>1</td>\n",
       "      <td>Vintage &amp; Collectibles/Bags and Purses/Handbag</td>\n",
       "      <td>Coach</td>\n",
       "      <td>1</td>\n",
       "      <td>Brand new coach bag. Bought for [rm] at a Coac...</td>\n",
       "    </tr>\n",
       "    <tr>\n",
       "      <th>3</th>\n",
       "      <td>3</td>\n",
       "      <td>Floral Kimono</td>\n",
       "      <td>2</td>\n",
       "      <td>Women/Sweaters/Cardigan</td>\n",
       "      <td>NaN</td>\n",
       "      <td>0</td>\n",
       "      <td>-floral kimono -never worn -lightweight and pe...</td>\n",
       "    </tr>\n",
       "    <tr>\n",
       "      <th>4</th>\n",
       "      <td>4</td>\n",
       "      <td>Life after Death</td>\n",
       "      <td>3</td>\n",
       "      <td>Other/Books/Religion &amp; Spirituality</td>\n",
       "      <td>NaN</td>\n",
       "      <td>1</td>\n",
       "      <td>Rediscovering life after the loss of a loved o...</td>\n",
       "    </tr>\n",
       "  </tbody>\n",
       "</table>\n",
       "</div>"
      ],
      "text/plain": [
       "   test_id                                      name  item_condition_id  \\\n",
       "0        0  Breast cancer \"I fight like a girl\" ring                  1   \n",
       "1        1  25 pcs NEW 7.5\"x12\" Kraft Bubble Mailers                  1   \n",
       "2        2                                 Coach bag                  1   \n",
       "3        3                             Floral Kimono                  2   \n",
       "4        4                          Life after Death                  3   \n",
       "\n",
       "                                    category_name brand_name  shipping  \\\n",
       "0                             Women/Jewelry/Rings        NaN         1   \n",
       "1         Other/Office supplies/Shipping Supplies        NaN         1   \n",
       "2  Vintage & Collectibles/Bags and Purses/Handbag      Coach         1   \n",
       "3                         Women/Sweaters/Cardigan        NaN         0   \n",
       "4             Other/Books/Religion & Spirituality        NaN         1   \n",
       "\n",
       "                                    item_description  \n",
       "0                                             Size 7  \n",
       "1  25 pcs NEW 7.5\"x12\" Kraft Bubble Mailers Lined...  \n",
       "2  Brand new coach bag. Bought for [rm] at a Coac...  \n",
       "3  -floral kimono -never worn -lightweight and pe...  \n",
       "4  Rediscovering life after the loss of a loved o...  "
      ]
     },
     "execution_count": 4,
     "metadata": {},
     "output_type": "execute_result"
    }
   ],
   "source": [
    "test = pd.read_csv(\"test.tsv\", sep='\\t', header=0)\n",
    "test.head()"
   ]
  },
  {
   "cell_type": "markdown",
   "metadata": {},
   "source": [
    "## Data Cleaning"
   ]
  },
  {
   "cell_type": "markdown",
   "metadata": {},
   "source": [
    "#### Need to remove null values from item_description, as they would interfere with the algorithm."
   ]
  },
  {
   "cell_type": "code",
   "execution_count": 5,
   "metadata": {},
   "outputs": [],
   "source": [
    "#Deleting null rows to clean up the data.\n",
    "train = train[~train['item_description'].isnull()]\n",
    "test = test[~test['item_description'].isnull()]"
   ]
  },
  {
   "cell_type": "markdown",
   "metadata": {},
   "source": [
    "#### Combining datasets for train and test together so that all function performed in preparing the data will not skew the size of the matrix. Here, we are also going to remove 0 value entries for log price and other outliers as they would skew the data."
   ]
  },
  {
   "cell_type": "code",
   "execution_count": 6,
   "metadata": {},
   "outputs": [],
   "source": [
    "#using log price and pre-setting quantiles to delete outliers within the data.\n",
    "train['log_price'] = np.log(train.price + 1)\n",
    "q = train['log_price'].quantile(0.975)\n",
    "train = train[train['log_price'] < q]\n",
    "train = train[train['log_price'] > 0]"
   ]
  },
  {
   "cell_type": "code",
   "execution_count": 7,
   "metadata": {
    "scrolled": true
   },
   "outputs": [
    {
     "name": "stdout",
     "output_type": "stream",
     "text": [
      "1442262\n"
     ]
    }
   ],
   "source": [
    "data = pd.concat([train, test], 0)\n",
    "train_rows = train.shape[0]\n",
    "print(train_rows)"
   ]
  },
  {
   "cell_type": "markdown",
   "metadata": {},
   "source": [
    "#### Replacing 'No description yet' to no_desc for tfidf vectorizer to count these as stop words. Also transforming category_name into two distinct categories to introduce two features for the matrix"
   ]
  },
  {
   "cell_type": "code",
   "execution_count": 8,
   "metadata": {},
   "outputs": [
    {
     "name": "stderr",
     "output_type": "stream",
     "text": [
      "c:\\users\\kj.park\\appdata\\local\\programs\\python\\python36\\lib\\site-packages\\ipykernel_launcher.py:2: FutureWarning: currently extract(expand=None) means expand=False (return Index/Series/DataFrame) but in a future version of pandas this will be changed to expand=True (return DataFrame)\n",
      "  \n",
      "c:\\users\\kj.park\\appdata\\local\\programs\\python\\python36\\lib\\site-packages\\ipykernel_launcher.py:3: FutureWarning: currently extract(expand=None) means expand=False (return Index/Series/DataFrame) but in a future version of pandas this will be changed to expand=True (return DataFrame)\n",
      "  This is separate from the ipykernel package so we can avoid doing imports until\n"
     ]
    }
   ],
   "source": [
    "data.item_description = data.item_description.str.replace('No description yet', 'no_desc')\n",
    "data['primary_cat'] = data.category_name.str.extract('([^/]+)/[^/]+/[^/]+')\n",
    "data['secondary_cat'] = data.category_name.str.extract('[^/]+/([^/]+/[^/]+)')\n",
    "data = data.apply(lambda x: x.astype(str).str.lower())"
   ]
  },
  {
   "cell_type": "code",
   "execution_count": 9,
   "metadata": {},
   "outputs": [
    {
     "data": {
      "text/html": [
       "<div>\n",
       "<style>\n",
       "    .dataframe thead tr:only-child th {\n",
       "        text-align: right;\n",
       "    }\n",
       "\n",
       "    .dataframe thead th {\n",
       "        text-align: left;\n",
       "    }\n",
       "\n",
       "    .dataframe tbody tr th {\n",
       "        vertical-align: top;\n",
       "    }\n",
       "</style>\n",
       "<table border=\"1\" class=\"dataframe\">\n",
       "  <thead>\n",
       "    <tr style=\"text-align: right;\">\n",
       "      <th></th>\n",
       "      <th>brand_name</th>\n",
       "      <th>category_name</th>\n",
       "      <th>item_condition_id</th>\n",
       "      <th>item_description</th>\n",
       "      <th>log_price</th>\n",
       "      <th>name</th>\n",
       "      <th>price</th>\n",
       "      <th>shipping</th>\n",
       "      <th>test_id</th>\n",
       "      <th>train_id</th>\n",
       "      <th>primary_cat</th>\n",
       "      <th>secondary_cat</th>\n",
       "    </tr>\n",
       "  </thead>\n",
       "  <tbody>\n",
       "    <tr>\n",
       "      <th>0</th>\n",
       "      <td>nan</td>\n",
       "      <td>men/tops/t-shirts</td>\n",
       "      <td>3</td>\n",
       "      <td>no_desc</td>\n",
       "      <td>2.3978952728</td>\n",
       "      <td>mlb cincinnati reds t shirt size xl</td>\n",
       "      <td>10.0</td>\n",
       "      <td>1</td>\n",
       "      <td>nan</td>\n",
       "      <td>0.0</td>\n",
       "      <td>men</td>\n",
       "      <td>tops/t-shirts</td>\n",
       "    </tr>\n",
       "    <tr>\n",
       "      <th>1</th>\n",
       "      <td>razer</td>\n",
       "      <td>electronics/computers &amp; tablets/components &amp; p...</td>\n",
       "      <td>3</td>\n",
       "      <td>this keyboard is in great condition and works ...</td>\n",
       "      <td>3.97029191355</td>\n",
       "      <td>razer blackwidow chroma keyboard</td>\n",
       "      <td>52.0</td>\n",
       "      <td>0</td>\n",
       "      <td>nan</td>\n",
       "      <td>1.0</td>\n",
       "      <td>electronics</td>\n",
       "      <td>computers &amp; tablets/components &amp; parts</td>\n",
       "    </tr>\n",
       "    <tr>\n",
       "      <th>2</th>\n",
       "      <td>target</td>\n",
       "      <td>women/tops &amp; blouses/blouse</td>\n",
       "      <td>1</td>\n",
       "      <td>adorable top with a hint of lace and a key hol...</td>\n",
       "      <td>2.3978952728</td>\n",
       "      <td>ava-viv blouse</td>\n",
       "      <td>10.0</td>\n",
       "      <td>1</td>\n",
       "      <td>nan</td>\n",
       "      <td>2.0</td>\n",
       "      <td>women</td>\n",
       "      <td>tops &amp; blouses/blouse</td>\n",
       "    </tr>\n",
       "    <tr>\n",
       "      <th>3</th>\n",
       "      <td>nan</td>\n",
       "      <td>home/home décor/home décor accents</td>\n",
       "      <td>1</td>\n",
       "      <td>new with tags. leather horses. retail for [rm]...</td>\n",
       "      <td>3.58351893846</td>\n",
       "      <td>leather horse statues</td>\n",
       "      <td>35.0</td>\n",
       "      <td>1</td>\n",
       "      <td>nan</td>\n",
       "      <td>3.0</td>\n",
       "      <td>home</td>\n",
       "      <td>home décor/home décor accents</td>\n",
       "    </tr>\n",
       "    <tr>\n",
       "      <th>4</th>\n",
       "      <td>nan</td>\n",
       "      <td>women/jewelry/necklaces</td>\n",
       "      <td>1</td>\n",
       "      <td>complete with certificate of authenticity</td>\n",
       "      <td>3.80666248977</td>\n",
       "      <td>24k gold plated rose</td>\n",
       "      <td>44.0</td>\n",
       "      <td>0</td>\n",
       "      <td>nan</td>\n",
       "      <td>4.0</td>\n",
       "      <td>women</td>\n",
       "      <td>jewelry/necklaces</td>\n",
       "    </tr>\n",
       "  </tbody>\n",
       "</table>\n",
       "</div>"
      ],
      "text/plain": [
       "  brand_name                                      category_name  \\\n",
       "0        nan                                  men/tops/t-shirts   \n",
       "1      razer  electronics/computers & tablets/components & p...   \n",
       "2     target                        women/tops & blouses/blouse   \n",
       "3        nan                 home/home décor/home décor accents   \n",
       "4        nan                            women/jewelry/necklaces   \n",
       "\n",
       "  item_condition_id                                   item_description  \\\n",
       "0                 3                                            no_desc   \n",
       "1                 3  this keyboard is in great condition and works ...   \n",
       "2                 1  adorable top with a hint of lace and a key hol...   \n",
       "3                 1  new with tags. leather horses. retail for [rm]...   \n",
       "4                 1          complete with certificate of authenticity   \n",
       "\n",
       "       log_price                                 name price shipping test_id  \\\n",
       "0   2.3978952728  mlb cincinnati reds t shirt size xl  10.0        1     nan   \n",
       "1  3.97029191355     razer blackwidow chroma keyboard  52.0        0     nan   \n",
       "2   2.3978952728                       ava-viv blouse  10.0        1     nan   \n",
       "3  3.58351893846                leather horse statues  35.0        1     nan   \n",
       "4  3.80666248977                 24k gold plated rose  44.0        0     nan   \n",
       "\n",
       "  train_id  primary_cat                           secondary_cat  \n",
       "0      0.0          men                           tops/t-shirts  \n",
       "1      1.0  electronics  computers & tablets/components & parts  \n",
       "2      2.0        women                   tops & blouses/blouse  \n",
       "3      3.0         home           home décor/home décor accents  \n",
       "4      4.0        women                       jewelry/necklaces  "
      ]
     },
     "execution_count": 9,
     "metadata": {},
     "output_type": "execute_result"
    }
   ],
   "source": [
    "data.head()"
   ]
  },
  {
   "cell_type": "code",
   "execution_count": 10,
   "metadata": {},
   "outputs": [
    {
     "data": {
      "text/html": [
       "<div>\n",
       "<style>\n",
       "    .dataframe thead tr:only-child th {\n",
       "        text-align: right;\n",
       "    }\n",
       "\n",
       "    .dataframe thead th {\n",
       "        text-align: left;\n",
       "    }\n",
       "\n",
       "    .dataframe tbody tr th {\n",
       "        vertical-align: top;\n",
       "    }\n",
       "</style>\n",
       "<table border=\"1\" class=\"dataframe\">\n",
       "  <thead>\n",
       "    <tr style=\"text-align: right;\">\n",
       "      <th></th>\n",
       "      <th>brand_name</th>\n",
       "      <th>category_name</th>\n",
       "      <th>item_condition_id</th>\n",
       "      <th>item_description</th>\n",
       "      <th>log_price</th>\n",
       "      <th>name</th>\n",
       "      <th>price</th>\n",
       "      <th>shipping</th>\n",
       "      <th>test_id</th>\n",
       "      <th>train_id</th>\n",
       "      <th>primary_cat</th>\n",
       "      <th>secondary_cat</th>\n",
       "    </tr>\n",
       "  </thead>\n",
       "  <tbody>\n",
       "    <tr>\n",
       "      <th>0</th>\n",
       "      <td>nan</td>\n",
       "      <td>men tops t shirts</td>\n",
       "      <td>3</td>\n",
       "      <td>no_desc</td>\n",
       "      <td>2.3978952728</td>\n",
       "      <td>mlb cincinnati reds t shirt size xl</td>\n",
       "      <td>10.0</td>\n",
       "      <td>1</td>\n",
       "      <td>nan</td>\n",
       "      <td>0.0</td>\n",
       "      <td>men</td>\n",
       "      <td>tops t shirts</td>\n",
       "    </tr>\n",
       "    <tr>\n",
       "      <th>1</th>\n",
       "      <td>razer</td>\n",
       "      <td>electronics computers   tablets components   p...</td>\n",
       "      <td>3</td>\n",
       "      <td>this keyboard is in great condition and works ...</td>\n",
       "      <td>3.97029191355</td>\n",
       "      <td>razer blackwidow chroma keyboard</td>\n",
       "      <td>52.0</td>\n",
       "      <td>0</td>\n",
       "      <td>nan</td>\n",
       "      <td>1.0</td>\n",
       "      <td>electronics</td>\n",
       "      <td>computers   tablets components   parts</td>\n",
       "    </tr>\n",
       "    <tr>\n",
       "      <th>2</th>\n",
       "      <td>target</td>\n",
       "      <td>women tops   blouses blouse</td>\n",
       "      <td>1</td>\n",
       "      <td>adorable top with a hint of lace and a key hol...</td>\n",
       "      <td>2.3978952728</td>\n",
       "      <td>ava viv blouse</td>\n",
       "      <td>10.0</td>\n",
       "      <td>1</td>\n",
       "      <td>nan</td>\n",
       "      <td>2.0</td>\n",
       "      <td>women</td>\n",
       "      <td>tops   blouses blouse</td>\n",
       "    </tr>\n",
       "    <tr>\n",
       "      <th>3</th>\n",
       "      <td>nan</td>\n",
       "      <td>home home décor home décor accents</td>\n",
       "      <td>1</td>\n",
       "      <td>new with tags  leather horses  retail for  rm ...</td>\n",
       "      <td>3.58351893846</td>\n",
       "      <td>leather horse statues</td>\n",
       "      <td>35.0</td>\n",
       "      <td>1</td>\n",
       "      <td>nan</td>\n",
       "      <td>3.0</td>\n",
       "      <td>home</td>\n",
       "      <td>home décor home décor accents</td>\n",
       "    </tr>\n",
       "    <tr>\n",
       "      <th>4</th>\n",
       "      <td>nan</td>\n",
       "      <td>women jewelry necklaces</td>\n",
       "      <td>1</td>\n",
       "      <td>complete with certificate of authenticity</td>\n",
       "      <td>3.80666248977</td>\n",
       "      <td>24k gold plated rose</td>\n",
       "      <td>44.0</td>\n",
       "      <td>0</td>\n",
       "      <td>nan</td>\n",
       "      <td>4.0</td>\n",
       "      <td>women</td>\n",
       "      <td>jewelry necklaces</td>\n",
       "    </tr>\n",
       "  </tbody>\n",
       "</table>\n",
       "</div>"
      ],
      "text/plain": [
       "  brand_name                                      category_name  \\\n",
       "0        nan                                  men tops t shirts   \n",
       "1      razer  electronics computers   tablets components   p...   \n",
       "2     target                        women tops   blouses blouse   \n",
       "3        nan                 home home décor home décor accents   \n",
       "4        nan                            women jewelry necklaces   \n",
       "\n",
       "  item_condition_id                                   item_description  \\\n",
       "0                 3                                            no_desc   \n",
       "1                 3  this keyboard is in great condition and works ...   \n",
       "2                 1  adorable top with a hint of lace and a key hol...   \n",
       "3                 1  new with tags  leather horses  retail for  rm ...   \n",
       "4                 1          complete with certificate of authenticity   \n",
       "\n",
       "       log_price                                 name price shipping test_id  \\\n",
       "0   2.3978952728  mlb cincinnati reds t shirt size xl  10.0        1     nan   \n",
       "1  3.97029191355     razer blackwidow chroma keyboard  52.0        0     nan   \n",
       "2   2.3978952728                       ava viv blouse  10.0        1     nan   \n",
       "3  3.58351893846                leather horse statues  35.0        1     nan   \n",
       "4  3.80666248977                 24k gold plated rose  44.0        0     nan   \n",
       "\n",
       "  train_id  primary_cat                           secondary_cat  \n",
       "0      0.0          men                           tops t shirts  \n",
       "1      1.0  electronics  computers   tablets components   parts  \n",
       "2      2.0        women                   tops   blouses blouse  \n",
       "3      3.0         home           home décor home décor accents  \n",
       "4      4.0        women                       jewelry necklaces  "
      ]
     },
     "execution_count": 10,
     "metadata": {},
     "output_type": "execute_result"
    }
   ],
   "source": [
    "text_features = ['name', 'brand_name', 'category_name', 'primary_cat', 'secondary_cat', 'item_description']\n",
    "for t in text_features:\n",
    "    data[t].replace(regex=True,inplace=True,to_replace=r'\\W',value=r' ')\n",
    "    \n",
    "data.head()"
   ]
  },
  {
   "cell_type": "code",
   "execution_count": 11,
   "metadata": {},
   "outputs": [],
   "source": [
    "data['item_condition_id'] = pd.to_numeric(data.item_condition_id, errors = 'ignore')\n",
    "data['shipping'] = pd.to_numeric(data.shipping, errors = 'ignore')\n",
    "data['item_description'] = data['item_description'].fillna('')"
   ]
  },
  {
   "cell_type": "code",
   "execution_count": 12,
   "metadata": {},
   "outputs": [],
   "source": [
    "data['brand_name'] = data['brand_name'].replace([np.nan,'nan'], 'negative', regex=True)\n",
    "data['brand_name'] = data['brand_name'].str.replace('\\s+', '')  # in case there are multiple white spaces\n",
    "data['brand_name'] = 'brand_' + data['brand_name'].astype(str)\n"
   ]
  },
  {
   "cell_type": "code",
   "execution_count": 13,
   "metadata": {
    "scrolled": true
   },
   "outputs": [
    {
     "data": {
      "text/html": [
       "<div>\n",
       "<style>\n",
       "    .dataframe thead tr:only-child th {\n",
       "        text-align: right;\n",
       "    }\n",
       "\n",
       "    .dataframe thead th {\n",
       "        text-align: left;\n",
       "    }\n",
       "\n",
       "    .dataframe tbody tr th {\n",
       "        vertical-align: top;\n",
       "    }\n",
       "</style>\n",
       "<table border=\"1\" class=\"dataframe\">\n",
       "  <thead>\n",
       "    <tr style=\"text-align: right;\">\n",
       "      <th></th>\n",
       "      <th>brand_name</th>\n",
       "      <th>category_name</th>\n",
       "      <th>item_condition_id</th>\n",
       "      <th>item_description</th>\n",
       "      <th>log_price</th>\n",
       "      <th>name</th>\n",
       "      <th>price</th>\n",
       "      <th>shipping</th>\n",
       "      <th>test_id</th>\n",
       "      <th>train_id</th>\n",
       "      <th>primary_cat</th>\n",
       "      <th>secondary_cat</th>\n",
       "    </tr>\n",
       "  </thead>\n",
       "  <tbody>\n",
       "    <tr>\n",
       "      <th>0</th>\n",
       "      <td>brand_negative</td>\n",
       "      <td>men tops t shirts</td>\n",
       "      <td>3</td>\n",
       "      <td>no_desc</td>\n",
       "      <td>2.3978952728</td>\n",
       "      <td>mlb cincinnati reds t shirt size xl</td>\n",
       "      <td>10.0</td>\n",
       "      <td>1</td>\n",
       "      <td>nan</td>\n",
       "      <td>0.0</td>\n",
       "      <td>men</td>\n",
       "      <td>tops t shirts</td>\n",
       "    </tr>\n",
       "    <tr>\n",
       "      <th>1</th>\n",
       "      <td>brand_razer</td>\n",
       "      <td>electronics computers   tablets components   p...</td>\n",
       "      <td>3</td>\n",
       "      <td>this keyboard is in great condition and works ...</td>\n",
       "      <td>3.97029191355</td>\n",
       "      <td>razer blackwidow chroma keyboard</td>\n",
       "      <td>52.0</td>\n",
       "      <td>0</td>\n",
       "      <td>nan</td>\n",
       "      <td>1.0</td>\n",
       "      <td>electronics</td>\n",
       "      <td>computers   tablets components   parts</td>\n",
       "    </tr>\n",
       "    <tr>\n",
       "      <th>2</th>\n",
       "      <td>brand_target</td>\n",
       "      <td>women tops   blouses blouse</td>\n",
       "      <td>1</td>\n",
       "      <td>adorable top with a hint of lace and a key hol...</td>\n",
       "      <td>2.3978952728</td>\n",
       "      <td>ava viv blouse</td>\n",
       "      <td>10.0</td>\n",
       "      <td>1</td>\n",
       "      <td>nan</td>\n",
       "      <td>2.0</td>\n",
       "      <td>women</td>\n",
       "      <td>tops   blouses blouse</td>\n",
       "    </tr>\n",
       "    <tr>\n",
       "      <th>3</th>\n",
       "      <td>brand_negative</td>\n",
       "      <td>home home décor home décor accents</td>\n",
       "      <td>1</td>\n",
       "      <td>new with tags  leather horses  retail for  rm ...</td>\n",
       "      <td>3.58351893846</td>\n",
       "      <td>leather horse statues</td>\n",
       "      <td>35.0</td>\n",
       "      <td>1</td>\n",
       "      <td>nan</td>\n",
       "      <td>3.0</td>\n",
       "      <td>home</td>\n",
       "      <td>home décor home décor accents</td>\n",
       "    </tr>\n",
       "    <tr>\n",
       "      <th>4</th>\n",
       "      <td>brand_negative</td>\n",
       "      <td>women jewelry necklaces</td>\n",
       "      <td>1</td>\n",
       "      <td>complete with certificate of authenticity</td>\n",
       "      <td>3.80666248977</td>\n",
       "      <td>24k gold plated rose</td>\n",
       "      <td>44.0</td>\n",
       "      <td>0</td>\n",
       "      <td>nan</td>\n",
       "      <td>4.0</td>\n",
       "      <td>women</td>\n",
       "      <td>jewelry necklaces</td>\n",
       "    </tr>\n",
       "  </tbody>\n",
       "</table>\n",
       "</div>"
      ],
      "text/plain": [
       "       brand_name                                      category_name  \\\n",
       "0  brand_negative                                  men tops t shirts   \n",
       "1     brand_razer  electronics computers   tablets components   p...   \n",
       "2    brand_target                        women tops   blouses blouse   \n",
       "3  brand_negative                 home home décor home décor accents   \n",
       "4  brand_negative                            women jewelry necklaces   \n",
       "\n",
       "   item_condition_id                                   item_description  \\\n",
       "0                  3                                            no_desc   \n",
       "1                  3  this keyboard is in great condition and works ...   \n",
       "2                  1  adorable top with a hint of lace and a key hol...   \n",
       "3                  1  new with tags  leather horses  retail for  rm ...   \n",
       "4                  1          complete with certificate of authenticity   \n",
       "\n",
       "       log_price                                 name price  shipping test_id  \\\n",
       "0   2.3978952728  mlb cincinnati reds t shirt size xl  10.0         1     nan   \n",
       "1  3.97029191355     razer blackwidow chroma keyboard  52.0         0     nan   \n",
       "2   2.3978952728                       ava viv blouse  10.0         1     nan   \n",
       "3  3.58351893846                leather horse statues  35.0         1     nan   \n",
       "4  3.80666248977                 24k gold plated rose  44.0         0     nan   \n",
       "\n",
       "  train_id  primary_cat                           secondary_cat  \n",
       "0      0.0          men                           tops t shirts  \n",
       "1      1.0  electronics  computers   tablets components   parts  \n",
       "2      2.0        women                   tops   blouses blouse  \n",
       "3      3.0         home           home décor home décor accents  \n",
       "4      4.0        women                       jewelry necklaces  "
      ]
     },
     "execution_count": 13,
     "metadata": {},
     "output_type": "execute_result"
    }
   ],
   "source": [
    "data.head()"
   ]
  },
  {
   "cell_type": "markdown",
   "metadata": {},
   "source": [
    "#### Combining text values into one single text  corpus"
   ]
  },
  {
   "cell_type": "code",
   "execution_count": 14,
   "metadata": {},
   "outputs": [],
   "source": [
    "text = (data['name'] + ' '+ data['brand_name'] + ' ' +\n",
    "          data['item_description'] + ' ' + data['primary_cat'] + ' ' + \n",
    "          data['secondary_cat']).values"
   ]
  },
  {
   "cell_type": "code",
   "execution_count": 15,
   "metadata": {},
   "outputs": [],
   "source": [
    "#separating the text data into train and test set again\n",
    "text_train = text[:train_rows]\n",
    "text_test = text[train_rows:]\n",
    "\n",
    "\n",
    "dummies = scipy.sparse.csr_matrix(pd.get_dummies(data[[\"shipping\",'item_condition_id']], sparse = True).values)\n",
    "X_dummies = dummies[:train_rows]\n",
    "y_dummies = dummies[train_rows:]\n",
    "y = np.array(train['log_price'].values)"
   ]
  },
  {
   "cell_type": "markdown",
   "metadata": {},
   "source": [
    "#### This gridsearch took at upwards of 12 hours for 405 candidates for a total of 1215 fits. The results of the gridsearch have been pickled and saved to a pkl file and the code has been converted to markdown format. However, because gridsearch is a CPU intensive exercise and I am working on a local machine, the results will stand as is, but some features that have interfered with the outputs will be lef tout "
   ]
  },
  {
   "cell_type": "code",
   "execution_count": null,
   "metadata": {},
   "outputs": [],
   "source": [
    "#estimators = [(\"tf_idf\", TfidfVectorizer(lowercase=True)), \n",
    "#              (\"ridge\", Ridge())]\n",
    "#model = Pipeline(estimators)\n",
    "#model.fit(text_train, y)\n",
    "\n",
    "\n",
    "#params = {\"ridge__alpha\":[0.1, 0.3, 0.5, 1, 3], #regularization param\n",
    "#          \"tf_idf__min_df\": [1, 5, 10],#min count of words allowed\n",
    "#          \"tf_idf__max_df\": [0.7,0.8,0.9],\n",
    "#          \"tf_idf__ngram_range\": [(1,1), (1,2), (1,3)], #1-grams or 2-grams\n",
    "#          \"tf_idf__max_features\": [5000, 7500, 10000]#5000 features, 7500, or 10000\n",
    "#         }\n",
    "#grid = GridSearchCV(estimator=model, param_grid = params, scoring = \"neg_mean_squared_error\" , verbose=600)\n",
    "#grid.fit(text_train, y)\n",
    "#import pickle\n",
    "\n",
    "#Pickling the output:\n",
    "#outfile = 'grid_ml.pkl'\n",
    "\n",
    "#with open(outfile, 'wb') as pickle_file:\n",
    "#    pickle.dump(grid, pickle_file)"
   ]
  },
  {
   "cell_type": "markdown",
   "metadata": {},
   "source": [
    "#### The gridsearch results for tfidf vectorizer and the following best estimator/best score/best parameters from the pickle file are uploaded in the cell below:"
   ]
  },
  {
   "cell_type": "code",
   "execution_count": 16,
   "metadata": {},
   "outputs": [
    {
     "name": "stdout",
     "output_type": "stream",
     "text": [
      "Best Estimator:  Pipeline(memory=None,\n",
      "     steps=[('tf_idf', TfidfVectorizer(analyzer='word', binary=False, decode_error='strict',\n",
      "        dtype=<class 'numpy.int64'>, encoding='utf-8', input='content',\n",
      "        lowercase=True, max_df=0.7, max_features=10000, min_df=1,\n",
      "        ngram_range=(1, 2), norm='l2', preprocessor=None, smooth_idf=True,...it_intercept=True, max_iter=None,\n",
      "   normalize=False, random_state=None, solver='auto', tol=0.001))])\n",
      "Best Score:  -0.222323799127\n",
      "Best Parameters:  {'ridge__alpha': 1, 'tf_idf__max_df': 0.7, 'tf_idf__max_features': 10000, 'tf_idf__min_df': 1, 'tf_idf__ngram_range': (1, 2)}\n"
     ]
    }
   ],
   "source": [
    "import pickle\n",
    "grid_ml = pickle.load(open('grid_ml.pkl', \"rb\"))\n",
    "\n",
    "#best estimators\n",
    "print(\"Best Estimator: \", grid_ml.best_estimator_)\n",
    "#printing best scores\n",
    "print(\"Best Score: \", grid_ml.best_score_)\n",
    "#printing best parameters for optimal parameter tuning\n",
    "print(\"Best Parameters: \", grid_ml.best_params_)"
   ]
  },
  {
   "cell_type": "markdown",
   "metadata": {},
   "source": [
    "#### Separating the training and test sets again after massaging the data for the distinct train and test sets with the train_rows mask. Also creating the y value with train['price'] as log as we had found during the exploratory data analysis portion of the project."
   ]
  },
  {
   "cell_type": "markdown",
   "metadata": {},
   "source": [
    "#### Transforming the text data into a matrix and combinining dummies data (with shipping and item condition) into the matrix"
   ]
  },
  {
   "cell_type": "code",
   "execution_count": 17,
   "metadata": {},
   "outputs": [],
   "source": [
    "tfidf = TfidfVectorizer(max_features = 10000, lowercase=True, max_df=0.7, min_df=1, ngram_range=(1,2), stop_words= 'english')\n",
    "text_transformed = tfidf.fit_transform(text_train)"
   ]
  },
  {
   "cell_type": "markdown",
   "metadata": {},
   "source": [
    "#### Checking to see the result of the combined matrix if the row counts are in line with what we originally started with for validation purposes:"
   ]
  },
  {
   "cell_type": "code",
   "execution_count": 18,
   "metadata": {
    "scrolled": false
   },
   "outputs": [
    {
     "name": "stdout",
     "output_type": "stream",
     "text": [
      "(1442262, 10000)\n",
      "(1442262, 2)\n"
     ]
    }
   ],
   "source": [
    "print(text_transformed.shape)\n",
    "print(X_dummies.shape)"
   ]
  },
  {
   "cell_type": "code",
   "execution_count": 19,
   "metadata": {},
   "outputs": [],
   "source": [
    "X = scipy.sparse.hstack((X_dummies, text_transformed)).tocsr()"
   ]
  },
  {
   "cell_type": "code",
   "execution_count": 20,
   "metadata": {
    "scrolled": true
   },
   "outputs": [
    {
     "data": {
      "text/plain": [
       "(1442262, 10002)"
      ]
     },
     "execution_count": 20,
     "metadata": {},
     "output_type": "execute_result"
    }
   ],
   "source": [
    "X.shape"
   ]
  },
  {
   "cell_type": "markdown",
   "metadata": {},
   "source": [
    "#### Train Test Split of the data to create a sample train/test from the training data set."
   ]
  },
  {
   "cell_type": "code",
   "execution_count": 21,
   "metadata": {},
   "outputs": [],
   "source": [
    "X_train, X_test, y_train, y_test = train_test_split(text_transformed, y, test_size=0.4, random_state=42)"
   ]
  },
  {
   "cell_type": "markdown",
   "metadata": {},
   "source": [
    "#### Trying to see what parts of a ridge regression could help reach the best score. by running grid search and pickling the results as done before, the run code is below in markdown format while the reference to the pickle file is below."
   ]
  },
  {
   "cell_type": "code",
   "execution_count": 22,
   "metadata": {
    "scrolled": true
   },
   "outputs": [],
   "source": [
    "from sklearn.model_selection import GridSearchCV\n",
    "\n",
    "#estimators = [(\"ridge\", Ridge())]\n",
    "#model = Pipeline(estimators)\n",
    "#model.fit(X, y)\n",
    "\n",
    "\n",
    "#params = {\"ridge__alpha\":[0.1, 0.3, 0.5, 1, 3], #regularization param\n",
    "#         \"ridge__fit_intercept\": [True, False],\n",
    "#          \"ridge__normalize\": [True, False]    \n",
    "#         }\n",
    "               \n",
    "#grid = GridSearchCV(estimator=model, param_grid = params, verbose=600) \n",
    "#grid.fit(X, y)\n",
    "\n",
    "#Pickling the output:\n",
    "#outfile = 'grid_ridge.pkl'\n",
    "\n",
    "#with open(outfile, 'wb') as pickle_file:\n",
    "#    pickle.dump(grid, pickle_file)"
   ]
  },
  {
   "cell_type": "code",
   "execution_count": 23,
   "metadata": {
    "scrolled": true
   },
   "outputs": [
    {
     "name": "stdout",
     "output_type": "stream",
     "text": [
      "Best Estimator:  Pipeline(memory=None,\n",
      "     steps=[('ridge', Ridge(alpha=1, copy_X=True, fit_intercept=True, max_iter=None,\n",
      "   normalize=False, random_state=None, solver='auto', tol=0.001))])\n",
      "Best Score:  0.518507368615\n",
      "Best Parameters:  {'ridge__alpha': 1, 'ridge__fit_intercept': True, 'ridge__normalize': False}\n"
     ]
    }
   ],
   "source": [
    "grid_ridge = pickle.load(open('grid_ridge.pkl', \"rb\"))\n",
    "#best estimators\n",
    "print(\"Best Estimator: \", grid_ridge.best_estimator_)\n",
    "#printing best scores\n",
    "print(\"Best Score: \", grid_ridge.best_score_)\n",
    "#printing best parameters for optimal parameter tuning\n",
    "print(\"Best Parameters: \", grid_ridge.best_params_)\n"
   ]
  },
  {
   "cell_type": "markdown",
   "metadata": {},
   "source": [
    "#### Applying the best estimators to the Ridge Regression Model for testing:"
   ]
  },
  {
   "cell_type": "code",
   "execution_count": 24,
   "metadata": {},
   "outputs": [],
   "source": [
    "ridge = Ridge(alpha=1, copy_X=True, fit_intercept=True, max_iter=None,\n",
    "   normalize=False, random_state=None, solver='atuo', tol=0.001)"
   ]
  },
  {
   "cell_type": "code",
   "execution_count": 25,
   "metadata": {},
   "outputs": [
    {
     "name": "stderr",
     "output_type": "stream",
     "text": [
      "c:\\users\\kj.park\\appdata\\local\\programs\\python\\python36\\lib\\site-packages\\sklearn\\linear_model\\ridge.py:319: UserWarning: In Ridge, only 'sag' solver can currently fit the intercept when X is sparse. Solver has been automatically changed into 'sag'.\n",
      "  warnings.warn(\"In Ridge, only 'sag' solver can currently fit the \"\n"
     ]
    },
    {
     "data": {
      "text/plain": [
       "Ridge(alpha=1, copy_X=True, fit_intercept=True, max_iter=None,\n",
       "   normalize=False, random_state=None, solver='atuo', tol=0.001)"
      ]
     },
     "execution_count": 25,
     "metadata": {},
     "output_type": "execute_result"
    }
   ],
   "source": [
    "ridge.fit(X_train, y_train)"
   ]
  },
  {
   "cell_type": "code",
   "execution_count": 26,
   "metadata": {},
   "outputs": [
    {
     "name": "stdout",
     "output_type": "stream",
     "text": [
      "Ridge Regression Score:  49.4311120567 %\n"
     ]
    }
   ],
   "source": [
    "print(\"Ridge Regression Score: \",(ridge.score(X_test,y_test))*100,\"%\")"
   ]
  },
  {
   "cell_type": "code",
   "execution_count": 27,
   "metadata": {},
   "outputs": [
    {
     "name": "stdout",
     "output_type": "stream",
     "text": [
      "Root Mean Squared Logarithmic Error for Ridge Regression:  12.2031294305 %\n"
     ]
    }
   ],
   "source": [
    "predictions = ridge.predict(X_test)\n",
    "#Would need to do a root mean squared error on the predictions vs real y_test.\n",
    "from sklearn.metrics import mean_squared_error\n",
    "from math import sqrt\n",
    "\n",
    "rmsle = rmsle(y_test, predictions)\n",
    "print(\"Root Mean Squared Logarithmic Error for Ridge Regression: \",rmsle*100,\"%\")"
   ]
  },
  {
   "cell_type": "code",
   "execution_count": 30,
   "metadata": {},
   "outputs": [],
   "source": [
    "from sklearn.ensemble import RandomForestRegressor\n",
    "estimators = [(\"rfr\", RandomForestRegressor())]\n",
    "model = Pipeline(estimators)\n",
    "#model.fit(X, y)\n",
    "\n",
    "params={\"n_estimators\": [10, 20, 50, 100],\n",
    "        \"max_features\": [0.2, 0.4, 0.6, 0.8,1],\n",
    "        \"min_samples_leaf\": [2, 10, 20, 50, 100]\n",
    "       }\n"
   ]
  },
  {
   "cell_type": "code",
   "execution_count": null,
   "metadata": {
    "scrolled": false
   },
   "outputs": [],
   "source": [
    "gscv = GridSearchCV(estimator=RandomForestRegressor(), param_grid = params, verbose=600)\n",
    "gscv.fit(X, y)\n",
    "\n"
   ]
  },
  {
   "cell_type": "code",
   "execution_count": null,
   "metadata": {},
   "outputs": [],
   "source": [
    "#Pickling the output:\n",
    "outfile = 'grid_ml_rfr.pkl'\n",
    "\n",
    "with open(outfile, 'wb') as pickle_file: pickle.dump(gscv, pickle_file)"
   ]
  },
  {
   "cell_type": "code",
   "execution_count": 28,
   "metadata": {
    "scrolled": true
   },
   "outputs": [
    {
     "name": "stdout",
     "output_type": "stream",
     "text": [
      "Best Estimator:  RandomForestRegressor(bootstrap=True, criterion='mse', max_depth=None,\n",
      "           max_features=0.2, max_leaf_nodes=None,\n",
      "           min_impurity_decrease=0.0, min_impurity_split=None,\n",
      "           min_samples_leaf=2, min_samples_split=2,\n",
      "           min_weight_fraction_leaf=0.0, n_estimators=10, n_jobs=1,\n",
      "           oob_score=False, random_state=None, verbose=0, warm_start=False)\n",
      "Best Score:  -0.40658340241\n",
      "Best Parameters:  {'max_features': 0.2, 'min_samples_leaf': 2, 'n_estimators': 10}\n"
     ]
    }
   ],
   "source": [
    "#load pickle file for the random forest regressor gridsearch\n",
    "grid_ml_rfr = pickle.load(open('grid_ml_rfr.pkl', \"rb\"))\n",
    "#best estimators\n",
    "print(\"Best Estimator: \", grid_ml_rfr.best_estimator_)\n",
    "#printing best scores\n",
    "print(\"Best Score: \", grid_ml_rfr.best_score_)\n",
    "#printing best parameters for optimal parameter tuning\n",
    "print(\"Best Parameters: \", grid_ml_rfr.best_params_)"
   ]
  },
  {
   "cell_type": "markdown",
   "metadata": {},
   "source": [
    "#### Applying the best estimators to the Random Forest Regressor Model for testing:"
   ]
  },
  {
   "cell_type": "code",
   "execution_count": 31,
   "metadata": {},
   "outputs": [],
   "source": [
    "model = RandomForestRegressor(bootstrap=True, criterion='mse', max_depth=None,\n",
    "           max_features=0.2, max_leaf_nodes=None,\n",
    "           min_impurity_decrease=0.0, min_impurity_split=None,\n",
    "           min_samples_leaf=2, min_samples_split=2,\n",
    "           min_weight_fraction_leaf=0.0, n_estimators=10, n_jobs=1,\n",
    "           oob_score=False, random_state=None, verbose=0, warm_start=False)"
   ]
  },
  {
   "cell_type": "code",
   "execution_count": 32,
   "metadata": {
    "scrolled": true
   },
   "outputs": [
    {
     "data": {
      "text/plain": [
       "RandomForestRegressor(bootstrap=True, criterion='mse', max_depth=None,\n",
       "           max_features=0.2, max_leaf_nodes=None,\n",
       "           min_impurity_decrease=0.0, min_impurity_split=None,\n",
       "           min_samples_leaf=2, min_samples_split=2,\n",
       "           min_weight_fraction_leaf=0.0, n_estimators=10, n_jobs=1,\n",
       "           oob_score=False, random_state=None, verbose=0, warm_start=False)"
      ]
     },
     "execution_count": 32,
     "metadata": {},
     "output_type": "execute_result"
    }
   ],
   "source": [
    "model.fit(X_train, y_train)"
   ]
  },
  {
   "cell_type": "code",
   "execution_count": 33,
   "metadata": {},
   "outputs": [
    {
     "name": "stdout",
     "output_type": "stream",
     "text": [
      "Random Forest Regressor Score:  48.8483840713 %\n"
     ]
    }
   ],
   "source": [
    "print(\"Random Forest Regressor Score: \",model.score(X_test, y_test)*100,\"%\")"
   ]
  },
  {
   "cell_type": "code",
   "execution_count": 34,
   "metadata": {},
   "outputs": [],
   "source": [
    "predictions= model.predict(X_test)\n"
   ]
  },
  {
   "cell_type": "code",
   "execution_count": 35,
   "metadata": {},
   "outputs": [
    {
     "ename": "TypeError",
     "evalue": "'numpy.float64' object is not callable",
     "output_type": "error",
     "traceback": [
      "\u001b[1;31m---------------------------------------------------------------------------\u001b[0m",
      "\u001b[1;31mTypeError\u001b[0m                                 Traceback (most recent call last)",
      "\u001b[1;32m<ipython-input-35-53db40bb1f21>\u001b[0m in \u001b[0;36m<module>\u001b[1;34m()\u001b[0m\n\u001b[1;32m----> 1\u001b[1;33m \u001b[0mrmsle\u001b[0m \u001b[1;33m=\u001b[0m \u001b[0mrmsle\u001b[0m\u001b[1;33m(\u001b[0m\u001b[0my_test\u001b[0m\u001b[1;33m,\u001b[0m \u001b[0mpredictions\u001b[0m\u001b[1;33m)\u001b[0m\u001b[1;33m\u001b[0m\u001b[0m\n\u001b[0m\u001b[0;32m      2\u001b[0m \u001b[0mprint\u001b[0m\u001b[1;33m(\u001b[0m\u001b[1;34m\"Root Mean Squared Logarithmic Error for Random Forest Regressor: \"\u001b[0m\u001b[1;33m,\u001b[0m\u001b[0mrmsle\u001b[0m\u001b[1;33m*\u001b[0m\u001b[1;36m100\u001b[0m\u001b[1;33m,\u001b[0m\u001b[1;34m\"%\"\u001b[0m\u001b[1;33m)\u001b[0m\u001b[1;33m\u001b[0m\u001b[0m\n",
      "\u001b[1;31mTypeError\u001b[0m: 'numpy.float64' object is not callable"
     ]
    }
   ],
   "source": [
    "rmsle = rmsle(y_test, predictions)\n",
    "print(\"Root Mean Squared Logarithmic Error for Random Forest Regressor: \",rmsle*100,\"%\")"
   ]
  },
  {
   "cell_type": "code",
   "execution_count": 36,
   "metadata": {},
   "outputs": [
    {
     "name": "stdout",
     "output_type": "stream",
     "text": [
      "Fitting 3 folds for each of 4 candidates, totalling 12 fits\n",
      "[CV] fit_intercept=True, normalize=True ..............................\n",
      "[CV]  fit_intercept=True, normalize=True, score=-0.2103649835455393, total= 4.2min\n",
      "[Parallel(n_jobs=1)]: Done   1 out of   1 | elapsed:  4.2min remaining:    0.0s\n",
      "[CV] fit_intercept=True, normalize=True ..............................\n",
      "[CV]  fit_intercept=True, normalize=True, score=-0.21065075600566505, total= 4.4min\n",
      "[Parallel(n_jobs=1)]: Done   2 out of   2 | elapsed:  8.6min remaining:    0.0s\n",
      "[CV] fit_intercept=True, normalize=True ..............................\n",
      "[CV]  fit_intercept=True, normalize=True, score=-0.2100811760610622, total= 4.2min\n",
      "[Parallel(n_jobs=1)]: Done   3 out of   3 | elapsed: 12.8min remaining:    0.0s\n",
      "[CV] fit_intercept=True, normalize=False .............................\n",
      "[CV]  fit_intercept=True, normalize=False, score=-0.21036546741215942, total= 5.0min\n",
      "[Parallel(n_jobs=1)]: Done   4 out of   4 | elapsed: 17.8min remaining:    0.0s\n",
      "[CV] fit_intercept=True, normalize=False .............................\n",
      "[CV]  fit_intercept=True, normalize=False, score=-0.21065016309590318, total= 5.8min\n",
      "[Parallel(n_jobs=1)]: Done   5 out of   5 | elapsed: 23.6min remaining:    0.0s\n",
      "[CV] fit_intercept=True, normalize=False .............................\n",
      "[CV]  fit_intercept=True, normalize=False, score=-0.2100746697607626, total= 5.8min\n",
      "[Parallel(n_jobs=1)]: Done   6 out of   6 | elapsed: 29.4min remaining:    0.0s\n",
      "[CV] fit_intercept=False, normalize=True .............................\n",
      "[CV]  fit_intercept=False, normalize=True, score=-0.2663297175152987, total= 5.4min\n",
      "[Parallel(n_jobs=1)]: Done   7 out of   7 | elapsed: 34.9min remaining:    0.0s\n",
      "[CV] fit_intercept=False, normalize=True .............................\n",
      "[CV]  fit_intercept=False, normalize=True, score=-0.2666559430241992, total= 5.6min\n",
      "[Parallel(n_jobs=1)]: Done   8 out of   8 | elapsed: 40.4min remaining:    0.0s\n",
      "[CV] fit_intercept=False, normalize=True .............................\n",
      "[CV]  fit_intercept=False, normalize=True, score=-0.26474154904145264, total= 6.4min\n",
      "[Parallel(n_jobs=1)]: Done   9 out of   9 | elapsed: 46.8min remaining:    0.0s\n",
      "[CV] fit_intercept=False, normalize=False ............................\n",
      "[CV]  fit_intercept=False, normalize=False, score=-0.2663297175152987, total= 5.2min\n",
      "[Parallel(n_jobs=1)]: Done  10 out of  10 | elapsed: 52.0min remaining:    0.0s\n",
      "[CV] fit_intercept=False, normalize=False ............................\n",
      "[CV]  fit_intercept=False, normalize=False, score=-0.2666559430241992, total= 5.3min\n",
      "[Parallel(n_jobs=1)]: Done  11 out of  11 | elapsed: 57.3min remaining:    0.0s\n",
      "[CV] fit_intercept=False, normalize=False ............................\n",
      "[CV]  fit_intercept=False, normalize=False, score=-0.26474154904145264, total= 6.2min\n",
      "[Parallel(n_jobs=1)]: Done  12 out of  12 | elapsed: 63.5min remaining:    0.0s\n",
      "[Parallel(n_jobs=1)]: Done  12 out of  12 | elapsed: 63.5min finished\n"
     ]
    }
   ],
   "source": [
    "from sklearn.linear_model import LinearRegression\n",
    "estimators = [(\"lin_reg\", LinearRegression())]\n",
    "model = Pipeline(estimators)\n",
    "model.fit(X, y)\n",
    "\n",
    "params={\"fit_intercept\": [True,False],\n",
    "        \"normalize\": [True,False]\n",
    "       }\n",
    "linreg_gscv = GridSearchCV(estimator=LinearRegression(), param_grid = params, scoring = \"neg_mean_squared_error\" , verbose=600)\n",
    "\n",
    "linreg_gscv.fit(X, y)\n",
    "#Pickling the output:\n",
    "outfile = 'grid_ml_linreg.pkl'\n",
    "\n",
    "with open(outfile, 'wb') as pickle_file: pickle.dump(linreg_gscv, pickle_file)"
   ]
  },
  {
   "cell_type": "code",
   "execution_count": 37,
   "metadata": {
    "scrolled": true
   },
   "outputs": [],
   "source": [
    "grid_ml_linreg = pickle.load(open('grid_ml_linreg.pkl', \"rb\"))"
   ]
  },
  {
   "cell_type": "code",
   "execution_count": 38,
   "metadata": {},
   "outputs": [
    {
     "name": "stdout",
     "output_type": "stream",
     "text": [
      "Best Estimator:  LinearRegression(copy_X=True, fit_intercept=True, n_jobs=1, normalize=False)\n",
      "Best Score:  -0.210363433423\n",
      "Best Parameters:  {'fit_intercept': True, 'normalize': False}\n"
     ]
    }
   ],
   "source": [
    "#best estimators\n",
    "print(\"Best Estimator: \", grid_ml_linreg.best_estimator_)\n",
    "#printing best scores\n",
    "print(\"Best Score: \", grid_ml_linreg.best_score_)\n",
    "#printing best parameters for optimal parameter tuning\n",
    "print(\"Best Parameters: \", grid_ml_linreg.best_params_)"
   ]
  },
  {
   "cell_type": "code",
   "execution_count": 39,
   "metadata": {},
   "outputs": [],
   "source": [
    "model = LinearRegression(copy_X=True, fit_intercept=True, n_jobs=1, normalize=False)"
   ]
  },
  {
   "cell_type": "code",
   "execution_count": 40,
   "metadata": {},
   "outputs": [
    {
     "data": {
      "text/plain": [
       "LinearRegression(copy_X=True, fit_intercept=True, n_jobs=1, normalize=False)"
      ]
     },
     "execution_count": 40,
     "metadata": {},
     "output_type": "execute_result"
    }
   ],
   "source": [
    "model.fit(X_train, y_train)"
   ]
  },
  {
   "cell_type": "code",
   "execution_count": 41,
   "metadata": {},
   "outputs": [
    {
     "name": "stdout",
     "output_type": "stream",
     "text": [
      "Linear Regression Score:  49.1602373287 %\n"
     ]
    }
   ],
   "source": [
    "print(\"Linear Regression Score: \",model.score(X_test, y_test)*100,\"%\")"
   ]
  },
  {
   "cell_type": "code",
   "execution_count": 42,
   "metadata": {},
   "outputs": [
    {
     "ename": "TypeError",
     "evalue": "'numpy.float64' object is not callable",
     "output_type": "error",
     "traceback": [
      "\u001b[1;31m---------------------------------------------------------------------------\u001b[0m",
      "\u001b[1;31mTypeError\u001b[0m                                 Traceback (most recent call last)",
      "\u001b[1;32m<ipython-input-42-5c733efaffa4>\u001b[0m in \u001b[0;36m<module>\u001b[1;34m()\u001b[0m\n\u001b[0;32m      1\u001b[0m \u001b[0mpredictions\u001b[0m \u001b[1;33m=\u001b[0m \u001b[0mmodel\u001b[0m\u001b[1;33m.\u001b[0m\u001b[0mpredict\u001b[0m\u001b[1;33m(\u001b[0m\u001b[0mX_test\u001b[0m\u001b[1;33m)\u001b[0m\u001b[1;33m\u001b[0m\u001b[0m\n\u001b[1;32m----> 2\u001b[1;33m \u001b[0mrmsle\u001b[0m \u001b[1;33m=\u001b[0m \u001b[0mrmsle\u001b[0m\u001b[1;33m(\u001b[0m\u001b[0my_test\u001b[0m\u001b[1;33m,\u001b[0m \u001b[0mpredictions\u001b[0m\u001b[1;33m)\u001b[0m\u001b[1;33m\u001b[0m\u001b[0m\n\u001b[0m\u001b[0;32m      3\u001b[0m \u001b[0mprint\u001b[0m\u001b[1;33m(\u001b[0m\u001b[1;34m\"Root Mean Squared Logarithmic Error for Linear Regression: \"\u001b[0m\u001b[1;33m,\u001b[0m\u001b[0mrmsle\u001b[0m\u001b[1;33m*\u001b[0m\u001b[1;36m100\u001b[0m\u001b[1;33m,\u001b[0m\u001b[1;34m\"%\"\u001b[0m\u001b[1;33m)\u001b[0m\u001b[1;33m\u001b[0m\u001b[0m\n",
      "\u001b[1;31mTypeError\u001b[0m: 'numpy.float64' object is not callable"
     ]
    }
   ],
   "source": [
    "predictions = model.predict(X_test)\n",
    "rmsle = rmsle(y_test, predictions)\n",
    "print(\"Root Mean Squared Logarithmic Error for Linear Regression: \",rmsle*100,\"%\")"
   ]
  },
  {
   "cell_type": "code",
   "execution_count": null,
   "metadata": {},
   "outputs": [],
   "source": []
  }
 ],
 "metadata": {
  "kernelspec": {
   "display_name": "Python 3",
   "language": "python",
   "name": "python3"
  },
  "language_info": {
   "codemirror_mode": {
    "name": "ipython",
    "version": 3
   },
   "file_extension": ".py",
   "mimetype": "text/x-python",
   "name": "python",
   "nbconvert_exporter": "python",
   "pygments_lexer": "ipython3",
   "version": "3.6.2"
  }
 },
 "nbformat": 4,
 "nbformat_minor": 2
}
