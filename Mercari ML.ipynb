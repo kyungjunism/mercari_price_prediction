{
 "cells": [
  {
   "cell_type": "code",
   "execution_count": 1,
   "metadata": {},
   "outputs": [],
   "source": [
    "import scipy as sp\n",
    "import pandas as pd\n",
    "import numpy as np\n",
    "import seaborn as sns\n",
    "import matplotlib.pyplot as plt\n",
    "import matplotlib\n",
    "import squarify\n",
    "from sklearn.feature_extraction.text import TfidfVectorizer, CountVectorizer, TfidfTransformer\n",
    "import re\n",
    "import xgboost\n",
    "import scipy\n",
    "from sklearn.model_selection import train_test_split, GridSearchCV\n",
    "import sklearn\n",
    "from sklearn.metrics import mean_squared_log_error\n",
    "from sklearn.linear_model import SGDRegressor\n",
    "from sklearn.pipeline import Pipeline"
   ]
  },
  {
   "cell_type": "code",
   "execution_count": 2,
   "metadata": {},
   "outputs": [
    {
     "data": {
      "text/html": [
       "<div>\n",
       "<style>\n",
       "    .dataframe thead tr:only-child th {\n",
       "        text-align: right;\n",
       "    }\n",
       "\n",
       "    .dataframe thead th {\n",
       "        text-align: left;\n",
       "    }\n",
       "\n",
       "    .dataframe tbody tr th {\n",
       "        vertical-align: top;\n",
       "    }\n",
       "</style>\n",
       "<table border=\"1\" class=\"dataframe\">\n",
       "  <thead>\n",
       "    <tr style=\"text-align: right;\">\n",
       "      <th></th>\n",
       "      <th>train_id</th>\n",
       "      <th>name</th>\n",
       "      <th>item_condition_id</th>\n",
       "      <th>category_name</th>\n",
       "      <th>brand_name</th>\n",
       "      <th>price</th>\n",
       "      <th>shipping</th>\n",
       "      <th>item_description</th>\n",
       "    </tr>\n",
       "  </thead>\n",
       "  <tbody>\n",
       "    <tr>\n",
       "      <th>0</th>\n",
       "      <td>0</td>\n",
       "      <td>MLB Cincinnati Reds T Shirt Size XL</td>\n",
       "      <td>3</td>\n",
       "      <td>Men/Tops/T-shirts</td>\n",
       "      <td>NaN</td>\n",
       "      <td>10.0</td>\n",
       "      <td>1</td>\n",
       "      <td>No description yet</td>\n",
       "    </tr>\n",
       "    <tr>\n",
       "      <th>1</th>\n",
       "      <td>1</td>\n",
       "      <td>Razer BlackWidow Chroma Keyboard</td>\n",
       "      <td>3</td>\n",
       "      <td>Electronics/Computers &amp; Tablets/Components &amp; P...</td>\n",
       "      <td>Razer</td>\n",
       "      <td>52.0</td>\n",
       "      <td>0</td>\n",
       "      <td>This keyboard is in great condition and works ...</td>\n",
       "    </tr>\n",
       "    <tr>\n",
       "      <th>2</th>\n",
       "      <td>2</td>\n",
       "      <td>AVA-VIV Blouse</td>\n",
       "      <td>1</td>\n",
       "      <td>Women/Tops &amp; Blouses/Blouse</td>\n",
       "      <td>Target</td>\n",
       "      <td>10.0</td>\n",
       "      <td>1</td>\n",
       "      <td>Adorable top with a hint of lace and a key hol...</td>\n",
       "    </tr>\n",
       "    <tr>\n",
       "      <th>3</th>\n",
       "      <td>3</td>\n",
       "      <td>Leather Horse Statues</td>\n",
       "      <td>1</td>\n",
       "      <td>Home/Home Décor/Home Décor Accents</td>\n",
       "      <td>NaN</td>\n",
       "      <td>35.0</td>\n",
       "      <td>1</td>\n",
       "      <td>New with tags. Leather horses. Retail for [rm]...</td>\n",
       "    </tr>\n",
       "    <tr>\n",
       "      <th>4</th>\n",
       "      <td>4</td>\n",
       "      <td>24K GOLD plated rose</td>\n",
       "      <td>1</td>\n",
       "      <td>Women/Jewelry/Necklaces</td>\n",
       "      <td>NaN</td>\n",
       "      <td>44.0</td>\n",
       "      <td>0</td>\n",
       "      <td>Complete with certificate of authenticity</td>\n",
       "    </tr>\n",
       "  </tbody>\n",
       "</table>\n",
       "</div>"
      ],
      "text/plain": [
       "   train_id                                 name  item_condition_id  \\\n",
       "0         0  MLB Cincinnati Reds T Shirt Size XL                  3   \n",
       "1         1     Razer BlackWidow Chroma Keyboard                  3   \n",
       "2         2                       AVA-VIV Blouse                  1   \n",
       "3         3                Leather Horse Statues                  1   \n",
       "4         4                 24K GOLD plated rose                  1   \n",
       "\n",
       "                                       category_name brand_name  price  \\\n",
       "0                                  Men/Tops/T-shirts        NaN   10.0   \n",
       "1  Electronics/Computers & Tablets/Components & P...      Razer   52.0   \n",
       "2                        Women/Tops & Blouses/Blouse     Target   10.0   \n",
       "3                 Home/Home Décor/Home Décor Accents        NaN   35.0   \n",
       "4                            Women/Jewelry/Necklaces        NaN   44.0   \n",
       "\n",
       "   shipping                                   item_description  \n",
       "0         1                                 No description yet  \n",
       "1         0  This keyboard is in great condition and works ...  \n",
       "2         1  Adorable top with a hint of lace and a key hol...  \n",
       "3         1  New with tags. Leather horses. Retail for [rm]...  \n",
       "4         0          Complete with certificate of authenticity  "
      ]
     },
     "execution_count": 2,
     "metadata": {},
     "output_type": "execute_result"
    }
   ],
   "source": [
    "data_train = pd.read_csv(\"train.tsv\", sep='\\t', header=0)\n",
    "data_train.head()"
   ]
  },
  {
   "cell_type": "code",
   "execution_count": 3,
   "metadata": {},
   "outputs": [
    {
     "data": {
      "text/html": [
       "<div>\n",
       "<style>\n",
       "    .dataframe thead tr:only-child th {\n",
       "        text-align: right;\n",
       "    }\n",
       "\n",
       "    .dataframe thead th {\n",
       "        text-align: left;\n",
       "    }\n",
       "\n",
       "    .dataframe tbody tr th {\n",
       "        vertical-align: top;\n",
       "    }\n",
       "</style>\n",
       "<table border=\"1\" class=\"dataframe\">\n",
       "  <thead>\n",
       "    <tr style=\"text-align: right;\">\n",
       "      <th></th>\n",
       "      <th>test_id</th>\n",
       "      <th>name</th>\n",
       "      <th>item_condition_id</th>\n",
       "      <th>category_name</th>\n",
       "      <th>brand_name</th>\n",
       "      <th>shipping</th>\n",
       "      <th>item_description</th>\n",
       "    </tr>\n",
       "  </thead>\n",
       "  <tbody>\n",
       "    <tr>\n",
       "      <th>0</th>\n",
       "      <td>0</td>\n",
       "      <td>Breast cancer \"I fight like a girl\" ring</td>\n",
       "      <td>1</td>\n",
       "      <td>Women/Jewelry/Rings</td>\n",
       "      <td>NaN</td>\n",
       "      <td>1</td>\n",
       "      <td>Size 7</td>\n",
       "    </tr>\n",
       "    <tr>\n",
       "      <th>1</th>\n",
       "      <td>1</td>\n",
       "      <td>25 pcs NEW 7.5\"x12\" Kraft Bubble Mailers</td>\n",
       "      <td>1</td>\n",
       "      <td>Other/Office supplies/Shipping Supplies</td>\n",
       "      <td>NaN</td>\n",
       "      <td>1</td>\n",
       "      <td>25 pcs NEW 7.5\"x12\" Kraft Bubble Mailers Lined...</td>\n",
       "    </tr>\n",
       "    <tr>\n",
       "      <th>2</th>\n",
       "      <td>2</td>\n",
       "      <td>Coach bag</td>\n",
       "      <td>1</td>\n",
       "      <td>Vintage &amp; Collectibles/Bags and Purses/Handbag</td>\n",
       "      <td>Coach</td>\n",
       "      <td>1</td>\n",
       "      <td>Brand new coach bag. Bought for [rm] at a Coac...</td>\n",
       "    </tr>\n",
       "    <tr>\n",
       "      <th>3</th>\n",
       "      <td>3</td>\n",
       "      <td>Floral Kimono</td>\n",
       "      <td>2</td>\n",
       "      <td>Women/Sweaters/Cardigan</td>\n",
       "      <td>NaN</td>\n",
       "      <td>0</td>\n",
       "      <td>-floral kimono -never worn -lightweight and pe...</td>\n",
       "    </tr>\n",
       "    <tr>\n",
       "      <th>4</th>\n",
       "      <td>4</td>\n",
       "      <td>Life after Death</td>\n",
       "      <td>3</td>\n",
       "      <td>Other/Books/Religion &amp; Spirituality</td>\n",
       "      <td>NaN</td>\n",
       "      <td>1</td>\n",
       "      <td>Rediscovering life after the loss of a loved o...</td>\n",
       "    </tr>\n",
       "  </tbody>\n",
       "</table>\n",
       "</div>"
      ],
      "text/plain": [
       "   test_id                                      name  item_condition_id  \\\n",
       "0        0  Breast cancer \"I fight like a girl\" ring                  1   \n",
       "1        1  25 pcs NEW 7.5\"x12\" Kraft Bubble Mailers                  1   \n",
       "2        2                                 Coach bag                  1   \n",
       "3        3                             Floral Kimono                  2   \n",
       "4        4                          Life after Death                  3   \n",
       "\n",
       "                                    category_name brand_name  shipping  \\\n",
       "0                             Women/Jewelry/Rings        NaN         1   \n",
       "1         Other/Office supplies/Shipping Supplies        NaN         1   \n",
       "2  Vintage & Collectibles/Bags and Purses/Handbag      Coach         1   \n",
       "3                         Women/Sweaters/Cardigan        NaN         0   \n",
       "4             Other/Books/Religion & Spirituality        NaN         1   \n",
       "\n",
       "                                    item_description  \n",
       "0                                             Size 7  \n",
       "1  25 pcs NEW 7.5\"x12\" Kraft Bubble Mailers Lined...  \n",
       "2  Brand new coach bag. Bought for [rm] at a Coac...  \n",
       "3  -floral kimono -never worn -lightweight and pe...  \n",
       "4  Rediscovering life after the loss of a loved o...  "
      ]
     },
     "execution_count": 3,
     "metadata": {},
     "output_type": "execute_result"
    }
   ],
   "source": [
    "data_test = pd.read_csv(\"test.tsv\", sep='\\t', header=0)\n",
    "data_test.head()"
   ]
  },
  {
   "cell_type": "code",
   "execution_count": 4,
   "metadata": {
    "scrolled": true
   },
   "outputs": [
    {
     "name": "stdout",
     "output_type": "stream",
     "text": [
      "1482535\n"
     ]
    }
   ],
   "source": [
    "data = pd.concat([data_train, data_test], 0)\n",
    "nrow_train = data_train.shape[0]\n",
    "print(nrow_train)\n",
    "y  = np.log1p(data_train[\"price\"])\n",
    "y_train = np.log1p(data_train[\"price\"])"
   ]
  },
  {
   "cell_type": "code",
   "execution_count": 5,
   "metadata": {},
   "outputs": [
    {
     "name": "stderr",
     "output_type": "stream",
     "text": [
      "c:\\users\\kj.park\\appdata\\local\\programs\\python\\python36\\lib\\site-packages\\ipykernel_launcher.py:1: FutureWarning: currently extract(expand=None) means expand=False (return Index/Series/DataFrame) but in a future version of pandas this will be changed to expand=True (return DataFrame)\n",
      "  \"\"\"Entry point for launching an IPython kernel.\n",
      "c:\\users\\kj.park\\appdata\\local\\programs\\python\\python36\\lib\\site-packages\\ipykernel_launcher.py:2: FutureWarning: currently extract(expand=None) means expand=False (return Index/Series/DataFrame) but in a future version of pandas this will be changed to expand=True (return DataFrame)\n",
      "  \n"
     ]
    }
   ],
   "source": [
    "data['primary_cat'] = data.category_name.str.extract('([^/]+)/[^/]+/[^/]+')\n",
    "data['secondary_cat'] = data.category_name.str.extract('[^/]+/([^/]+/[^/]+)')"
   ]
  },
  {
   "cell_type": "code",
   "execution_count": 6,
   "metadata": {
    "scrolled": false
   },
   "outputs": [
    {
     "name": "stdout",
     "output_type": "stream",
     "text": [
      "<class 'pandas.core.frame.DataFrame'>\n",
      "Int64Index: 2175894 entries, 0 to 693358\n",
      "Data columns (total 11 columns):\n",
      "brand_name           object\n",
      "category_name        object\n",
      "item_condition_id    int64\n",
      "item_description     object\n",
      "name                 object\n",
      "price                float64\n",
      "shipping             int64\n",
      "test_id              float64\n",
      "train_id             float64\n",
      "primary_cat          object\n",
      "secondary_cat        object\n",
      "dtypes: float64(3), int64(2), object(6)\n",
      "memory usage: 199.2+ MB\n"
     ]
    }
   ],
   "source": [
    "non_text = [',','-','.','&','%','#', '(',')','[',']','*','!','✨','▪️','\"','~',\"'\", '<', '>', '®','™']\n",
    "for symbols in non_text: \n",
    "    data['primary_cat'] = data['primary_cat'].str.replace(symbols, '') \n",
    "    data['secondary_cat'] = data['secondary_cat'].str.replace(symbols, '') \n",
    "    data['item_description'] = data['item_description'].str.replace(symbols, '') \n",
    "    data['brand_name'] = data['brand_name'].str.replace(symbols, '')\n",
    "    data['name'] = data['name'].str.replace(symbols, '')\n",
    "data.info()"
   ]
  },
  {
   "cell_type": "code",
   "execution_count": 7,
   "metadata": {
    "scrolled": true
   },
   "outputs": [],
   "source": [
    "data = data.apply(lambda x: x.astype(str).str.lower())"
   ]
  },
  {
   "cell_type": "code",
   "execution_count": 8,
   "metadata": {
    "scrolled": true
   },
   "outputs": [
    {
     "data": {
      "text/html": [
       "<div>\n",
       "<style>\n",
       "    .dataframe thead tr:only-child th {\n",
       "        text-align: right;\n",
       "    }\n",
       "\n",
       "    .dataframe thead th {\n",
       "        text-align: left;\n",
       "    }\n",
       "\n",
       "    .dataframe tbody tr th {\n",
       "        vertical-align: top;\n",
       "    }\n",
       "</style>\n",
       "<table border=\"1\" class=\"dataframe\">\n",
       "  <thead>\n",
       "    <tr style=\"text-align: right;\">\n",
       "      <th></th>\n",
       "      <th>brand_name</th>\n",
       "      <th>category_name</th>\n",
       "      <th>item_condition_id</th>\n",
       "      <th>item_description</th>\n",
       "      <th>name</th>\n",
       "      <th>price</th>\n",
       "      <th>shipping</th>\n",
       "      <th>test_id</th>\n",
       "      <th>train_id</th>\n",
       "      <th>primary_cat</th>\n",
       "      <th>secondary_cat</th>\n",
       "    </tr>\n",
       "  </thead>\n",
       "  <tbody>\n",
       "    <tr>\n",
       "      <th>0</th>\n",
       "      <td>nan</td>\n",
       "      <td>men/tops/t-shirts</td>\n",
       "      <td>3</td>\n",
       "      <td>no description yet</td>\n",
       "      <td>mlb cincinnati reds t shirt size xl</td>\n",
       "      <td>10.0</td>\n",
       "      <td>1</td>\n",
       "      <td>nan</td>\n",
       "      <td>0.0</td>\n",
       "      <td>men</td>\n",
       "      <td>tops/tshirts</td>\n",
       "    </tr>\n",
       "    <tr>\n",
       "      <th>1</th>\n",
       "      <td>razer</td>\n",
       "      <td>electronics/computers &amp; tablets/components &amp; p...</td>\n",
       "      <td>3</td>\n",
       "      <td>this keyboard is in great condition and works ...</td>\n",
       "      <td>razer blackwidow chroma keyboard</td>\n",
       "      <td>52.0</td>\n",
       "      <td>0</td>\n",
       "      <td>nan</td>\n",
       "      <td>1.0</td>\n",
       "      <td>electronics</td>\n",
       "      <td>computers  tablets/components  parts</td>\n",
       "    </tr>\n",
       "    <tr>\n",
       "      <th>2</th>\n",
       "      <td>target</td>\n",
       "      <td>women/tops &amp; blouses/blouse</td>\n",
       "      <td>1</td>\n",
       "      <td>adorable top with a hint of lace and a key hol...</td>\n",
       "      <td>avaviv blouse</td>\n",
       "      <td>10.0</td>\n",
       "      <td>1</td>\n",
       "      <td>nan</td>\n",
       "      <td>2.0</td>\n",
       "      <td>women</td>\n",
       "      <td>tops  blouses/blouse</td>\n",
       "    </tr>\n",
       "    <tr>\n",
       "      <th>3</th>\n",
       "      <td>nan</td>\n",
       "      <td>home/home décor/home décor accents</td>\n",
       "      <td>1</td>\n",
       "      <td>new with tags leather horses retail for rm eac...</td>\n",
       "      <td>leather horse statues</td>\n",
       "      <td>35.0</td>\n",
       "      <td>1</td>\n",
       "      <td>nan</td>\n",
       "      <td>3.0</td>\n",
       "      <td>home</td>\n",
       "      <td>home décor/home décor accents</td>\n",
       "    </tr>\n",
       "    <tr>\n",
       "      <th>4</th>\n",
       "      <td>nan</td>\n",
       "      <td>women/jewelry/necklaces</td>\n",
       "      <td>1</td>\n",
       "      <td>complete with certificate of authenticity</td>\n",
       "      <td>24k gold plated rose</td>\n",
       "      <td>44.0</td>\n",
       "      <td>0</td>\n",
       "      <td>nan</td>\n",
       "      <td>4.0</td>\n",
       "      <td>women</td>\n",
       "      <td>jewelry/necklaces</td>\n",
       "    </tr>\n",
       "  </tbody>\n",
       "</table>\n",
       "</div>"
      ],
      "text/plain": [
       "  brand_name                                      category_name  \\\n",
       "0        nan                                  men/tops/t-shirts   \n",
       "1      razer  electronics/computers & tablets/components & p...   \n",
       "2     target                        women/tops & blouses/blouse   \n",
       "3        nan                 home/home décor/home décor accents   \n",
       "4        nan                            women/jewelry/necklaces   \n",
       "\n",
       "  item_condition_id                                   item_description  \\\n",
       "0                 3                                 no description yet   \n",
       "1                 3  this keyboard is in great condition and works ...   \n",
       "2                 1  adorable top with a hint of lace and a key hol...   \n",
       "3                 1  new with tags leather horses retail for rm eac...   \n",
       "4                 1          complete with certificate of authenticity   \n",
       "\n",
       "                                  name price shipping test_id train_id  \\\n",
       "0  mlb cincinnati reds t shirt size xl  10.0        1     nan      0.0   \n",
       "1     razer blackwidow chroma keyboard  52.0        0     nan      1.0   \n",
       "2                        avaviv blouse  10.0        1     nan      2.0   \n",
       "3                leather horse statues  35.0        1     nan      3.0   \n",
       "4                 24k gold plated rose  44.0        0     nan      4.0   \n",
       "\n",
       "   primary_cat                         secondary_cat  \n",
       "0          men                          tops/tshirts  \n",
       "1  electronics  computers  tablets/components  parts  \n",
       "2        women                  tops  blouses/blouse  \n",
       "3         home         home décor/home décor accents  \n",
       "4        women                     jewelry/necklaces  "
      ]
     },
     "execution_count": 8,
     "metadata": {},
     "output_type": "execute_result"
    }
   ],
   "source": [
    "data.head()"
   ]
  },
  {
   "cell_type": "code",
   "execution_count": 9,
   "metadata": {
    "scrolled": false
   },
   "outputs": [
    {
     "name": "stdout",
     "output_type": "stream",
     "text": [
      "0\n",
      "0\n",
      "0\n",
      "0\n",
      "0\n"
     ]
    }
   ],
   "source": [
    "features = [data['name'], data['brand_name'] ,data['item_description'] ,data['primary_cat'], data['secondary_cat']]\n",
    "for x in features:\n",
    "    x = x.fillna(value = 'none', inplace=False, axis=0)\n",
    "    print(x.isnull().sum())"
   ]
  },
  {
   "cell_type": "code",
   "execution_count": 10,
   "metadata": {},
   "outputs": [],
   "source": [
    "def tokenizer(text):\n",
    "    if text:\n",
    "        result = re.findall('[a-z]{2,}', text.lower())\n",
    "    else:\n",
    "        result = []\n",
    "    return result"
   ]
  },
  {
   "cell_type": "code",
   "execution_count": 11,
   "metadata": {},
   "outputs": [],
   "source": [
    "#combining all text values within one variable X_text\n",
    "X_text = (data['name'] + ' ' + data['brand_name'] + ' ' +\n",
    "          data['item_description'] + ' ' + data['primary_cat'] + ' ' + \n",
    "          data['secondary_cat']).values"
   ]
  },
  {
   "cell_type": "code",
   "execution_count": 12,
   "metadata": {},
   "outputs": [
    {
     "data": {
      "text/plain": [
       "array([ 'mlb cincinnati reds t shirt size xl nan no description yet men tops/tshirts',\n",
       "       'razer blackwidow chroma keyboard razer this keyboard is in great condition and works like it came out of the box all of the ports are tested and work perfectly the lights are customizable via the razer synapse app on your pc electronics computers  tablets/components  parts',\n",
       "       'avaviv blouse target adorable top with a hint of lace and a key hole in the back the pale pink is a 1x and i also have a 3x available in white women tops  blouses/blouse',\n",
       "       ...,\n",
       "       'galaxy s8 hard shell case nan new free shipping basstop case electronics cell phones  accessories/cases covers  skins',\n",
       "       'hi low floral kimono nan floral kimono tropical print open front hi low design great for layering or as a cover up women swimwear/coverups',\n",
       "       'freeship 2 floral scrub tops medium nan 2 floral scrub tops worn less than 5 times each brown has a belt tie women tops  blouses/tshirts'], dtype=object)"
      ]
     },
     "execution_count": 12,
     "metadata": {},
     "output_type": "execute_result"
    }
   ],
   "source": [
    "X_text"
   ]
  },
  {
   "cell_type": "code",
   "execution_count": 13,
   "metadata": {},
   "outputs": [],
   "source": [
    "#instantiating a TFidVectorizer\n",
    "count_desc = TfidfVectorizer(tokenizer=tokenizer, max_features = 50000, ngram_range = (1,3),stop_words = \"english\")"
   ]
  },
  {
   "cell_type": "code",
   "execution_count": 14,
   "metadata": {},
   "outputs": [],
   "source": [
    "X_text = count_desc.fit_transform(X_text)"
   ]
  },
  {
   "cell_type": "code",
   "execution_count": 15,
   "metadata": {},
   "outputs": [
    {
     "data": {
      "text/plain": [
       "<2175894x50000 sparse matrix of type '<class 'numpy.float64'>'\n",
       "\twith 78711917 stored elements in Compressed Sparse Row format>"
      ]
     },
     "execution_count": 15,
     "metadata": {},
     "output_type": "execute_result"
    }
   ],
   "source": [
    "X_text"
   ]
  },
  {
   "cell_type": "code",
   "execution_count": 16,
   "metadata": {},
   "outputs": [],
   "source": [
    "#Getting dummies for the non_text values for item_condition with range (1-5) and shipping (0,1)\n",
    "X_dummies = scipy.sparse.csr_matrix(pd.get_dummies(data[[\n",
    "    \"item_condition_id\", \"shipping\"]], sparse = True).values)"
   ]
  },
  {
   "cell_type": "code",
   "execution_count": 17,
   "metadata": {},
   "outputs": [],
   "source": [
    "#re-combining transformed features into one X value:\n",
    "X = scipy.sparse.hstack((X_dummies, X_text)).tocsr()"
   ]
  },
  {
   "cell_type": "markdown",
   "metadata": {},
   "source": [
    "#IGNORE FOR NOW\n",
    "count = CountVectorizer()\n",
    "vect = LabelBinarizer(sparse_output=True)\n",
    "count_desc = TfidfVectorizer(max_features = 50000, ngram_range = (1,3),stop_words = \"english\")\n",
    "X_desc = count_desc.fit_transform(data[\"item_description\"])\n",
    "X_name = count.fit_transform(data['name'])\n",
    "X_cat_1 = count.fit_transform(data['primary_cat'])\n",
    "X_cat_2 = count.fit_transform(data['secondary_cat'])\n",
    "X_brand = vect.fit_transform(data['brand_name'])\n",
    "X_dummies = scipy.sparse.csr_matrix(pd.get_dummies(data[[\n",
    "    \"item_condition_id\", \"shipping\"]], sparse = True).values)"
   ]
  },
  {
   "cell_type": "markdown",
   "metadata": {},
   "source": [
    "#IGNORE FOR NOW\n",
    "X = scipy.sparse.hstack((X_dummies, \n",
    "                         X_desc,\n",
    "                         X_brand,\n",
    "                         X_cat_1,\n",
    "                         X_cat_2,\n",
    "                         X_name)).tocsr()"
   ]
  },
  {
   "cell_type": "code",
   "execution_count": 18,
   "metadata": {},
   "outputs": [],
   "source": [
    "X_training = X[:nrow_train]\n",
    "X_testing = X[nrow_train:]"
   ]
  },
  {
   "cell_type": "code",
   "execution_count": 19,
   "metadata": {},
   "outputs": [
    {
     "name": "stdout",
     "output_type": "stream",
     "text": [
      "(1482535, 50007)\n",
      "(1482535,)\n"
     ]
    }
   ],
   "source": [
    "print(X_training.shape)\n",
    "print(y.shape)"
   ]
  },
  {
   "cell_type": "code",
   "execution_count": 20,
   "metadata": {},
   "outputs": [],
   "source": [
    "X_train, X_test, y_train, y_test = train_test_split(X_training, y, test_size=0.4, random_state=42)"
   ]
  },
  {
   "cell_type": "code",
   "execution_count": 21,
   "metadata": {
    "scrolled": true
   },
   "outputs": [
    {
     "name": "stdout",
     "output_type": "stream",
     "text": [
      "(889521, 50007)\n",
      "(889521,)\n"
     ]
    }
   ],
   "source": [
    "print(X_train.shape)\n",
    "print(y_train.shape)"
   ]
  },
  {
   "cell_type": "code",
   "execution_count": 22,
   "metadata": {
    "scrolled": true
   },
   "outputs": [
    {
     "name": "stdout",
     "output_type": "stream",
     "text": [
      "Fitting 5 folds for each of 30 candidates, totalling 150 fits\n",
      "[CV] alpha=0.0001, penalty=none ......................................\n",
      "[CV]  alpha=0.0001, penalty=none, score=-0.021727306009160403, total=   2.9s\n",
      "[CV] alpha=0.0001, penalty=none ......................................\n"
     ]
    },
    {
     "name": "stderr",
     "output_type": "stream",
     "text": [
      "[Parallel(n_jobs=1)]: Done   1 out of   1 | elapsed:    3.2s remaining:    0.0s\n"
     ]
    },
    {
     "name": "stdout",
     "output_type": "stream",
     "text": [
      "[CV]  alpha=0.0001, penalty=none, score=-0.021748110995804055, total=   3.0s\n",
      "[CV] alpha=0.0001, penalty=none ......................................\n"
     ]
    },
    {
     "name": "stderr",
     "output_type": "stream",
     "text": [
      "[Parallel(n_jobs=1)]: Done   2 out of   2 | elapsed:    6.5s remaining:    0.0s\n"
     ]
    },
    {
     "name": "stdout",
     "output_type": "stream",
     "text": [
      "[CV]  alpha=0.0001, penalty=none, score=-0.021672166545402768, total=   2.8s\n",
      "[CV] alpha=0.0001, penalty=none ......................................\n",
      "[CV]  alpha=0.0001, penalty=none, score=-0.021695815271642053, total=   3.0s\n",
      "[CV] alpha=0.0001, penalty=none ......................................\n",
      "[CV]  alpha=0.0001, penalty=none, score=-0.021466765028354304, total=   2.8s\n",
      "[CV] alpha=0.0001, penalty=l2 ........................................\n",
      "[CV]  alpha=0.0001, penalty=l2, score=-0.021947404003389875, total=   2.6s\n",
      "[CV] alpha=0.0001, penalty=l2 ........................................\n",
      "[CV]  alpha=0.0001, penalty=l2, score=-0.021960787006276395, total=   2.6s\n",
      "[CV] alpha=0.0001, penalty=l2 ........................................\n",
      "[CV]  alpha=0.0001, penalty=l2, score=-0.021885447894606426, total=   2.6s\n",
      "[CV] alpha=0.0001, penalty=l2 ........................................\n",
      "[CV]  alpha=0.0001, penalty=l2, score=-0.021909051725762872, total=   4.8s\n",
      "[CV] alpha=0.0001, penalty=l2 ........................................\n",
      "[CV]  alpha=0.0001, penalty=l2, score=-0.021684207946280207, total=   2.7s\n",
      "[CV] alpha=0.0001, penalty=l1 ........................................\n",
      "[CV]  alpha=0.0001, penalty=l1, score=-0.02397280840675648, total=   4.7s\n",
      "[CV] alpha=0.0001, penalty=l1 ........................................\n",
      "[CV]  alpha=0.0001, penalty=l1, score=-0.023970711747932492, total=   4.6s\n",
      "[CV] alpha=0.0001, penalty=l1 ........................................\n",
      "[CV]  alpha=0.0001, penalty=l1, score=-0.02389015000359081, total=   5.5s\n",
      "[CV] alpha=0.0001, penalty=l1 ........................................\n",
      "[CV]  alpha=0.0001, penalty=l1, score=-0.023919630564684918, total=   5.0s\n",
      "[CV] alpha=0.0001, penalty=l1 ........................................\n",
      "[CV]  alpha=0.0001, penalty=l1, score=-0.023700722851109385, total=   5.1s\n",
      "[CV] alpha=0.0002, penalty=none ......................................\n",
      "[CV]  alpha=0.0002, penalty=none, score=-0.021727306009160403, total=   3.3s\n",
      "[CV] alpha=0.0002, penalty=none ......................................\n",
      "[CV]  alpha=0.0002, penalty=none, score=-0.021748110995804055, total=   2.8s\n",
      "[CV] alpha=0.0002, penalty=none ......................................\n",
      "[CV]  alpha=0.0002, penalty=none, score=-0.021672166545402768, total=   2.7s\n",
      "[CV] alpha=0.0002, penalty=none ......................................\n",
      "[CV]  alpha=0.0002, penalty=none, score=-0.021695815271642053, total=   2.6s\n",
      "[CV] alpha=0.0002, penalty=none ......................................\n",
      "[CV]  alpha=0.0002, penalty=none, score=-0.021466765028354304, total=   3.0s\n",
      "[CV] alpha=0.0002, penalty=l2 ........................................\n",
      "[CV]  alpha=0.0002, penalty=l2, score=-0.022167615648977162, total=   2.9s\n",
      "[CV] alpha=0.0002, penalty=l2 ........................................\n",
      "[CV]  alpha=0.0002, penalty=l2, score=-0.022174197032818106, total=   2.8s\n",
      "[CV] alpha=0.0002, penalty=l2 ........................................\n",
      "[CV]  alpha=0.0002, penalty=l2, score=-0.022099434489948434, total=   2.9s\n",
      "[CV] alpha=0.0002, penalty=l2 ........................................\n",
      "[CV]  alpha=0.0002, penalty=l2, score=-0.022122923691670588, total=   3.0s\n",
      "[CV] alpha=0.0002, penalty=l2 ........................................\n",
      "[CV]  alpha=0.0002, penalty=l2, score=-0.02190192820000629, total=   2.8s\n",
      "[CV] alpha=0.0002, penalty=l1 ........................................\n",
      "[CV]  alpha=0.0002, penalty=l1, score=-0.02522339975718604, total=   4.6s\n",
      "[CV] alpha=0.0002, penalty=l1 ........................................\n",
      "[CV]  alpha=0.0002, penalty=l1, score=-0.025203411610218388, total=   4.4s\n",
      "[CV] alpha=0.0002, penalty=l1 ........................................\n",
      "[CV]  alpha=0.0002, penalty=l1, score=-0.025129648494437974, total=   4.3s\n",
      "[CV] alpha=0.0002, penalty=l1 ........................................\n",
      "[CV]  alpha=0.0002, penalty=l1, score=-0.02515793370861065, total=   4.5s\n",
      "[CV] alpha=0.0002, penalty=l1 ........................................\n",
      "[CV]  alpha=0.0002, penalty=l1, score=-0.024938776594807262, total=   4.3s\n",
      "[CV] alpha=0.0005, penalty=none ......................................\n",
      "[CV]  alpha=0.0005, penalty=none, score=-0.021727306009160403, total=   3.0s\n",
      "[CV] alpha=0.0005, penalty=none ......................................\n",
      "[CV]  alpha=0.0005, penalty=none, score=-0.021748110995804055, total=   2.8s\n",
      "[CV] alpha=0.0005, penalty=none ......................................\n",
      "[CV]  alpha=0.0005, penalty=none, score=-0.021672166545402768, total=   2.7s\n",
      "[CV] alpha=0.0005, penalty=none ......................................\n",
      "[CV]  alpha=0.0005, penalty=none, score=-0.021695815271642053, total=   2.8s\n",
      "[CV] alpha=0.0005, penalty=none ......................................\n",
      "[CV]  alpha=0.0005, penalty=none, score=-0.021466765028354304, total=   3.1s\n",
      "[CV] alpha=0.0005, penalty=l2 ........................................\n",
      "[CV]  alpha=0.0005, penalty=l2, score=-0.022816509033927717, total=   2.8s\n",
      "[CV] alpha=0.0005, penalty=l2 ........................................\n",
      "[CV]  alpha=0.0005, penalty=l2, score=-0.022805876658408858, total=   2.8s\n",
      "[CV] alpha=0.0005, penalty=l2 ........................................\n",
      "[CV]  alpha=0.0005, penalty=l2, score=-0.022732759171742334, total=   3.9s\n",
      "[CV] alpha=0.0005, penalty=l2 ........................................\n",
      "[CV]  alpha=0.0005, penalty=l2, score=-0.022755575662359095, total=   7.7s\n",
      "[CV] alpha=0.0005, penalty=l2 ........................................\n",
      "[CV]  alpha=0.0005, penalty=l2, score=-0.022544293434007077, total=   6.5s\n",
      "[CV] alpha=0.0005, penalty=l1 ........................................\n",
      "[CV]  alpha=0.0005, penalty=l1, score=-0.027697426903409636, total=  20.4s\n",
      "[CV] alpha=0.0005, penalty=l1 ........................................\n",
      "[CV]  alpha=0.0005, penalty=l1, score=-0.027630816994717707, total=  22.7s\n",
      "[CV] alpha=0.0005, penalty=l1 ........................................\n",
      "[CV]  alpha=0.0005, penalty=l1, score=-0.027572338707970368, total=  14.2s\n",
      "[CV] alpha=0.0005, penalty=l1 ........................................\n",
      "[CV]  alpha=0.0005, penalty=l1, score=-0.02758877099056085, total=  12.7s\n",
      "[CV] alpha=0.0005, penalty=l1 ........................................\n",
      "[CV]  alpha=0.0005, penalty=l1, score=-0.02738894733442981, total=  12.1s\n",
      "[CV] alpha=0.001, penalty=none .......................................\n",
      "[CV]  alpha=0.001, penalty=none, score=-0.021727306009160403, total=  11.0s\n",
      "[CV] alpha=0.001, penalty=none .......................................\n",
      "[CV]  alpha=0.001, penalty=none, score=-0.021748110995804055, total=  11.0s\n",
      "[CV] alpha=0.001, penalty=none .......................................\n",
      "[CV]  alpha=0.001, penalty=none, score=-0.021672166545402768, total=   9.1s\n",
      "[CV] alpha=0.001, penalty=none .......................................\n",
      "[CV]  alpha=0.001, penalty=none, score=-0.021695815271642053, total=  11.4s\n",
      "[CV] alpha=0.001, penalty=none .......................................\n",
      "[CV]  alpha=0.001, penalty=none, score=-0.021466765028354304, total=  11.4s\n",
      "[CV] alpha=0.001, penalty=l2 .........................................\n",
      "[CV]  alpha=0.001, penalty=l2, score=-0.023816354477540835, total=  17.8s\n",
      "[CV] alpha=0.001, penalty=l2 .........................................\n",
      "[CV]  alpha=0.001, penalty=l2, score=-0.02378517058482357, total=  15.0s\n",
      "[CV] alpha=0.001, penalty=l2 .........................................\n",
      "[CV]  alpha=0.001, penalty=l2, score=-0.02371475962026851, total=  12.6s\n",
      "[CV] alpha=0.001, penalty=l2 .........................................\n",
      "[CV]  alpha=0.001, penalty=l2, score=-0.023735767538316157, total=  14.5s\n",
      "[CV] alpha=0.001, penalty=l2 .........................................\n",
      "[CV]  alpha=0.001, penalty=l2, score=-0.023536040221741307, total=  13.7s\n",
      "[CV] alpha=0.001, penalty=l1 .........................................\n",
      "[CV]  alpha=0.001, penalty=l1, score=-0.029794573590461906, total=  13.9s\n",
      "[CV] alpha=0.001, penalty=l1 .........................................\n",
      "[CV]  alpha=0.001, penalty=l1, score=-0.029680052298962402, total=  11.7s\n",
      "[CV] alpha=0.001, penalty=l1 .........................................\n",
      "[CV]  alpha=0.001, penalty=l1, score=-0.029656322507530572, total=  10.9s\n",
      "[CV] alpha=0.001, penalty=l1 .........................................\n",
      "[CV]  alpha=0.001, penalty=l1, score=-0.029638721657510008, total=  10.8s\n",
      "[CV] alpha=0.001, penalty=l1 .........................................\n"
     ]
    },
    {
     "name": "stdout",
     "output_type": "stream",
     "text": [
      "[CV]  alpha=0.001, penalty=l1, score=-0.02948696966628886, total=   8.8s\n",
      "[CV] alpha=0.002, penalty=none .......................................\n",
      "[CV]  alpha=0.002, penalty=none, score=-0.021727306009160403, total=   6.5s\n",
      "[CV] alpha=0.002, penalty=none .......................................\n",
      "[CV]  alpha=0.002, penalty=none, score=-0.021748110995804055, total=   5.8s\n",
      "[CV] alpha=0.002, penalty=none .......................................\n",
      "[CV]  alpha=0.002, penalty=none, score=-0.021672166545402768, total=   6.1s\n",
      "[CV] alpha=0.002, penalty=none .......................................\n",
      "[CV]  alpha=0.002, penalty=none, score=-0.021695815271642053, total=   6.2s\n",
      "[CV] alpha=0.002, penalty=none .......................................\n",
      "[CV]  alpha=0.002, penalty=none, score=-0.021466765028354304, total=   5.8s\n",
      "[CV] alpha=0.002, penalty=l2 .........................................\n",
      "[CV]  alpha=0.002, penalty=l2, score=-0.025424905540928112, total=   6.5s\n",
      "[CV] alpha=0.002, penalty=l2 .........................................\n",
      "[CV]  alpha=0.002, penalty=l2, score=-0.025371020277252694, total=   6.2s\n",
      "[CV] alpha=0.002, penalty=l2 .........................................\n",
      "[CV]  alpha=0.002, penalty=l2, score=-0.025306184520007744, total=   5.5s\n",
      "[CV] alpha=0.002, penalty=l2 .........................................\n",
      "[CV]  alpha=0.002, penalty=l2, score=-0.025322761026180734, total=   6.1s\n",
      "[CV] alpha=0.002, penalty=l2 .........................................\n",
      "[CV]  alpha=0.002, penalty=l2, score=-0.025135733934453237, total=   6.2s\n",
      "[CV] alpha=0.002, penalty=l1 .........................................\n",
      "[CV]  alpha=0.002, penalty=l1, score=-0.031831367879799385, total=   7.7s\n",
      "[CV] alpha=0.002, penalty=l1 .........................................\n",
      "[CV]  alpha=0.002, penalty=l1, score=-0.03168096648017958, total=  10.0s\n",
      "[CV] alpha=0.002, penalty=l1 .........................................\n",
      "[CV]  alpha=0.002, penalty=l1, score=-0.03165566515859233, total=   9.2s\n",
      "[CV] alpha=0.002, penalty=l1 .........................................\n",
      "[CV]  alpha=0.002, penalty=l1, score=-0.03162915564017758, total=   9.2s\n",
      "[CV] alpha=0.002, penalty=l1 .........................................\n",
      "[CV]  alpha=0.002, penalty=l1, score=-0.03151643573909194, total=   9.2s\n",
      "[CV] alpha=0.005, penalty=none .......................................\n",
      "[CV]  alpha=0.005, penalty=none, score=-0.021727306009160403, total=   5.8s\n",
      "[CV] alpha=0.005, penalty=none .......................................\n",
      "[CV]  alpha=0.005, penalty=none, score=-0.021748110995804055, total=   6.2s\n",
      "[CV] alpha=0.005, penalty=none .......................................\n",
      "[CV]  alpha=0.005, penalty=none, score=-0.021672166545402768, total=   6.3s\n",
      "[CV] alpha=0.005, penalty=none .......................................\n",
      "[CV]  alpha=0.005, penalty=none, score=-0.021695815271642053, total=   5.6s\n",
      "[CV] alpha=0.005, penalty=none .......................................\n",
      "[CV]  alpha=0.005, penalty=none, score=-0.021466765028354304, total=   6.1s\n",
      "[CV] alpha=0.005, penalty=l2 .........................................\n",
      "[CV]  alpha=0.005, penalty=l2, score=-0.028066204301292353, total=   6.6s\n",
      "[CV] alpha=0.005, penalty=l2 .........................................\n",
      "[CV]  alpha=0.005, penalty=l2, score=-0.02799674315753303, total=   6.7s\n",
      "[CV] alpha=0.005, penalty=l2 .........................................\n",
      "[CV]  alpha=0.005, penalty=l2, score=-0.027946673667076906, total=   6.6s\n",
      "[CV] alpha=0.005, penalty=l2 .........................................\n",
      "[CV]  alpha=0.005, penalty=l2, score=-0.02795205744973024, total=   6.8s\n",
      "[CV] alpha=0.005, penalty=l2 .........................................\n",
      "[CV]  alpha=0.005, penalty=l2, score=-0.027773268559785867, total=   8.9s\n",
      "[CV] alpha=0.005, penalty=l1 .........................................\n",
      "[CV]  alpha=0.005, penalty=l1, score=-0.03305883632683749, total=   8.0s\n",
      "[CV] alpha=0.005, penalty=l1 .........................................\n",
      "[CV]  alpha=0.005, penalty=l1, score=-0.032946041885208235, total=  10.8s\n",
      "[CV] alpha=0.005, penalty=l1 .........................................\n",
      "[CV]  alpha=0.005, penalty=l1, score=-0.03292548361414654, total=  10.0s\n",
      "[CV] alpha=0.005, penalty=l1 .........................................\n",
      "[CV]  alpha=0.005, penalty=l1, score=-0.03290028008365218, total=   9.4s\n",
      "[CV] alpha=0.005, penalty=l1 .........................................\n",
      "[CV]  alpha=0.005, penalty=l1, score=-0.03278568645260628, total=  10.9s\n",
      "[CV] alpha=0.01, penalty=none ........................................\n",
      "[CV]  alpha=0.01, penalty=none, score=-0.021727306009160403, total=   7.0s\n",
      "[CV] alpha=0.01, penalty=none ........................................\n",
      "[CV]  alpha=0.01, penalty=none, score=-0.021748110995804055, total=   5.8s\n",
      "[CV] alpha=0.01, penalty=none ........................................\n",
      "[CV]  alpha=0.01, penalty=none, score=-0.021672166545402768, total=   6.0s\n",
      "[CV] alpha=0.01, penalty=none ........................................\n",
      "[CV]  alpha=0.01, penalty=none, score=-0.021695815271642053, total=   9.1s\n",
      "[CV] alpha=0.01, penalty=none ........................................\n",
      "[CV]  alpha=0.01, penalty=none, score=-0.021466765028354304, total=  13.9s\n",
      "[CV] alpha=0.01, penalty=l2 ..........................................\n",
      "[CV]  alpha=0.01, penalty=l2, score=-0.029799141479854997, total=  10.4s\n",
      "[CV] alpha=0.01, penalty=l2 ..........................................\n",
      "[CV]  alpha=0.01, penalty=l2, score=-0.02973910142670593, total=  11.2s\n",
      "[CV] alpha=0.01, penalty=l2 ..........................................\n",
      "[CV]  alpha=0.01, penalty=l2, score=-0.029704878080662002, total=   9.7s\n",
      "[CV] alpha=0.01, penalty=l2 ..........................................\n",
      "[CV]  alpha=0.01, penalty=l2, score=-0.029697222350744894, total=   9.8s\n",
      "[CV] alpha=0.01, penalty=l2 ..........................................\n",
      "[CV]  alpha=0.01, penalty=l2, score=-0.029513139103310642, total=   7.5s\n",
      "[CV] alpha=0.01, penalty=l1 ..........................................\n",
      "[CV]  alpha=0.01, penalty=l1, score=-0.03299347306037568, total=  10.0s\n",
      "[CV] alpha=0.01, penalty=l1 ..........................................\n",
      "[CV]  alpha=0.01, penalty=l1, score=-0.032893943732785494, total=   7.0s\n",
      "[CV] alpha=0.01, penalty=l1 ..........................................\n",
      "[CV]  alpha=0.01, penalty=l1, score=-0.0328776484223695, total=   7.8s\n",
      "[CV] alpha=0.01, penalty=l1 ..........................................\n",
      "[CV]  alpha=0.01, penalty=l1, score=-0.032843497698491604, total=   7.9s\n",
      "[CV] alpha=0.01, penalty=l1 ..........................................\n",
      "[CV]  alpha=0.01, penalty=l1, score=-0.032722206890938896, total=  10.6s\n",
      "[CV] alpha=0.02, penalty=none ........................................\n",
      "[CV]  alpha=0.02, penalty=none, score=-0.021727306009160403, total=   8.8s\n",
      "[CV] alpha=0.02, penalty=none ........................................\n",
      "[CV]  alpha=0.02, penalty=none, score=-0.021748110995804055, total=   6.0s\n",
      "[CV] alpha=0.02, penalty=none ........................................\n",
      "[CV]  alpha=0.02, penalty=none, score=-0.021672166545402768, total=   7.6s\n",
      "[CV] alpha=0.02, penalty=none ........................................\n",
      "[CV]  alpha=0.02, penalty=none, score=-0.021695815271642053, total=   7.7s\n",
      "[CV] alpha=0.02, penalty=none ........................................\n",
      "[CV]  alpha=0.02, penalty=none, score=-0.021466765028354304, total=   6.3s\n",
      "[CV] alpha=0.02, penalty=l2 ..........................................\n",
      "[CV]  alpha=0.02, penalty=l2, score=-0.031064102582652665, total=   5.7s\n",
      "[CV] alpha=0.02, penalty=l2 ..........................................\n",
      "[CV]  alpha=0.02, penalty=l2, score=-0.03103524527100332, total=   6.0s\n",
      "[CV] alpha=0.02, penalty=l2 ..........................................\n",
      "[CV]  alpha=0.02, penalty=l2, score=-0.03101821739808641, total=   5.9s\n",
      "[CV] alpha=0.02, penalty=l2 ..........................................\n",
      "[CV]  alpha=0.02, penalty=l2, score=-0.030988491896092336, total=   6.3s\n",
      "[CV] alpha=0.02, penalty=l2 ..........................................\n",
      "[CV]  alpha=0.02, penalty=l2, score=-0.030792399848660276, total=   6.6s\n",
      "[CV] alpha=0.02, penalty=l1 ..........................................\n",
      "[CV]  alpha=0.02, penalty=l1, score=-0.03287257482103692, total=   8.8s\n",
      "[CV] alpha=0.02, penalty=l1 ..........................................\n"
     ]
    },
    {
     "name": "stdout",
     "output_type": "stream",
     "text": [
      "[CV]  alpha=0.02, penalty=l1, score=-0.03282177518565353, total=   7.9s\n",
      "[CV] alpha=0.02, penalty=l1 ..........................................\n",
      "[CV]  alpha=0.02, penalty=l1, score=-0.032818422060498335, total=   7.9s\n",
      "[CV] alpha=0.02, penalty=l1 ..........................................\n",
      "[CV]  alpha=0.02, penalty=l1, score=-0.032766597840518163, total=   9.2s\n",
      "[CV] alpha=0.02, penalty=l1 ..........................................\n",
      "[CV]  alpha=0.02, penalty=l1, score=-0.032630885057433376, total=   8.3s\n",
      "[CV] alpha=0.05, penalty=none ........................................\n",
      "[CV]  alpha=0.05, penalty=none, score=-0.021727306009160403, total=   5.5s\n",
      "[CV] alpha=0.05, penalty=none ........................................\n",
      "[CV]  alpha=0.05, penalty=none, score=-0.021748110995804055, total=   5.8s\n",
      "[CV] alpha=0.05, penalty=none ........................................\n",
      "[CV]  alpha=0.05, penalty=none, score=-0.021672166545402768, total=   5.8s\n",
      "[CV] alpha=0.05, penalty=none ........................................\n",
      "[CV]  alpha=0.05, penalty=none, score=-0.021695815271642053, total=   8.7s\n",
      "[CV] alpha=0.05, penalty=none ........................................\n",
      "[CV]  alpha=0.05, penalty=none, score=-0.021466765028354304, total=  17.0s\n",
      "[CV] alpha=0.05, penalty=l2 ..........................................\n",
      "[CV]  alpha=0.05, penalty=l2, score=-0.032064027436917546, total=  15.9s\n",
      "[CV] alpha=0.05, penalty=l2 ..........................................\n",
      "[CV]  alpha=0.05, penalty=l2, score=-0.03209743595304665, total=  16.7s\n",
      "[CV] alpha=0.05, penalty=l2 ..........................................\n",
      "[CV]  alpha=0.05, penalty=l2, score=-0.03210174929100324, total=  13.7s\n",
      "[CV] alpha=0.05, penalty=l2 ..........................................\n",
      "[CV]  alpha=0.05, penalty=l2, score=-0.03202103408496673, total=  13.1s\n",
      "[CV] alpha=0.05, penalty=l2 ..........................................\n",
      "[CV]  alpha=0.05, penalty=l2, score=-0.031814613526262615, total=  18.4s\n",
      "[CV] alpha=0.05, penalty=l1 ..........................................\n",
      "[CV]  alpha=0.05, penalty=l1, score=-0.03280579981987597, total=  21.3s\n",
      "[CV] alpha=0.05, penalty=l1 ..........................................\n",
      "[CV]  alpha=0.05, penalty=l1, score=-0.032904091120480296, total=  22.6s\n",
      "[CV] alpha=0.05, penalty=l1 ..........................................\n",
      "[CV]  alpha=0.05, penalty=l1, score=-0.032924352415764344, total=  20.5s\n",
      "[CV] alpha=0.05, penalty=l1 ..........................................\n",
      "[CV]  alpha=0.05, penalty=l1, score=-0.03280970760301525, total=  18.3s\n",
      "[CV] alpha=0.05, penalty=l1 ..........................................\n",
      "[CV]  alpha=0.05, penalty=l1, score=-0.032622672639154436, total=  24.5s\n",
      "[CV] alpha=0.1, penalty=none .........................................\n",
      "[CV]  alpha=0.1, penalty=none, score=-0.021727306009160403, total=  13.8s\n",
      "[CV] alpha=0.1, penalty=none .........................................\n",
      "[CV]  alpha=0.1, penalty=none, score=-0.021748110995804055, total=   8.5s\n",
      "[CV] alpha=0.1, penalty=none .........................................\n",
      "[CV]  alpha=0.1, penalty=none, score=-0.021672166545402768, total=   8.3s\n",
      "[CV] alpha=0.1, penalty=none .........................................\n",
      "[CV]  alpha=0.1, penalty=none, score=-0.021695815271642053, total=   7.7s\n",
      "[CV] alpha=0.1, penalty=none .........................................\n",
      "[CV]  alpha=0.1, penalty=none, score=-0.021466765028354304, total=   9.2s\n",
      "[CV] alpha=0.1, penalty=l2 ...........................................\n",
      "[CV]  alpha=0.1, penalty=l2, score=-0.032425476413733924, total=  10.1s\n",
      "[CV] alpha=0.1, penalty=l2 ...........................................\n",
      "[CV]  alpha=0.1, penalty=l2, score=-0.032462730017777046, total=  11.3s\n",
      "[CV] alpha=0.1, penalty=l2 ...........................................\n",
      "[CV]  alpha=0.1, penalty=l2, score=-0.032482305135232724, total=  12.5s\n",
      "[CV] alpha=0.1, penalty=l2 ...........................................\n",
      "[CV]  alpha=0.1, penalty=l2, score=-0.03236745454372487, total=  14.1s\n",
      "[CV] alpha=0.1, penalty=l2 ...........................................\n",
      "[CV]  alpha=0.1, penalty=l2, score=-0.03217363317154552, total=  13.6s\n",
      "[CV] alpha=0.1, penalty=l1 ...........................................\n",
      "[CV]  alpha=0.1, penalty=l1, score=-0.033817796591239076, total=  10.9s\n",
      "[CV] alpha=0.1, penalty=l1 ...........................................\n",
      "[CV]  alpha=0.1, penalty=l1, score=-0.034165543005454956, total=   8.8s\n",
      "[CV] alpha=0.1, penalty=l1 ...........................................\n",
      "[CV]  alpha=0.1, penalty=l1, score=-0.034156905838883804, total=   7.9s\n",
      "[CV] alpha=0.1, penalty=l1 ...........................................\n",
      "[CV]  alpha=0.1, penalty=l1, score=-0.03398354395787474, total=   8.1s\n",
      "[CV] alpha=0.1, penalty=l1 ...........................................\n",
      "[CV]  alpha=0.1, penalty=l1, score=-0.033715584542089665, total=   8.4s\n"
     ]
    },
    {
     "name": "stderr",
     "output_type": "stream",
     "text": [
      "[Parallel(n_jobs=1)]: Done 150 out of 150 | elapsed: 22.6min finished\n"
     ]
    },
    {
     "data": {
      "text/plain": [
       "GridSearchCV(cv=5, error_score='raise',\n",
       "       estimator=SGDRegressor(alpha=0.0001, average=False, epsilon=0.1, eta0=0.01,\n",
       "       fit_intercept=True, l1_ratio=0.15, learning_rate='invscaling',\n",
       "       loss='squared_loss', max_iter=5, n_iter=None, penalty='l2',\n",
       "       power_t=0.25, random_state=101, shuffle=True, tol=None, verbose=0,\n",
       "       warm_start=False),\n",
       "       fit_params=None, iid=True, n_jobs=1,\n",
       "       param_grid={'penalty': ['none', 'l2', 'l1'], 'alpha': [0.0001, 0.0002, 0.0005, 0.001, 0.002, 0.005, 0.01, 0.02, 0.05, 0.1]},\n",
       "       pre_dispatch='2*n_jobs', refit=True, return_train_score='warn',\n",
       "       scoring='neg_mean_squared_log_error', verbose=3)"
      ]
     },
     "execution_count": 22,
     "metadata": {},
     "output_type": "execute_result"
    }
   ],
   "source": [
    "model = SGDRegressor(loss='squared_loss', penalty='l2', random_state=101, max_iter=5)\n",
    "params = {'penalty':['none','l2','l1'],\n",
    "          'alpha':[1e-4, 2e-4, 5e-4, 1e-3, 2e-3, 5e-3, 1e-2, 2e-2, 5e-2, 0.1]}\n",
    "gscv = GridSearchCV(estimator=model,\n",
    "                  param_grid=params,\n",
    "                  scoring='neg_mean_squared_log_error',\n",
    "                  n_jobs=1,\n",
    "                  cv=5,\n",
    "                  verbose=3)\n",
    "\n",
    "gscv.fit(X_train, y_train)"
   ]
  },
  {
   "cell_type": "code",
   "execution_count": 23,
   "metadata": {},
   "outputs": [],
   "source": [
    "predictions = gscv.predict(X_test)"
   ]
  },
  {
   "cell_type": "code",
   "execution_count": 24,
   "metadata": {},
   "outputs": [
    {
     "data": {
      "text/plain": [
       "array([ 2.4755281 ,  2.93839098,  2.31612233, ...,  2.58367158,\n",
       "        2.8324403 ,  4.2656816 ])"
      ]
     },
     "execution_count": 24,
     "metadata": {},
     "output_type": "execute_result"
    }
   ],
   "source": [
    "predictions"
   ]
  },
  {
   "cell_type": "code",
   "execution_count": 25,
   "metadata": {},
   "outputs": [
    {
     "ename": "ValueError",
     "evalue": "Unknown label type: (777341     2.564949\n1463629    4.343805\n350669     2.564949\n310222     1.386294\n759257     3.433987\n288846     5.420535\n1178450    2.833213\n726296     2.564949\n840510     2.772589\n1473033    2.890372\n1170796    3.367296\n506473     2.302585\n1134656    2.995732\n587885     1.609438\n93928      2.708050\n260369     4.276666\n96202      2.397895\n486334     2.708050\n1437987    4.394449\n1343222    2.890372\n1403115    3.044522\n1393495    2.564949\n1364847    3.367296\n1339539    2.564949\n1262505    3.178054\n811065     3.610918\n310616     3.828641\n828784     3.091042\n1385423    3.218876\n850832     1.945910\n             ...   \n959437     2.708050\n777685     5.525453\n477321     2.484907\n1337172    2.079442\n1040033    2.564949\n642740     3.258097\n991497     3.295837\n5432       3.737670\n396647     2.772589\n1313722    3.218876\n626140     3.401197\n305116     2.944439\n164473     2.708050\n847060     2.944439\n1014054    2.564949\n1083534    3.784190\n1182515    2.302585\n1230732    2.995732\n800110     3.044522\n312832     2.484907\n676275     2.708050\n1149698    3.218876\n676306     2.708050\n1313450    3.688879\n957425     1.609438\n1414420    2.397895\n369894     3.044522\n886958     1.791759\n592587     2.944439\n375137     4.454347\nName: price, Length: 593014, dtype: float64, array([ 2.4755281 ,  2.93839098,  2.31612233, ...,  2.58367158,\n        2.8324403 ,  4.2656816 ]))",
     "output_type": "error",
     "traceback": [
      "\u001b[1;31m---------------------------------------------------------------------------\u001b[0m",
      "\u001b[1;31mValueError\u001b[0m                                Traceback (most recent call last)",
      "\u001b[1;32m<ipython-input-25-4c2343633a1d>\u001b[0m in \u001b[0;36m<module>\u001b[1;34m()\u001b[0m\n\u001b[0;32m      1\u001b[0m \u001b[1;32mfrom\u001b[0m \u001b[0msklearn\u001b[0m\u001b[1;33m.\u001b[0m\u001b[0mmetrics\u001b[0m \u001b[1;32mimport\u001b[0m \u001b[0mclassification_report\u001b[0m\u001b[1;33m\u001b[0m\u001b[0m\n\u001b[1;32m----> 2\u001b[1;33m \u001b[0mreport\u001b[0m \u001b[1;33m=\u001b[0m \u001b[0mclassification_report\u001b[0m\u001b[1;33m(\u001b[0m\u001b[0my_test\u001b[0m\u001b[1;33m,\u001b[0m \u001b[0mpredictions\u001b[0m\u001b[1;33m)\u001b[0m\u001b[1;33m\u001b[0m\u001b[0m\n\u001b[0m\u001b[0;32m      3\u001b[0m \u001b[0mprint\u001b[0m\u001b[1;33m(\u001b[0m\u001b[0mreport\u001b[0m\u001b[1;33m)\u001b[0m\u001b[1;33m\u001b[0m\u001b[0m\n",
      "\u001b[1;32mc:\\users\\kj.park\\appdata\\local\\programs\\python\\python36\\lib\\site-packages\\sklearn\\metrics\\classification.py\u001b[0m in \u001b[0;36mclassification_report\u001b[1;34m(y_true, y_pred, labels, target_names, sample_weight, digits)\u001b[0m\n\u001b[0;32m   1419\u001b[0m \u001b[1;33m\u001b[0m\u001b[0m\n\u001b[0;32m   1420\u001b[0m     \u001b[1;32mif\u001b[0m \u001b[0mlabels\u001b[0m \u001b[1;32mis\u001b[0m \u001b[1;32mNone\u001b[0m\u001b[1;33m:\u001b[0m\u001b[1;33m\u001b[0m\u001b[0m\n\u001b[1;32m-> 1421\u001b[1;33m         \u001b[0mlabels\u001b[0m \u001b[1;33m=\u001b[0m \u001b[0munique_labels\u001b[0m\u001b[1;33m(\u001b[0m\u001b[0my_true\u001b[0m\u001b[1;33m,\u001b[0m \u001b[0my_pred\u001b[0m\u001b[1;33m)\u001b[0m\u001b[1;33m\u001b[0m\u001b[0m\n\u001b[0m\u001b[0;32m   1422\u001b[0m     \u001b[1;32melse\u001b[0m\u001b[1;33m:\u001b[0m\u001b[1;33m\u001b[0m\u001b[0m\n\u001b[0;32m   1423\u001b[0m         \u001b[0mlabels\u001b[0m \u001b[1;33m=\u001b[0m \u001b[0mnp\u001b[0m\u001b[1;33m.\u001b[0m\u001b[0masarray\u001b[0m\u001b[1;33m(\u001b[0m\u001b[0mlabels\u001b[0m\u001b[1;33m)\u001b[0m\u001b[1;33m\u001b[0m\u001b[0m\n",
      "\u001b[1;32mc:\\users\\kj.park\\appdata\\local\\programs\\python\\python36\\lib\\site-packages\\sklearn\\utils\\multiclass.py\u001b[0m in \u001b[0;36munique_labels\u001b[1;34m(*ys)\u001b[0m\n\u001b[0;32m     95\u001b[0m     \u001b[0m_unique_labels\u001b[0m \u001b[1;33m=\u001b[0m \u001b[0m_FN_UNIQUE_LABELS\u001b[0m\u001b[1;33m.\u001b[0m\u001b[0mget\u001b[0m\u001b[1;33m(\u001b[0m\u001b[0mlabel_type\u001b[0m\u001b[1;33m,\u001b[0m \u001b[1;32mNone\u001b[0m\u001b[1;33m)\u001b[0m\u001b[1;33m\u001b[0m\u001b[0m\n\u001b[0;32m     96\u001b[0m     \u001b[1;32mif\u001b[0m \u001b[1;32mnot\u001b[0m \u001b[0m_unique_labels\u001b[0m\u001b[1;33m:\u001b[0m\u001b[1;33m\u001b[0m\u001b[0m\n\u001b[1;32m---> 97\u001b[1;33m         \u001b[1;32mraise\u001b[0m \u001b[0mValueError\u001b[0m\u001b[1;33m(\u001b[0m\u001b[1;34m\"Unknown label type: %s\"\u001b[0m \u001b[1;33m%\u001b[0m \u001b[0mrepr\u001b[0m\u001b[1;33m(\u001b[0m\u001b[0mys\u001b[0m\u001b[1;33m)\u001b[0m\u001b[1;33m)\u001b[0m\u001b[1;33m\u001b[0m\u001b[0m\n\u001b[0m\u001b[0;32m     98\u001b[0m \u001b[1;33m\u001b[0m\u001b[0m\n\u001b[0;32m     99\u001b[0m     \u001b[0mys_labels\u001b[0m \u001b[1;33m=\u001b[0m \u001b[0mset\u001b[0m\u001b[1;33m(\u001b[0m\u001b[0mchain\u001b[0m\u001b[1;33m.\u001b[0m\u001b[0mfrom_iterable\u001b[0m\u001b[1;33m(\u001b[0m\u001b[0m_unique_labels\u001b[0m\u001b[1;33m(\u001b[0m\u001b[0my\u001b[0m\u001b[1;33m)\u001b[0m \u001b[1;32mfor\u001b[0m \u001b[0my\u001b[0m \u001b[1;32min\u001b[0m \u001b[0mys\u001b[0m\u001b[1;33m)\u001b[0m\u001b[1;33m)\u001b[0m\u001b[1;33m\u001b[0m\u001b[0m\n",
      "\u001b[1;31mValueError\u001b[0m: Unknown label type: (777341     2.564949\n1463629    4.343805\n350669     2.564949\n310222     1.386294\n759257     3.433987\n288846     5.420535\n1178450    2.833213\n726296     2.564949\n840510     2.772589\n1473033    2.890372\n1170796    3.367296\n506473     2.302585\n1134656    2.995732\n587885     1.609438\n93928      2.708050\n260369     4.276666\n96202      2.397895\n486334     2.708050\n1437987    4.394449\n1343222    2.890372\n1403115    3.044522\n1393495    2.564949\n1364847    3.367296\n1339539    2.564949\n1262505    3.178054\n811065     3.610918\n310616     3.828641\n828784     3.091042\n1385423    3.218876\n850832     1.945910\n             ...   \n959437     2.708050\n777685     5.525453\n477321     2.484907\n1337172    2.079442\n1040033    2.564949\n642740     3.258097\n991497     3.295837\n5432       3.737670\n396647     2.772589\n1313722    3.218876\n626140     3.401197\n305116     2.944439\n164473     2.708050\n847060     2.944439\n1014054    2.564949\n1083534    3.784190\n1182515    2.302585\n1230732    2.995732\n800110     3.044522\n312832     2.484907\n676275     2.708050\n1149698    3.218876\n676306     2.708050\n1313450    3.688879\n957425     1.609438\n1414420    2.397895\n369894     3.044522\n886958     1.791759\n592587     2.944439\n375137     4.454347\nName: price, Length: 593014, dtype: float64, array([ 2.4755281 ,  2.93839098,  2.31612233, ...,  2.58367158,\n        2.8324403 ,  4.2656816 ]))"
     ]
    }
   ],
   "source": [
    "from sklearn.metrics import classification_report\n",
    "report = classification_report(y_test, predictions)\n",
    "print(report)"
   ]
  },
  {
   "cell_type": "code",
   "execution_count": null,
   "metadata": {},
   "outputs": [],
   "source": [
    "test[\"price\"] = np.expm1(predictions)\n",
    "test['test_id'] = \n",
    "test[[\"test_id\", \"price\"]].to_csv(\"kyungjunism_submission_xgb.csv\", index = False)"
   ]
  },
  {
   "cell_type": "code",
   "execution_count": null,
   "metadata": {},
   "outputs": [],
   "source": []
  }
 ],
 "metadata": {
  "kernelspec": {
   "display_name": "Python 3",
   "language": "python",
   "name": "python3"
  },
  "language_info": {
   "codemirror_mode": {
    "name": "ipython",
    "version": 3
   },
   "file_extension": ".py",
   "mimetype": "text/x-python",
   "name": "python",
   "nbconvert_exporter": "python",
   "pygments_lexer": "ipython3",
   "version": "3.6.2"
  }
 },
 "nbformat": 4,
 "nbformat_minor": 2
}
