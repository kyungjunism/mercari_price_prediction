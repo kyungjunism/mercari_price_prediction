{
 "cells": [
  {
   "cell_type": "code",
   "execution_count": 1,
   "metadata": {},
   "outputs": [],
   "source": [
    "import scipy as sp\n",
    "import pandas as pd\n",
    "import numpy as np\n",
    "import seaborn as sns\n",
    "import matplotlib.pyplot as plt\n",
    "import matplotlib\n",
    "import squarify\n",
    "from sklearn.feature_extraction.text import TfidfVectorizer, CountVectorizer, TfidfTransformer\n",
    "import re\n",
    "import xgboost\n",
    "import scipy\n",
    "from sklearn.model_selection import train_test_split, GridSearchCV\n",
    "import sklearn\n",
    "from sklearn.metrics import mean_squared_log_error\n",
    "import ipdb\n",
    "from sklearn.linear_model import RidgeCV, Ridge, Lasso"
   ]
  },
  {
   "cell_type": "code",
   "execution_count": 2,
   "metadata": {},
   "outputs": [
    {
     "data": {
      "text/html": [
       "<div>\n",
       "<style>\n",
       "    .dataframe thead tr:only-child th {\n",
       "        text-align: right;\n",
       "    }\n",
       "\n",
       "    .dataframe thead th {\n",
       "        text-align: left;\n",
       "    }\n",
       "\n",
       "    .dataframe tbody tr th {\n",
       "        vertical-align: top;\n",
       "    }\n",
       "</style>\n",
       "<table border=\"1\" class=\"dataframe\">\n",
       "  <thead>\n",
       "    <tr style=\"text-align: right;\">\n",
       "      <th></th>\n",
       "      <th>train_id</th>\n",
       "      <th>name</th>\n",
       "      <th>item_condition_id</th>\n",
       "      <th>category_name</th>\n",
       "      <th>brand_name</th>\n",
       "      <th>price</th>\n",
       "      <th>shipping</th>\n",
       "      <th>item_description</th>\n",
       "    </tr>\n",
       "  </thead>\n",
       "  <tbody>\n",
       "    <tr>\n",
       "      <th>0</th>\n",
       "      <td>0</td>\n",
       "      <td>MLB Cincinnati Reds T Shirt Size XL</td>\n",
       "      <td>3</td>\n",
       "      <td>Men/Tops/T-shirts</td>\n",
       "      <td>NaN</td>\n",
       "      <td>10.0</td>\n",
       "      <td>1</td>\n",
       "      <td>No description yet</td>\n",
       "    </tr>\n",
       "    <tr>\n",
       "      <th>1</th>\n",
       "      <td>1</td>\n",
       "      <td>Razer BlackWidow Chroma Keyboard</td>\n",
       "      <td>3</td>\n",
       "      <td>Electronics/Computers &amp; Tablets/Components &amp; P...</td>\n",
       "      <td>Razer</td>\n",
       "      <td>52.0</td>\n",
       "      <td>0</td>\n",
       "      <td>This keyboard is in great condition and works ...</td>\n",
       "    </tr>\n",
       "    <tr>\n",
       "      <th>2</th>\n",
       "      <td>2</td>\n",
       "      <td>AVA-VIV Blouse</td>\n",
       "      <td>1</td>\n",
       "      <td>Women/Tops &amp; Blouses/Blouse</td>\n",
       "      <td>Target</td>\n",
       "      <td>10.0</td>\n",
       "      <td>1</td>\n",
       "      <td>Adorable top with a hint of lace and a key hol...</td>\n",
       "    </tr>\n",
       "    <tr>\n",
       "      <th>3</th>\n",
       "      <td>3</td>\n",
       "      <td>Leather Horse Statues</td>\n",
       "      <td>1</td>\n",
       "      <td>Home/Home Décor/Home Décor Accents</td>\n",
       "      <td>NaN</td>\n",
       "      <td>35.0</td>\n",
       "      <td>1</td>\n",
       "      <td>New with tags. Leather horses. Retail for [rm]...</td>\n",
       "    </tr>\n",
       "    <tr>\n",
       "      <th>4</th>\n",
       "      <td>4</td>\n",
       "      <td>24K GOLD plated rose</td>\n",
       "      <td>1</td>\n",
       "      <td>Women/Jewelry/Necklaces</td>\n",
       "      <td>NaN</td>\n",
       "      <td>44.0</td>\n",
       "      <td>0</td>\n",
       "      <td>Complete with certificate of authenticity</td>\n",
       "    </tr>\n",
       "  </tbody>\n",
       "</table>\n",
       "</div>"
      ],
      "text/plain": [
       "   train_id                                 name  item_condition_id  \\\n",
       "0         0  MLB Cincinnati Reds T Shirt Size XL                  3   \n",
       "1         1     Razer BlackWidow Chroma Keyboard                  3   \n",
       "2         2                       AVA-VIV Blouse                  1   \n",
       "3         3                Leather Horse Statues                  1   \n",
       "4         4                 24K GOLD plated rose                  1   \n",
       "\n",
       "                                       category_name brand_name  price  \\\n",
       "0                                  Men/Tops/T-shirts        NaN   10.0   \n",
       "1  Electronics/Computers & Tablets/Components & P...      Razer   52.0   \n",
       "2                        Women/Tops & Blouses/Blouse     Target   10.0   \n",
       "3                 Home/Home Décor/Home Décor Accents        NaN   35.0   \n",
       "4                            Women/Jewelry/Necklaces        NaN   44.0   \n",
       "\n",
       "   shipping                                   item_description  \n",
       "0         1                                 No description yet  \n",
       "1         0  This keyboard is in great condition and works ...  \n",
       "2         1  Adorable top with a hint of lace and a key hol...  \n",
       "3         1  New with tags. Leather horses. Retail for [rm]...  \n",
       "4         0          Complete with certificate of authenticity  "
      ]
     },
     "execution_count": 2,
     "metadata": {},
     "output_type": "execute_result"
    }
   ],
   "source": [
    "data_train = pd.read_csv(\"train.tsv\", sep='\\t', header=0)\n",
    "data_train.head()"
   ]
  },
  {
   "cell_type": "code",
   "execution_count": 3,
   "metadata": {},
   "outputs": [
    {
     "data": {
      "text/html": [
       "<div>\n",
       "<style>\n",
       "    .dataframe thead tr:only-child th {\n",
       "        text-align: right;\n",
       "    }\n",
       "\n",
       "    .dataframe thead th {\n",
       "        text-align: left;\n",
       "    }\n",
       "\n",
       "    .dataframe tbody tr th {\n",
       "        vertical-align: top;\n",
       "    }\n",
       "</style>\n",
       "<table border=\"1\" class=\"dataframe\">\n",
       "  <thead>\n",
       "    <tr style=\"text-align: right;\">\n",
       "      <th></th>\n",
       "      <th>test_id</th>\n",
       "      <th>name</th>\n",
       "      <th>item_condition_id</th>\n",
       "      <th>category_name</th>\n",
       "      <th>brand_name</th>\n",
       "      <th>shipping</th>\n",
       "      <th>item_description</th>\n",
       "    </tr>\n",
       "  </thead>\n",
       "  <tbody>\n",
       "    <tr>\n",
       "      <th>0</th>\n",
       "      <td>0</td>\n",
       "      <td>Breast cancer \"I fight like a girl\" ring</td>\n",
       "      <td>1</td>\n",
       "      <td>Women/Jewelry/Rings</td>\n",
       "      <td>NaN</td>\n",
       "      <td>1</td>\n",
       "      <td>Size 7</td>\n",
       "    </tr>\n",
       "    <tr>\n",
       "      <th>1</th>\n",
       "      <td>1</td>\n",
       "      <td>25 pcs NEW 7.5\"x12\" Kraft Bubble Mailers</td>\n",
       "      <td>1</td>\n",
       "      <td>Other/Office supplies/Shipping Supplies</td>\n",
       "      <td>NaN</td>\n",
       "      <td>1</td>\n",
       "      <td>25 pcs NEW 7.5\"x12\" Kraft Bubble Mailers Lined...</td>\n",
       "    </tr>\n",
       "    <tr>\n",
       "      <th>2</th>\n",
       "      <td>2</td>\n",
       "      <td>Coach bag</td>\n",
       "      <td>1</td>\n",
       "      <td>Vintage &amp; Collectibles/Bags and Purses/Handbag</td>\n",
       "      <td>Coach</td>\n",
       "      <td>1</td>\n",
       "      <td>Brand new coach bag. Bought for [rm] at a Coac...</td>\n",
       "    </tr>\n",
       "    <tr>\n",
       "      <th>3</th>\n",
       "      <td>3</td>\n",
       "      <td>Floral Kimono</td>\n",
       "      <td>2</td>\n",
       "      <td>Women/Sweaters/Cardigan</td>\n",
       "      <td>NaN</td>\n",
       "      <td>0</td>\n",
       "      <td>-floral kimono -never worn -lightweight and pe...</td>\n",
       "    </tr>\n",
       "    <tr>\n",
       "      <th>4</th>\n",
       "      <td>4</td>\n",
       "      <td>Life after Death</td>\n",
       "      <td>3</td>\n",
       "      <td>Other/Books/Religion &amp; Spirituality</td>\n",
       "      <td>NaN</td>\n",
       "      <td>1</td>\n",
       "      <td>Rediscovering life after the loss of a loved o...</td>\n",
       "    </tr>\n",
       "  </tbody>\n",
       "</table>\n",
       "</div>"
      ],
      "text/plain": [
       "   test_id                                      name  item_condition_id  \\\n",
       "0        0  Breast cancer \"I fight like a girl\" ring                  1   \n",
       "1        1  25 pcs NEW 7.5\"x12\" Kraft Bubble Mailers                  1   \n",
       "2        2                                 Coach bag                  1   \n",
       "3        3                             Floral Kimono                  2   \n",
       "4        4                          Life after Death                  3   \n",
       "\n",
       "                                    category_name brand_name  shipping  \\\n",
       "0                             Women/Jewelry/Rings        NaN         1   \n",
       "1         Other/Office supplies/Shipping Supplies        NaN         1   \n",
       "2  Vintage & Collectibles/Bags and Purses/Handbag      Coach         1   \n",
       "3                         Women/Sweaters/Cardigan        NaN         0   \n",
       "4             Other/Books/Religion & Spirituality        NaN         1   \n",
       "\n",
       "                                    item_description  \n",
       "0                                             Size 7  \n",
       "1  25 pcs NEW 7.5\"x12\" Kraft Bubble Mailers Lined...  \n",
       "2  Brand new coach bag. Bought for [rm] at a Coac...  \n",
       "3  -floral kimono -never worn -lightweight and pe...  \n",
       "4  Rediscovering life after the loss of a loved o...  "
      ]
     },
     "execution_count": 3,
     "metadata": {},
     "output_type": "execute_result"
    }
   ],
   "source": [
    "data_test = pd.read_csv(\"test.tsv\", sep='\\t', header=0)\n",
    "data_test.head()"
   ]
  },
  {
   "cell_type": "code",
   "execution_count": 4,
   "metadata": {
    "scrolled": true
   },
   "outputs": [
    {
     "name": "stdout",
     "output_type": "stream",
     "text": [
      "1482535\n"
     ]
    }
   ],
   "source": [
    "data = pd.concat([data_train, data_test], 0)\n",
    "nrow_train = data_train.shape[0]\n",
    "print(nrow_train)\n",
    "y  = np.log1p(data_train[\"price\"])\n",
    "y_train = np.log1p(data_train[\"price\"])"
   ]
  },
  {
   "cell_type": "code",
   "execution_count": 5,
   "metadata": {},
   "outputs": [
    {
     "name": "stderr",
     "output_type": "stream",
     "text": [
      "c:\\users\\kj.park\\appdata\\local\\programs\\python\\python36\\lib\\site-packages\\ipykernel_launcher.py:1: FutureWarning: currently extract(expand=None) means expand=False (return Index/Series/DataFrame) but in a future version of pandas this will be changed to expand=True (return DataFrame)\n",
      "  \"\"\"Entry point for launching an IPython kernel.\n",
      "c:\\users\\kj.park\\appdata\\local\\programs\\python\\python36\\lib\\site-packages\\ipykernel_launcher.py:2: FutureWarning: currently extract(expand=None) means expand=False (return Index/Series/DataFrame) but in a future version of pandas this will be changed to expand=True (return DataFrame)\n",
      "  \n"
     ]
    }
   ],
   "source": [
    "data['primary_cat'] = data.category_name.str.extract('([^/]+)/[^/]+/[^/]+')\n",
    "data['secondary_cat'] = data.category_name.str.extract('[^/]+/([^/]+/[^/]+)')"
   ]
  },
  {
   "cell_type": "code",
   "execution_count": 6,
   "metadata": {
    "scrolled": false
   },
   "outputs": [
    {
     "name": "stdout",
     "output_type": "stream",
     "text": [
      "<class 'pandas.core.frame.DataFrame'>\n",
      "Int64Index: 2175894 entries, 0 to 693358\n",
      "Data columns (total 11 columns):\n",
      "brand_name           object\n",
      "category_name        object\n",
      "item_condition_id    int64\n",
      "item_description     object\n",
      "name                 object\n",
      "price                float64\n",
      "shipping             int64\n",
      "test_id              float64\n",
      "train_id             float64\n",
      "primary_cat          object\n",
      "secondary_cat        object\n",
      "dtypes: float64(3), int64(2), object(6)\n",
      "memory usage: 199.2+ MB\n"
     ]
    }
   ],
   "source": [
    "non_text = [',','-','.','&','%','#', '(',')','[',']','*','!','✨','▪️','\"','~',\"'\", '<', '>', '®','™']\n",
    "for symbols in non_text: \n",
    "    data['primary_cat'] = data['primary_cat'].str.replace(symbols, '') \n",
    "    data['secondary_cat'] = data['secondary_cat'].str.replace(symbols, '') \n",
    "    data['item_description'] = data['item_description'].str.replace(symbols, '') \n",
    "    data['brand_name'] = data['brand_name'].str.replace(symbols, '')\n",
    "    data['name'] = data['name'].str.replace(symbols, '')\n",
    "data.info()"
   ]
  },
  {
   "cell_type": "code",
   "execution_count": 7,
   "metadata": {
    "scrolled": true
   },
   "outputs": [],
   "source": [
    "data = data.apply(lambda x: x.astype(str).str.lower())"
   ]
  },
  {
   "cell_type": "code",
   "execution_count": 8,
   "metadata": {
    "scrolled": true
   },
   "outputs": [
    {
     "data": {
      "text/html": [
       "<div>\n",
       "<style>\n",
       "    .dataframe thead tr:only-child th {\n",
       "        text-align: right;\n",
       "    }\n",
       "\n",
       "    .dataframe thead th {\n",
       "        text-align: left;\n",
       "    }\n",
       "\n",
       "    .dataframe tbody tr th {\n",
       "        vertical-align: top;\n",
       "    }\n",
       "</style>\n",
       "<table border=\"1\" class=\"dataframe\">\n",
       "  <thead>\n",
       "    <tr style=\"text-align: right;\">\n",
       "      <th></th>\n",
       "      <th>brand_name</th>\n",
       "      <th>category_name</th>\n",
       "      <th>item_condition_id</th>\n",
       "      <th>item_description</th>\n",
       "      <th>name</th>\n",
       "      <th>price</th>\n",
       "      <th>shipping</th>\n",
       "      <th>test_id</th>\n",
       "      <th>train_id</th>\n",
       "      <th>primary_cat</th>\n",
       "      <th>secondary_cat</th>\n",
       "    </tr>\n",
       "  </thead>\n",
       "  <tbody>\n",
       "    <tr>\n",
       "      <th>0</th>\n",
       "      <td>nan</td>\n",
       "      <td>men/tops/t-shirts</td>\n",
       "      <td>3</td>\n",
       "      <td>no description yet</td>\n",
       "      <td>mlb cincinnati reds t shirt size xl</td>\n",
       "      <td>10.0</td>\n",
       "      <td>1</td>\n",
       "      <td>nan</td>\n",
       "      <td>0.0</td>\n",
       "      <td>men</td>\n",
       "      <td>tops/tshirts</td>\n",
       "    </tr>\n",
       "    <tr>\n",
       "      <th>1</th>\n",
       "      <td>razer</td>\n",
       "      <td>electronics/computers &amp; tablets/components &amp; p...</td>\n",
       "      <td>3</td>\n",
       "      <td>this keyboard is in great condition and works ...</td>\n",
       "      <td>razer blackwidow chroma keyboard</td>\n",
       "      <td>52.0</td>\n",
       "      <td>0</td>\n",
       "      <td>nan</td>\n",
       "      <td>1.0</td>\n",
       "      <td>electronics</td>\n",
       "      <td>computers  tablets/components  parts</td>\n",
       "    </tr>\n",
       "    <tr>\n",
       "      <th>2</th>\n",
       "      <td>target</td>\n",
       "      <td>women/tops &amp; blouses/blouse</td>\n",
       "      <td>1</td>\n",
       "      <td>adorable top with a hint of lace and a key hol...</td>\n",
       "      <td>avaviv blouse</td>\n",
       "      <td>10.0</td>\n",
       "      <td>1</td>\n",
       "      <td>nan</td>\n",
       "      <td>2.0</td>\n",
       "      <td>women</td>\n",
       "      <td>tops  blouses/blouse</td>\n",
       "    </tr>\n",
       "    <tr>\n",
       "      <th>3</th>\n",
       "      <td>nan</td>\n",
       "      <td>home/home décor/home décor accents</td>\n",
       "      <td>1</td>\n",
       "      <td>new with tags leather horses retail for rm eac...</td>\n",
       "      <td>leather horse statues</td>\n",
       "      <td>35.0</td>\n",
       "      <td>1</td>\n",
       "      <td>nan</td>\n",
       "      <td>3.0</td>\n",
       "      <td>home</td>\n",
       "      <td>home décor/home décor accents</td>\n",
       "    </tr>\n",
       "    <tr>\n",
       "      <th>4</th>\n",
       "      <td>nan</td>\n",
       "      <td>women/jewelry/necklaces</td>\n",
       "      <td>1</td>\n",
       "      <td>complete with certificate of authenticity</td>\n",
       "      <td>24k gold plated rose</td>\n",
       "      <td>44.0</td>\n",
       "      <td>0</td>\n",
       "      <td>nan</td>\n",
       "      <td>4.0</td>\n",
       "      <td>women</td>\n",
       "      <td>jewelry/necklaces</td>\n",
       "    </tr>\n",
       "  </tbody>\n",
       "</table>\n",
       "</div>"
      ],
      "text/plain": [
       "  brand_name                                      category_name  \\\n",
       "0        nan                                  men/tops/t-shirts   \n",
       "1      razer  electronics/computers & tablets/components & p...   \n",
       "2     target                        women/tops & blouses/blouse   \n",
       "3        nan                 home/home décor/home décor accents   \n",
       "4        nan                            women/jewelry/necklaces   \n",
       "\n",
       "  item_condition_id                                   item_description  \\\n",
       "0                 3                                 no description yet   \n",
       "1                 3  this keyboard is in great condition and works ...   \n",
       "2                 1  adorable top with a hint of lace and a key hol...   \n",
       "3                 1  new with tags leather horses retail for rm eac...   \n",
       "4                 1          complete with certificate of authenticity   \n",
       "\n",
       "                                  name price shipping test_id train_id  \\\n",
       "0  mlb cincinnati reds t shirt size xl  10.0        1     nan      0.0   \n",
       "1     razer blackwidow chroma keyboard  52.0        0     nan      1.0   \n",
       "2                        avaviv blouse  10.0        1     nan      2.0   \n",
       "3                leather horse statues  35.0        1     nan      3.0   \n",
       "4                 24k gold plated rose  44.0        0     nan      4.0   \n",
       "\n",
       "   primary_cat                         secondary_cat  \n",
       "0          men                          tops/tshirts  \n",
       "1  electronics  computers  tablets/components  parts  \n",
       "2        women                  tops  blouses/blouse  \n",
       "3         home         home décor/home décor accents  \n",
       "4        women                     jewelry/necklaces  "
      ]
     },
     "execution_count": 8,
     "metadata": {},
     "output_type": "execute_result"
    }
   ],
   "source": [
    "data.head()"
   ]
  },
  {
   "cell_type": "code",
   "execution_count": 9,
   "metadata": {
    "scrolled": false
   },
   "outputs": [
    {
     "name": "stdout",
     "output_type": "stream",
     "text": [
      "0\n",
      "0\n",
      "0\n",
      "0\n",
      "0\n"
     ]
    }
   ],
   "source": [
    "features = [data['name'], data['brand_name'] ,data['item_description'] ,data['primary_cat'], data['secondary_cat']]\n",
    "for x in features:\n",
    "    x = x.fillna(value = 'none', inplace=False, axis=0)\n",
    "    print(x.isnull().sum())"
   ]
  },
  {
   "cell_type": "code",
   "execution_count": 10,
   "metadata": {},
   "outputs": [],
   "source": [
    "def tokenizer(text):\n",
    "    if text:\n",
    "        result = re.findall('[a-z]{2,}', text.lower())\n",
    "    else:\n",
    "        result = []\n",
    "    return result"
   ]
  },
  {
   "cell_type": "code",
   "execution_count": 11,
   "metadata": {},
   "outputs": [],
   "source": [
    "#combining all text values within one variable X_text\n",
    "X_text = (data['name'] + ' ' + data['brand_name'] + ' ' +\n",
    "          data['item_description'] + ' ' + data['primary_cat'] + ' ' + \n",
    "          data['secondary_cat']).values"
   ]
  },
  {
   "cell_type": "code",
   "execution_count": 12,
   "metadata": {},
   "outputs": [
    {
     "data": {
      "text/plain": [
       "array([ 'mlb cincinnati reds t shirt size xl nan no description yet men tops/tshirts',\n",
       "       'razer blackwidow chroma keyboard razer this keyboard is in great condition and works like it came out of the box all of the ports are tested and work perfectly the lights are customizable via the razer synapse app on your pc electronics computers  tablets/components  parts',\n",
       "       'avaviv blouse target adorable top with a hint of lace and a key hole in the back the pale pink is a 1x and i also have a 3x available in white women tops  blouses/blouse',\n",
       "       ...,\n",
       "       'galaxy s8 hard shell case nan new free shipping basstop case electronics cell phones  accessories/cases covers  skins',\n",
       "       'hi low floral kimono nan floral kimono tropical print open front hi low design great for layering or as a cover up women swimwear/coverups',\n",
       "       'freeship 2 floral scrub tops medium nan 2 floral scrub tops worn less than 5 times each brown has a belt tie women tops  blouses/tshirts'], dtype=object)"
      ]
     },
     "execution_count": 12,
     "metadata": {},
     "output_type": "execute_result"
    }
   ],
   "source": [
    "X_text"
   ]
  },
  {
   "cell_type": "code",
   "execution_count": 13,
   "metadata": {},
   "outputs": [],
   "source": [
    "#instantiating a TFidVectorizer\n",
    "count_desc = TfidfVectorizer(tokenizer=tokenizer, max_features = 50000, ngram_range = (1,3),stop_words = \"english\")"
   ]
  },
  {
   "cell_type": "code",
   "execution_count": 14,
   "metadata": {},
   "outputs": [],
   "source": [
    "X_text = count_desc.fit_transform(X_text)"
   ]
  },
  {
   "cell_type": "code",
   "execution_count": 15,
   "metadata": {},
   "outputs": [
    {
     "data": {
      "text/plain": [
       "<2175894x50000 sparse matrix of type '<class 'numpy.float64'>'\n",
       "\twith 78711917 stored elements in Compressed Sparse Row format>"
      ]
     },
     "execution_count": 15,
     "metadata": {},
     "output_type": "execute_result"
    }
   ],
   "source": [
    "X_text"
   ]
  },
  {
   "cell_type": "code",
   "execution_count": 16,
   "metadata": {},
   "outputs": [],
   "source": [
    "#Getting dummies for the non_text values for item_condition with range (1-5) and shipping (0,1)\n",
    "X_dummies = scipy.sparse.csr_matrix(pd.get_dummies(data[[\n",
    "    \"item_condition_id\", \"shipping\"]], sparse = True).values)"
   ]
  },
  {
   "cell_type": "code",
   "execution_count": 17,
   "metadata": {},
   "outputs": [],
   "source": [
    "#re-combining transformed features into one X value:\n",
    "X = scipy.sparse.hstack((X_dummies, X_text)).tocsr()"
   ]
  },
  {
   "cell_type": "code",
   "execution_count": 18,
   "metadata": {},
   "outputs": [],
   "source": [
    "X_training = X[:nrow_train]\n",
    "X_testing = X[nrow_train:]"
   ]
  },
  {
   "cell_type": "code",
   "execution_count": 19,
   "metadata": {},
   "outputs": [
    {
     "name": "stdout",
     "output_type": "stream",
     "text": [
      "(1482535, 50007)\n",
      "(1482535,)\n"
     ]
    }
   ],
   "source": [
    "print(X_training.shape)\n",
    "print(y.shape)"
   ]
  },
  {
   "cell_type": "code",
   "execution_count": 20,
   "metadata": {},
   "outputs": [],
   "source": [
    "X_train, X_test, y_train, y_test = train_test_split(X_training, y, test_size=0.4, random_state=42)"
   ]
  },
  {
   "cell_type": "code",
   "execution_count": 21,
   "metadata": {
    "scrolled": true
   },
   "outputs": [
    {
     "name": "stdout",
     "output_type": "stream",
     "text": [
      "(889521, 50007)\n",
      "(889521,)\n"
     ]
    }
   ],
   "source": [
    "print(X_train.shape)\n",
    "print(y_train.shape)"
   ]
  },
  {
   "cell_type": "code",
   "execution_count": null,
   "metadata": {},
   "outputs": [
    {
     "name": "stdout",
     "output_type": "stream",
     "text": [
      "Ridge: 0.581129232493\n",
      "Lasso: -1.16485878458e-05\n"
     ]
    }
   ],
   "source": [
    "from sklearn.model_selection import cross_val_score\n",
    "from sklearn.linear_model import Ridge, Lasso\n",
    "\n",
    "for Model in [Ridge, Lasso]:\n",
    "    model = Model()\n",
    "    print('%s: %s' % (Model.__name__,\n",
    "                      cross_val_score(model, X_train, y_train).mean()))"
   ]
  },
  {
   "cell_type": "code",
   "execution_count": null,
   "metadata": {},
   "outputs": [],
   "source": [
    "alphas = np.logspace(-3, -1, 30)\n",
    "\n",
    "plt.figure(figsize=(5, 3))\n",
    "\n",
    "for Model in [Lasso, Ridge]:\n",
    "    scores = [cross_val_score(Model(alpha), X_train, y_train, cv=3).mean()\n",
    "            for alpha in alphas]\n",
    "    plt.plot(alphas, scores, label=Model.__name__)\n",
    "\n",
    "plt.legend(loc='lower left')\n",
    "plt.xlabel('alpha')\n",
    "plt.ylabel('cross validation score')\n",
    "plt.tight_layout()\n",
    "plt.show()"
   ]
  },
  {
   "cell_type": "code",
   "execution_count": null,
   "metadata": {
    "scrolled": true
   },
   "outputs": [],
   "source": [
    "from sklearn.linear_model import Ridge\n",
    "\n",
    "#SGDRegressor is for when one is adding more data as we go. Linear Regresion would be a better fit for this problem.\n",
    "#Make sure to regularize. Make sure paramter used to regularize is tested in gridsearch.\n",
    "#Regularization for regression. Adds penalties\n",
    "#Ridge is generally used for regularization (method of linear regression to reduce overfitting. Adding term of cost function)\n",
    "#R^2 Directly related to RMSE but takes out relation to units we're using. Need to pair with normalization of data.\n",
    "#alpha = regularization term\n",
    "#Check best_params for gscv\n",
    "\n",
    "model = Ridge()\n",
    "params={'alpha': [2,1.0,0.8,0.5,0.3,0.2,0.1,0.05,0.01]}\n",
    "gscv = GridSearchCV(estimator=model,\n",
    "                  param_grid=params,\n",
    "                  scoring='neg_mean_squared_log_error',\n",
    "                  n_jobs=1,\n",
    "                  cv=5,\n",
    "                  verbose=3)\n",
    "\n",
    "gscv.fit(X_train, y_train)\n",
    "#best estimators\n",
    "print(gscv.best_estimator_)\n",
    "#printing best scores\n",
    "print(gscv.best_score_)\n",
    "#printing best parameters for optimal parameter tuning\n",
    "print(gscv.best_params_)\n",
    "\n",
    "\n",
    "#Ridge(alpha=2, copy_X=True, fit_intercept=True, max_iter=None,\n",
    "#   normalize=False, random_state=None, solver='auto', tol=0.001)\n",
    "#-0.0153163715869\n",
    "#{'alpha': 2}"
   ]
  },
  {
   "cell_type": "code",
   "execution_count": null,
   "metadata": {},
   "outputs": [],
   "source": [
    "pd.DataFrame(gscv.cv_results_)"
   ]
  },
  {
   "cell_type": "code",
   "execution_count": null,
   "metadata": {},
   "outputs": [],
   "source": [
    "predictions = gscv.predict(X_test)\n",
    "#Would need to do a root mean squared error on the predictions vs real y_test.\n",
    "from sklearn.metrics import mean_squared_error\n",
    "from math import sqrt\n",
    "\n",
    "rmsle = sqrt(mean_squared_error(y_test, predictions))"
   ]
  },
  {
   "cell_type": "code",
   "execution_count": null,
   "metadata": {
    "scrolled": true
   },
   "outputs": [],
   "source": [
    "print(rmsle)"
   ]
  },
  {
   "cell_type": "code",
   "execution_count": null,
   "metadata": {},
   "outputs": [],
   "source": [
    "#The optimal parameteres from GridSearchCV\n",
    "ridge = Ridge(alpha=2, copy_X=True, fit_intercept=True, max_iter=None, \n",
    "              normalize=False, random_state=None, solver='auto', tol=0.001)"
   ]
  },
  {
   "cell_type": "code",
   "execution_count": null,
   "metadata": {},
   "outputs": [],
   "source": [
    "ridge.fit(X_train, y_train)"
   ]
  },
  {
   "cell_type": "code",
   "execution_count": null,
   "metadata": {},
   "outputs": [],
   "source": [
    "predictions = ridge.predict(X_test)"
   ]
  },
  {
   "cell_type": "code",
   "execution_count": null,
   "metadata": {},
   "outputs": [],
   "source": [
    "rmsle = sqrt(mean_squared_error(y_test, predictions))\n",
    "print(rmsle)"
   ]
  },
  {
   "cell_type": "markdown",
   "metadata": {},
   "source": [
    "Slightly better! Let's see if Linear Regression makes it any better:"
   ]
  },
  {
   "cell_type": "code",
   "execution_count": null,
   "metadata": {},
   "outputs": [],
   "source": [
    "from sklearn.linear_model import Lasso\n",
    "\n",
    "#SGDRegressor is for when one is adding more data as we go. Linear Regresion would be a better fit for this problem.\n",
    "#Make sure to regularize. Make sure paramter used to regularize is tested in gridsearch.\n",
    "#Regularization for regression. Adds penalties\n",
    "#Ridge is generally used for regularization (method of linear regression to reduce overfitting. Adding term of cost function)\n",
    "#R^2 Directly related to RMSE but takes out relation to units we're using. Need to pair with normalization of data.\n",
    "#alpha = regularization term\n",
    "#Check best_params for gscv\n",
    "\n",
    "model = Lasso()\n",
    "params={'alpha': [2,1.0,0.8,0.5,0.3,0.2,0.1,0.05,0.01]}\n",
    "gscv = GridSearchCV(estimator=model,\n",
    "                  param_grid=params,\n",
    "                  scoring='neg_mean_squared_log_error',\n",
    "                  n_jobs=1,\n",
    "                  cv=5,\n",
    "                  verbose=3)\n",
    "\n",
    "gscv.fit(X_train, y_train)\n",
    "#best estimators\n",
    "print(gscv.best_estimator_)\n",
    "#printing best scores\n",
    "print(gscv.best_score_)\n",
    "#printing best parameters for optimal parameter tuning\n",
    "print(gscv.best_params_)\n",
    "\n"
   ]
  },
  {
   "cell_type": "code",
   "execution_count": null,
   "metadata": {},
   "outputs": [],
   "source": []
  },
  {
   "cell_type": "code",
   "execution_count": null,
   "metadata": {},
   "outputs": [],
   "source": []
  },
  {
   "cell_type": "code",
   "execution_count": null,
   "metadata": {},
   "outputs": [],
   "source": []
  },
  {
   "cell_type": "code",
   "execution_count": null,
   "metadata": {},
   "outputs": [],
   "source": []
  },
  {
   "cell_type": "code",
   "execution_count": null,
   "metadata": {},
   "outputs": [],
   "source": [
    "test[\"price\"] = np.expm1(predictions)\n",
    "test['test_id'] = \n",
    "test[[\"test_id\", \"price\"]].to_csv(\"kyungjunism_submission_xgb.csv\", index = False)"
   ]
  },
  {
   "cell_type": "code",
   "execution_count": null,
   "metadata": {},
   "outputs": [],
   "source": []
  }
 ],
 "metadata": {
  "kernelspec": {
   "display_name": "Python 3",
   "language": "python",
   "name": "python3"
  },
  "language_info": {
   "codemirror_mode": {
    "name": "ipython",
    "version": 3
   },
   "file_extension": ".py",
   "mimetype": "text/x-python",
   "name": "python",
   "nbconvert_exporter": "python",
   "pygments_lexer": "ipython3",
   "version": "3.6.2"
  }
 },
 "nbformat": 4,
 "nbformat_minor": 2
}
